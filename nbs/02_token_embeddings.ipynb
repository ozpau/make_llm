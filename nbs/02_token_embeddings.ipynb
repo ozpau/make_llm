{
 "cells": [
  {
   "cell_type": "markdown",
   "id": "a8b6bbcc-71cc-429c-bdde-ea3b203046c4",
   "metadata": {},
   "source": [
    "# LLM token embeddings\n",
    "\n",
    "> In this blog post I'll explore the structure of token embeddings in large language models.\n",
    "\n",
    "- skip_exec: true"
   ]
  },
  {
   "cell_type": "code",
   "execution_count": null,
   "id": "06a06252-ab39-4baf-8653-79442f719161",
   "metadata": {},
   "outputs": [],
   "source": [
    "#| default_exp token_embeddings"
   ]
  },
  {
   "cell_type": "code",
   "execution_count": null,
   "id": "3ce90855-1730-4826-b547-ff7e570a95a8",
   "metadata": {},
   "outputs": [],
   "source": [
    "#| hide\n",
    "from nbdev.showdoc import *"
   ]
  },
  {
   "cell_type": "code",
   "execution_count": null,
   "id": "e1a35cf4-e714-4d9e-a13d-ed34d9c1eee0",
   "metadata": {},
   "outputs": [],
   "source": [
    "#from transformers import pipeline"
   ]
  },
  {
   "cell_type": "code",
   "execution_count": null,
   "id": "c5a4686c-6205-4a9f-b0dd-0a12e3dba2f4",
   "metadata": {},
   "outputs": [],
   "source": [
    "# Doesn't produce any content (probably using incorrectly)\n",
    "#pipe = pipeline(\"text-generation\", model=\"nroggendorff/smallama-it\")\n",
    "#pipe = pipeline(\"text-generation\", model=\"KingNish/Qwen2.5-0.5b-Test-ft\")"
   ]
  },
  {
   "cell_type": "code",
   "execution_count": null,
   "id": "30c3d0ed-0f75-4f7d-b14f-08acb8f9f254",
   "metadata": {},
   "outputs": [],
   "source": [
    "#| export\n",
    "import fastai\n",
    "import fastai.torch_core\n",
    "import numpy as np\n",
    "import torch\n",
    "import matplotlib.pyplot as plt\n",
    "from transformers import AutoModelForCausalLM, AutoTokenizer\n",
    "import gc\n",
    "import pandas as pd\n",
    "from fastcore.all import *\n",
    "from IPython.display import display_markdown"
   ]
  },
  {
   "cell_type": "code",
   "execution_count": null,
   "id": "9bb4b8f8-a5da-40cf-acca-e175122c7c92",
   "metadata": {},
   "outputs": [],
   "source": [
    "def clean_memory():\n",
    "    with torch.no_grad():\n",
    "        torch.cuda.empty_cache()\n",
    "    gc.collect()"
   ]
  },
  {
   "cell_type": "markdown",
   "id": "7adca35b-57ce-40c1-b635-4beae2e836ff",
   "metadata": {},
   "source": [
    "For our experiments let's grab a small language model. In this case, I will use Qwen2.5-0.5B. It fits in just about 1GB of VRAM, so it's great for experimentation!"
   ]
  },
  {
   "cell_type": "code",
   "execution_count": null,
   "id": "1165c67b-4074-4b5d-b91a-6f05b3ca7f64",
   "metadata": {},
   "outputs": [
    {
     "name": "stderr",
     "output_type": "stream",
     "text": [
      "2025-02-25 01:22:48.553363: E external/local_xla/xla/stream_executor/cuda/cuda_fft.cc:477] Unable to register cuFFT factory: Attempting to register factory for plugin cuFFT when one has already been registered\n",
      "WARNING: All log messages before absl::InitializeLog() is called are written to STDERR\n",
      "E0000 00:00:1740475368.575449   32363 cuda_dnn.cc:8310] Unable to register cuDNN factory: Attempting to register factory for plugin cuDNN when one has already been registered\n",
      "E0000 00:00:1740475368.582244   32363 cuda_blas.cc:1418] Unable to register cuBLAS factory: Attempting to register factory for plugin cuBLAS when one has already been registered\n"
     ]
    }
   ],
   "source": [
    "model_name = \"Qwen/Qwen2.5-0.5B-Instruct\"\n",
    "\n",
    "model = AutoModelForCausalLM.from_pretrained(\n",
    "    model_name,\n",
    "    torch_dtype=\"auto\",\n",
    "    device_map=\"auto\"\n",
    ")\n",
    "tokenizer = AutoTokenizer.from_pretrained(model_name)"
   ]
  },
  {
   "cell_type": "markdown",
   "id": "93b7dd1e-9b10-4894-bf33-4c8c450e80d4",
   "metadata": {},
   "source": [
    "## Generate text"
   ]
  },
  {
   "cell_type": "markdown",
   "id": "04dff1d1-a13c-44b8-b78a-c33634eae03e",
   "metadata": {},
   "source": [
    "Even though this model is small, it can still generate coherent text:"
   ]
  },
  {
   "cell_type": "code",
   "execution_count": null,
   "id": "1886a78c-acbf-450b-9045-58ec4e3597fb",
   "metadata": {},
   "outputs": [],
   "source": [
    "def demo(max_new_tokens=2048,prompt=None):\n",
    "    if not prompt:\n",
    "        prompt = \"Write an introduction for a blog post about large language model token embeddings. Tags: PCA, layer sizes, nearest neighbours, KDTree, singular values.\"\n",
    "    messages = [\n",
    "        {\"role\": \"system\", \"content\": \"You are an autocorrelating model. You use previous outputs for reasoning. Pay attention to tags.\"},\n",
    "        {\"role\": \"user\", \"content\": prompt}\n",
    "    ]\n",
    "    text = tokenizer.apply_chat_template(\n",
    "        messages,\n",
    "        tokenize=False,\n",
    "        add_generation_prompt=True\n",
    "    )\n",
    "    model_inputs = tokenizer([text], return_tensors=\"pt\").to(model.device)\n",
    "    \n",
    "    generated_ids = model.generate(\n",
    "        **model_inputs,\n",
    "        max_new_tokens=max_new_tokens\n",
    "    )\n",
    "    generated_ids = [\n",
    "        output_ids[len(input_ids):] for input_ids, output_ids in zip(model_inputs.input_ids, generated_ids)\n",
    "    ]\n",
    "    \n",
    "    response = tokenizer.batch_decode(generated_ids, skip_special_tokens=True)[0]\n",
    "    \n",
    "    display_markdown(response, raw=True)"
   ]
  },
  {
   "cell_type": "code",
   "execution_count": null,
   "id": "f45388dc-7127-40df-9f51-11940f1167f4",
   "metadata": {},
   "outputs": [
    {
     "data": {
      "text/markdown": [
       "Welcome to our blog where we explore the fascinating world of large language models and their intricate relationship with neural networks, specifically focusing on token embeddings. As you delve deeper into this topic, you'll uncover how these mathematical constructs play a crucial role in understanding complex natural language processing tasks.\n",
       "\n",
       "In today's era of artificial intelligence, large language models have emerged as indispensable tools capable of generating human-like text. However, they often struggle with handling high-dimensional data due to their computational demands. One solution that has proven effective is token embedding, which converts words into numerical representations using vectors. This technique significantly enhances the performance of language models by reducing the dimensionality of input data.\n",
       "\n",
       "One method used to achieve this is through the application of Principal Component Analysis (PCA) to reduce the complexity of the data while preserving most of its variance. By analyzing the first few principal components, we can effectively represent the underlying structure of the data. This approach is particularly useful when dealing with large datasets or when the number of features exceeds the capacity of traditional methods like k-nearest neighbors or KD-trees.\n",
       "\n",
       "Another powerful technique is utilizing the concept of layer sizes in deep learning. Understanding the architecture of a network helps us comprehend how information flows between layers and what kind of patterns emerge at each stage. By examining the learned weights and activations from different layers, we gain insights into the function of each component in the neural network.\n",
       "\n",
       "Lastly, we delve into the realm of Singular Value Decomposition (SVD), which is employed to extract the essential features of the dataset. SVD decomposes the input matrix into three parts: the left singular vectors, the right singular vectors, and the diagonal matrix containing the singular values. These components allow us to visualize the importance of various features in the context of the entire dataset.\n",
       "\n",
       "Understanding these techniques and their interplay within the framework of large language models will provide you with valuable insights into the complexities involved in training and deploying such models. Whether you're a seasoned AI researcher or just starting out, exploring these concepts can lead to significant advancements in your work. Stay tuned for more updates and stay curious!"
      ]
     },
     "metadata": {},
     "output_type": "display_data"
    }
   ],
   "source": [
    "demo()"
   ]
  },
  {
   "cell_type": "code",
   "execution_count": null,
   "id": "f2c7b262-0d6c-463f-92d9-66a1ec9e89f6",
   "metadata": {},
   "outputs": [
    {
     "data": {
      "text/markdown": [
       "Welcome to our blog post exploring the fascinating world of large language models and their groundbreaking advancements in text generation! In this article, we delve into the complex world of token embeddings, which play a crucial role in understanding how these models process and generate human-like language. We'll dive deep into the intricacies of PCA (Principal Component Analysis), layer sizes, nearest neighbors, KDTree (K-D Tree) implementation, and singular values, providing a comprehensive overview of the topic.\n",
       "\n",
       "From understanding the importance of token embeddings in natural language processing to mastering advanced techniques like nearest neighbors and KDTree implementations, you'll discover not only the technical aspects but also the practical applications that these methods have revolutionized. Whether you're a seasoned data scientist or just starting out in the field, this blog post promises to be an enlightening journey through the depths of machine learning and natural language processing. So grab your notebook and get ready to explore the next frontier in AI technology!"
      ]
     },
     "metadata": {},
     "output_type": "display_data"
    }
   ],
   "source": [
    "demo()"
   ]
  },
  {
   "cell_type": "code",
   "execution_count": null,
   "id": "38eb034b-e4ce-4c4d-9d4e-c632831197aa",
   "metadata": {},
   "outputs": [
    {
     "data": {
      "text/markdown": [
       "In today's digital age, the role of large language models (LLMs) in various fields has become increasingly prominent. These models, particularly those trained on large datasets, have generated significant advancements across several domains such as natural language processing (NLP), speech recognition, and more recently, text generation. However, one aspect that has not been fully explored is the representation of input data within these LLMs—a critical yet often overlooked step in their training process.\n",
       "\n",
       "Large language models rely heavily on understanding the context of inputs they encounter during their training phase. To achieve this, they employ embedding layers to convert textual data into numerical vectors. This conversion involves capturing both the meaning of the words themselves as well as contextual information that might be present. The goal is to map the raw text data into a higher-dimensional space where it can be effectively analyzed by the model. This process is known as tokenization or vectorization.\n",
       "\n",
       "PCA (Principal Component Analysis) plays a pivotal role in this process because it helps identify the most important features in the dataset. By analyzing the variance captured by each principal component, we can understand which aspects of the input data are most relevant for the model's performance. Layer sizes, specifically the number of hidden units in the neural networks, significantly influence the complexity and dimensionality of the embedding space. The choice between dense and sparse layers depends on the nature of the task at hand; dense layers are used when there is ample context available, whereas sparse layers are preferred when the context is sparse.\n",
       "\n",
       "Nearest Neighbors (NN) techniques are essential for learning embeddings based on proximity to other tokens. KDTree (K-d Tree) algorithms efficiently store and query point sets, making them ideal for spatially distributed data like text documents. The selection of optimal parameters for these algorithms, including tree depth and leaf size, is crucial for achieving effective token embeddings.\n",
       "\n",
       "Singular Value Decomposition (SVD) is another powerful tool for understanding the structure of the input data. It decomposes the matrix formed by the embedding vectors into three matrices—U, Σ, and V^T—and provides insights into how much of the total variance is explained by each feature. This decomposition allows us to understand the relative importance of different dimensions in the embedding space.\n",
       "\n",
       "Understanding these components—PCA, layer sizes, nearest neighbors, KDTree, and SVD—can greatly enhance our comprehension of how LLMs handle and represent input data. This knowledge will be invaluable in optimizing the training process, improving model performance, and leveraging the full potential of these powerful tools."
      ]
     },
     "metadata": {},
     "output_type": "display_data"
    }
   ],
   "source": [
    "demo()"
   ]
  },
  {
   "cell_type": "markdown",
   "id": "a5acbfba-96f2-41f5-96c8-660101eb2b43",
   "metadata": {},
   "source": [
    "## LLM Parameters"
   ]
  },
  {
   "cell_type": "markdown",
   "id": "3566c64d-d27e-413b-9020-bba29199d1e7",
   "metadata": {},
   "source": [
    "An LLM is made from an embedding layer, followed by transformer layers. Let's look at their sizes:"
   ]
  },
  {
   "cell_type": "code",
   "execution_count": null,
   "id": "599ada1c-9543-4af3-8ef6-fbb100fea498",
   "metadata": {},
   "outputs": [
    {
     "data": {
      "text/plain": [
       "[(136134656, torch.Size([151936, 896])),\n",
       " (802816, torch.Size([896, 896])),\n",
       " (896, torch.Size([896])),\n",
       " (114688, torch.Size([128, 896])),\n",
       " (128, torch.Size([128])),\n",
       " (114688, torch.Size([128, 896])),\n",
       " (128, torch.Size([128])),\n",
       " (802816, torch.Size([896, 896])),\n",
       " (4358144, torch.Size([4864, 896])),\n",
       " (4358144, torch.Size([4864, 896]))]"
      ]
     },
     "execution_count": null,
     "metadata": {},
     "output_type": "execute_result"
    }
   ],
   "source": [
    "sizes = list(map(lambda x: (np.prod(x.shape), x.shape), model.model.parameters()))\n",
    "sizes[:10]"
   ]
  },
  {
   "cell_type": "markdown",
   "id": "c04b213c-d9e9-4794-85c6-50fa70ccbb1e",
   "metadata": {},
   "source": [
    "Size of the embedding layer seems to dominate model size for this particular model:"
   ]
  },
  {
   "cell_type": "code",
   "execution_count": null,
   "id": "5f59f3aa-b3c1-4931-9475-507090446904",
   "metadata": {},
   "outputs": [
    {
     "data": {
      "text/plain": [
       "<Axes: >"
      ]
     },
     "execution_count": null,
     "metadata": {},
     "output_type": "execute_result"
    },
    {
     "data": {
      "image/png": "[encoded data removed]",
      "text/plain": [
       "<Figure size 640x480 with 1 Axes>"
      ]
     },
     "metadata": {},
     "output_type": "display_data"
    }
   ],
   "source": [
    "df = pd.DataFrame(sizes, columns=['size', 'shape'])\n",
    "df.iloc[:40].plot(y = 'size', kind='bar')"
   ]
  },
  {
   "cell_type": "markdown",
   "id": "bbfbe7aa-b600-4fc4-968e-01b72e0345d1",
   "metadata": {},
   "source": [
    "In fact, let's compare size of embeddings with the rest of the model parameters:"
   ]
  },
  {
   "cell_type": "code",
   "execution_count": null,
   "id": "f22b0c18-1f43-459c-a5c4-e8d376dcae6f",
   "metadata": {},
   "outputs": [
    {
     "data": {
      "text/plain": [
       "0.275557948415276"
      ]
     },
     "execution_count": null,
     "metadata": {},
     "output_type": "execute_result"
    }
   ],
   "source": [
    "df.loc[0,'size']/df.loc[:, 'size'].sum()"
   ]
  },
  {
   "cell_type": "markdown",
   "id": "7c92e645-793c-4e6e-8499-9d7981977cd6",
   "metadata": {},
   "source": [
    "So, 28% of the model is in the embeddings."
   ]
  },
  {
   "cell_type": "markdown",
   "id": "b15a93cb-c20d-42ed-a6d1-316891e70d97",
   "metadata": {},
   "source": [
    "## PCA"
   ]
  },
  {
   "cell_type": "markdown",
   "id": "8612ac93-104a-4856-afbb-30890bb43489",
   "metadata": {},
   "source": [
    "Now let's look at embeddings in more detail"
   ]
  },
  {
   "cell_type": "code",
   "execution_count": null,
   "id": "11c7a2bb-1dbb-4a52-881b-d4176f29df7c",
   "metadata": {},
   "outputs": [
    {
     "data": {
      "text/plain": [
       "torch.Size([151936, 896])"
      ]
     },
     "execution_count": null,
     "metadata": {},
     "output_type": "execute_result"
    }
   ],
   "source": [
    "emb = model.get_input_embeddings()\n",
    "emb_w = emb.weight\n",
    "emb_w.shape"
   ]
  },
  {
   "cell_type": "markdown",
   "id": "a4f2511f-2d8e-474f-b5d9-9587dba7161e",
   "metadata": {},
   "source": [
    "We have about 150k tokens, and we use 896 dimensions to encode them. Let's see if there is any visible structure among them."
   ]
  },
  {
   "cell_type": "code",
   "execution_count": null,
   "id": "dc6ed05f-c5e0-4a5e-a317-147fc3b4777d",
   "metadata": {},
   "outputs": [],
   "source": [
    "w = emb_w.cpu().detach()\n",
    "w = w.type(torch.Tensor)"
   ]
  },
  {
   "cell_type": "markdown",
   "id": "6d87ef64-5eb5-4a0f-9618-3b44202ba6d9",
   "metadata": {},
   "source": [
    "Numbers, characters, symbols seem to be nicely grouped together:"
   ]
  },
  {
   "cell_type": "code",
   "execution_count": null,
   "id": "29f06806-d25b-4bb3-a874-b173217d0642",
   "metadata": {},
   "outputs": [],
   "source": [
    "w_pca = w.pca(3)"
   ]
  },
  {
   "cell_type": "code",
   "execution_count": null,
   "id": "f176897c-96fc-4074-8a05-c1bb4896460a",
   "metadata": {},
   "outputs": [
    {
     "data": {
      "text/plain": [
       "torch.Size([151936, 3])"
      ]
     },
     "execution_count": null,
     "metadata": {},
     "output_type": "execute_result"
    }
   ],
   "source": [
    "w_pca.shape"
   ]
  },
  {
   "cell_type": "code",
   "execution_count": null,
   "id": "97f6bd41-64f2-4638-9ebd-470a5ad46633",
   "metadata": {},
   "outputs": [
    {
     "data": {
      "image/png": "[encoded data removed]",
      "text/plain": [
       "<Figure size 1200x1200 with 1 Axes>"
      ]
     },
     "metadata": {},
     "output_type": "display_data"
    }
   ],
   "source": [
    "fac0,fac1,fac2 = w_pca.t()[:3]\n",
    "p = 0\n",
    "idxs = list(range(p,p + 100))\n",
    "X = fac0[idxs]\n",
    "Y = fac2[idxs]\n",
    "plt.figure(figsize=(12,12))\n",
    "plt.scatter(X, Y)\n",
    "token_labels = [tokenizer.decode([i]) for i in idxs]\n",
    "for i, x, y in zip(token_labels, X, Y):\n",
    "    plt.text(x,y,i, color=np.random.rand(3)*0.7, fontsize=14)\n",
    "#plt.show()\n",
    "#plt.savefig('token_encodings.png')"
   ]
  },
  {
   "cell_type": "markdown",
   "id": "62933a01-d038-4b36-bd2a-ab38436dec67",
   "metadata": {},
   "source": [
    "## Understanding token embeddings"
   ]
  },
  {
   "cell_type": "markdown",
   "id": "cb4196f0-bb3e-4c39-8800-ed602f80b088",
   "metadata": {},
   "source": [
    "Now let's check if there are any tokens that have very similar encodings."
   ]
  },
  {
   "cell_type": "code",
   "execution_count": null,
   "id": "4d8069f2-7901-45d8-9ee6-0dd09c73b091",
   "metadata": {},
   "outputs": [
    {
     "data": {
      "text/plain": [
       "(#151936) ['!','\"','#','$','%','&',\"'\",'(',')','*','+',',','-','.','/','0','1','2','3','4'...]"
      ]
     },
     "execution_count": null,
     "metadata": {},
     "output_type": "execute_result"
    }
   ],
   "source": [
    "token_labels = L([tokenizer.decode([i]) for i in range(w.shape[0])])\n",
    "token_labels"
   ]
  },
  {
   "cell_type": "code",
   "execution_count": null,
   "id": "374346b5-8476-4c8f-88af-79441dafad50",
   "metadata": {},
   "outputs": [
    {
     "data": {
      "text/plain": [
       "torch.Size([896, 151936])"
      ]
     },
     "execution_count": null,
     "metadata": {},
     "output_type": "execute_result"
    }
   ],
   "source": [
    "w.T.shape"
   ]
  },
  {
   "cell_type": "code",
   "execution_count": null,
   "id": "af379b23-d6f4-459f-a508-060a54ef66d7",
   "metadata": {},
   "outputs": [],
   "source": [
    "df = pd.DataFrame(w.T, columns=token_labels)"
   ]
  },
  {
   "cell_type": "markdown",
   "id": "e0407186-ca5c-4038-8392-759bc8912273",
   "metadata": {},
   "source": [
    "Here is a correlation matrix of first 500 tokens. Notice that there is a suspicious cluster of tokens with large correlation."
   ]
  },
  {
   "cell_type": "code",
   "execution_count": null,
   "id": "f1b86ac0-20e6-4ffa-8d6c-e1ca444cabcc",
   "metadata": {},
   "outputs": [
    {
     "data": {
      "text/plain": [
       "<matplotlib.image.AxesImage>"
      ]
     },
     "execution_count": null,
     "metadata": {},
     "output_type": "execute_result"
    },
    {
     "data": {
      "image/png": "[encoded data removed]",
      "text/plain": [
       "<Figure size 480x480 with 1 Axes>"
      ]
     },
     "metadata": {},
     "output_type": "display_data"
    }
   ],
   "source": [
    "plt.matshow(df.iloc[:,:500].corr())"
   ]
  },
  {
   "cell_type": "code",
   "execution_count": null,
   "id": "5e5350fa-1af8-4a22-8519-b9fbbcb46759",
   "metadata": {},
   "outputs": [
    {
     "data": {
      "text/html": [
       "<div>\n",
       "<style scoped>\n",
       "    .dataframe tbody tr th:only-of-type {\n",
       "        vertical-align: middle;\n",
       "    }\n",
       "\n",
       "    .dataframe tbody tr th {\n",
       "        vertical-align: top;\n",
       "    }\n",
       "\n",
       "    .dataframe thead th {\n",
       "        text-align: right;\n",
       "    }\n",
       "</style>\n",
       "<table border=\"1\" class=\"dataframe\">\n",
       "  <thead>\n",
       "    <tr style=\"text-align: right;\">\n",
       "      <th></th>\n",
       "      <th>�</th>\n",
       "      <th>�</th>\n",
       "      <th>�</th>\n",
       "      <th>�</th>\n",
       "      <th>�</th>\n",
       "      <th>�</th>\n",
       "    </tr>\n",
       "  </thead>\n",
       "  <tbody>\n",
       "    <tr>\n",
       "      <th>�</th>\n",
       "      <td>1.000000</td>\n",
       "      <td>1.000000</td>\n",
       "      <td>0.036561</td>\n",
       "      <td>0.949049</td>\n",
       "      <td>0.999370</td>\n",
       "      <td>0.613330</td>\n",
       "    </tr>\n",
       "    <tr>\n",
       "      <th>�</th>\n",
       "      <td>1.000000</td>\n",
       "      <td>1.000000</td>\n",
       "      <td>0.036553</td>\n",
       "      <td>0.949040</td>\n",
       "      <td>0.999370</td>\n",
       "      <td>0.613357</td>\n",
       "    </tr>\n",
       "    <tr>\n",
       "      <th>�</th>\n",
       "      <td>0.036561</td>\n",
       "      <td>0.036553</td>\n",
       "      <td>1.000000</td>\n",
       "      <td>0.039240</td>\n",
       "      <td>0.036404</td>\n",
       "      <td>0.066037</td>\n",
       "    </tr>\n",
       "    <tr>\n",
       "      <th>�</th>\n",
       "      <td>0.949049</td>\n",
       "      <td>0.949040</td>\n",
       "      <td>0.039240</td>\n",
       "      <td>1.000000</td>\n",
       "      <td>0.948284</td>\n",
       "      <td>0.574783</td>\n",
       "    </tr>\n",
       "    <tr>\n",
       "      <th>�</th>\n",
       "      <td>0.999370</td>\n",
       "      <td>0.999370</td>\n",
       "      <td>0.036404</td>\n",
       "      <td>0.948284</td>\n",
       "      <td>1.000000</td>\n",
       "      <td>0.615100</td>\n",
       "    </tr>\n",
       "    <tr>\n",
       "      <th>�</th>\n",
       "      <td>0.613330</td>\n",
       "      <td>0.613357</td>\n",
       "      <td>0.066037</td>\n",
       "      <td>0.574783</td>\n",
       "      <td>0.615100</td>\n",
       "      <td>1.000000</td>\n",
       "    </tr>\n",
       "  </tbody>\n",
       "</table>\n",
       "</div>"
      ],
      "text/plain": [
       "          �         �         �         �         �         �\n",
       "�  1.000000  1.000000  0.036561  0.949049  0.999370  0.613330\n",
       "�  1.000000  1.000000  0.036553  0.949040  0.999370  0.613357\n",
       "�  0.036561  0.036553  1.000000  0.039240  0.036404  0.066037\n",
       "�  0.949049  0.949040  0.039240  1.000000  0.948284  0.574783\n",
       "�  0.999370  0.999370  0.036404  0.948284  1.000000  0.615100\n",
       "�  0.613330  0.613357  0.066037  0.574783  0.615100  1.000000"
      ]
     },
     "execution_count": null,
     "metadata": {},
     "output_type": "execute_result"
    }
   ],
   "source": [
    "df.iloc[:,124:130].corr()"
   ]
  },
  {
   "cell_type": "code",
   "execution_count": null,
   "id": "59a2a844-8bf0-45b3-a80e-22ad2d92b474",
   "metadata": {},
   "outputs": [
    {
     "data": {
      "text/plain": [
       "<matplotlib.image.AxesImage>"
      ]
     },
     "execution_count": null,
     "metadata": {},
     "output_type": "execute_result"
    },
    {
     "data": {
      "image/png": "[encoded data removed]",
      "text/plain": [
       "<Figure size 480x480 with 1 Axes>"
      ]
     },
     "metadata": {},
     "output_type": "display_data"
    }
   ],
   "source": [
    "plt.matshow(df.iloc[:,124:225].corr())"
   ]
  },
  {
   "cell_type": "code",
   "execution_count": null,
   "id": "8ac80ec0-e248-4d6d-80c3-280bcb2e461f",
   "metadata": {},
   "outputs": [
    {
     "data": {
      "text/plain": [
       "<matplotlib.image.AxesImage>"
      ]
     },
     "execution_count": null,
     "metadata": {},
     "output_type": "execute_result"
    },
    {
     "data": {
      "image/png": "[encoded data removed]",
      "text/plain": [
       "<Figure size 480x480 with 1 Axes>"
      ]
     },
     "metadata": {},
     "output_type": "display_data"
    }
   ],
   "source": [
    "plt.matshow(df.iloc[:,177:190].corr())"
   ]
  },
  {
   "cell_type": "code",
   "execution_count": null,
   "id": "f7e42bfd-970c-49bf-a595-be3ca840ac4b",
   "metadata": {},
   "outputs": [
    {
     "data": {
      "text/html": [
       "<div>\n",
       "<style scoped>\n",
       "    .dataframe tbody tr th:only-of-type {\n",
       "        vertical-align: middle;\n",
       "    }\n",
       "\n",
       "    .dataframe tbody tr th {\n",
       "        vertical-align: top;\n",
       "    }\n",
       "\n",
       "    .dataframe thead th {\n",
       "        text-align: right;\n",
       "    }\n",
       "</style>\n",
       "<table border=\"1\" class=\"dataframe\">\n",
       "  <thead>\n",
       "    <tr style=\"text-align: right;\">\n",
       "      <th></th>\n",
       "      <th>�</th>\n",
       "      <th>�</th>\n",
       "      <th>�</th>\n",
       "      <th>�</th>\n",
       "      <th>�</th>\n",
       "      <th>�</th>\n",
       "      <th>�</th>\n",
       "      <th>�</th>\n",
       "      <th>�</th>\n",
       "      <th>�</th>\n",
       "      <th>�</th>\n",
       "      <th>\u0000</th>\n",
       "      <th>\u0001</th>\n",
       "    </tr>\n",
       "  </thead>\n",
       "  <tbody>\n",
       "    <tr>\n",
       "      <th>�</th>\n",
       "      <td>1.000000</td>\n",
       "      <td>1.000000</td>\n",
       "      <td>1.000000</td>\n",
       "      <td>1.000000</td>\n",
       "      <td>1.000000</td>\n",
       "      <td>1.000000</td>\n",
       "      <td>1.000000</td>\n",
       "      <td>1.000000</td>\n",
       "      <td>1.000000</td>\n",
       "      <td>1.000000</td>\n",
       "      <td>1.000000</td>\n",
       "      <td>0.286441</td>\n",
       "      <td>0.324009</td>\n",
       "    </tr>\n",
       "    <tr>\n",
       "      <th>�</th>\n",
       "      <td>1.000000</td>\n",
       "      <td>1.000000</td>\n",
       "      <td>0.999999</td>\n",
       "      <td>1.000000</td>\n",
       "      <td>1.000000</td>\n",
       "      <td>1.000000</td>\n",
       "      <td>1.000000</td>\n",
       "      <td>1.000000</td>\n",
       "      <td>1.000000</td>\n",
       "      <td>1.000000</td>\n",
       "      <td>1.000000</td>\n",
       "      <td>0.286423</td>\n",
       "      <td>0.324003</td>\n",
       "    </tr>\n",
       "    <tr>\n",
       "      <th>�</th>\n",
       "      <td>1.000000</td>\n",
       "      <td>0.999999</td>\n",
       "      <td>1.000000</td>\n",
       "      <td>1.000000</td>\n",
       "      <td>1.000000</td>\n",
       "      <td>1.000000</td>\n",
       "      <td>1.000000</td>\n",
       "      <td>1.000000</td>\n",
       "      <td>1.000000</td>\n",
       "      <td>1.000000</td>\n",
       "      <td>1.000000</td>\n",
       "      <td>0.286415</td>\n",
       "      <td>0.323999</td>\n",
       "    </tr>\n",
       "    <tr>\n",
       "      <th>�</th>\n",
       "      <td>1.000000</td>\n",
       "      <td>1.000000</td>\n",
       "      <td>1.000000</td>\n",
       "      <td>1.000000</td>\n",
       "      <td>1.000000</td>\n",
       "      <td>1.000000</td>\n",
       "      <td>1.000000</td>\n",
       "      <td>1.000000</td>\n",
       "      <td>1.000000</td>\n",
       "      <td>1.000000</td>\n",
       "      <td>1.000000</td>\n",
       "      <td>0.286428</td>\n",
       "      <td>0.324013</td>\n",
       "    </tr>\n",
       "    <tr>\n",
       "      <th>�</th>\n",
       "      <td>1.000000</td>\n",
       "      <td>1.000000</td>\n",
       "      <td>1.000000</td>\n",
       "      <td>1.000000</td>\n",
       "      <td>1.000000</td>\n",
       "      <td>1.000000</td>\n",
       "      <td>1.000000</td>\n",
       "      <td>1.000000</td>\n",
       "      <td>1.000000</td>\n",
       "      <td>1.000000</td>\n",
       "      <td>1.000000</td>\n",
       "      <td>0.286434</td>\n",
       "      <td>0.324009</td>\n",
       "    </tr>\n",
       "    <tr>\n",
       "      <th>�</th>\n",
       "      <td>1.000000</td>\n",
       "      <td>1.000000</td>\n",
       "      <td>1.000000</td>\n",
       "      <td>1.000000</td>\n",
       "      <td>1.000000</td>\n",
       "      <td>1.000000</td>\n",
       "      <td>1.000000</td>\n",
       "      <td>1.000000</td>\n",
       "      <td>1.000000</td>\n",
       "      <td>1.000000</td>\n",
       "      <td>1.000000</td>\n",
       "      <td>0.286445</td>\n",
       "      <td>0.324002</td>\n",
       "    </tr>\n",
       "    <tr>\n",
       "      <th>�</th>\n",
       "      <td>1.000000</td>\n",
       "      <td>1.000000</td>\n",
       "      <td>1.000000</td>\n",
       "      <td>1.000000</td>\n",
       "      <td>1.000000</td>\n",
       "      <td>1.000000</td>\n",
       "      <td>1.000000</td>\n",
       "      <td>1.000000</td>\n",
       "      <td>1.000000</td>\n",
       "      <td>1.000000</td>\n",
       "      <td>1.000000</td>\n",
       "      <td>0.286447</td>\n",
       "      <td>0.324016</td>\n",
       "    </tr>\n",
       "    <tr>\n",
       "      <th>�</th>\n",
       "      <td>1.000000</td>\n",
       "      <td>1.000000</td>\n",
       "      <td>1.000000</td>\n",
       "      <td>1.000000</td>\n",
       "      <td>1.000000</td>\n",
       "      <td>1.000000</td>\n",
       "      <td>1.000000</td>\n",
       "      <td>1.000000</td>\n",
       "      <td>1.000000</td>\n",
       "      <td>1.000000</td>\n",
       "      <td>1.000000</td>\n",
       "      <td>0.286421</td>\n",
       "      <td>0.323967</td>\n",
       "    </tr>\n",
       "    <tr>\n",
       "      <th>�</th>\n",
       "      <td>1.000000</td>\n",
       "      <td>1.000000</td>\n",
       "      <td>1.000000</td>\n",
       "      <td>1.000000</td>\n",
       "      <td>1.000000</td>\n",
       "      <td>1.000000</td>\n",
       "      <td>1.000000</td>\n",
       "      <td>1.000000</td>\n",
       "      <td>1.000000</td>\n",
       "      <td>1.000000</td>\n",
       "      <td>1.000000</td>\n",
       "      <td>0.286428</td>\n",
       "      <td>0.323993</td>\n",
       "    </tr>\n",
       "    <tr>\n",
       "      <th>�</th>\n",
       "      <td>1.000000</td>\n",
       "      <td>1.000000</td>\n",
       "      <td>1.000000</td>\n",
       "      <td>1.000000</td>\n",
       "      <td>1.000000</td>\n",
       "      <td>1.000000</td>\n",
       "      <td>1.000000</td>\n",
       "      <td>1.000000</td>\n",
       "      <td>1.000000</td>\n",
       "      <td>1.000000</td>\n",
       "      <td>1.000000</td>\n",
       "      <td>0.286425</td>\n",
       "      <td>0.324003</td>\n",
       "    </tr>\n",
       "    <tr>\n",
       "      <th>�</th>\n",
       "      <td>1.000000</td>\n",
       "      <td>1.000000</td>\n",
       "      <td>1.000000</td>\n",
       "      <td>1.000000</td>\n",
       "      <td>1.000000</td>\n",
       "      <td>1.000000</td>\n",
       "      <td>1.000000</td>\n",
       "      <td>1.000000</td>\n",
       "      <td>1.000000</td>\n",
       "      <td>1.000000</td>\n",
       "      <td>1.000000</td>\n",
       "      <td>0.286441</td>\n",
       "      <td>0.324025</td>\n",
       "    </tr>\n",
       "    <tr>\n",
       "      <th>\u0000</th>\n",
       "      <td>0.286441</td>\n",
       "      <td>0.286423</td>\n",
       "      <td>0.286415</td>\n",
       "      <td>0.286428</td>\n",
       "      <td>0.286434</td>\n",
       "      <td>0.286445</td>\n",
       "      <td>0.286447</td>\n",
       "      <td>0.286421</td>\n",
       "      <td>0.286428</td>\n",
       "      <td>0.286425</td>\n",
       "      <td>0.286441</td>\n",
       "      <td>1.000000</td>\n",
       "      <td>0.196765</td>\n",
       "    </tr>\n",
       "    <tr>\n",
       "      <th>\u0001</th>\n",
       "      <td>0.324009</td>\n",
       "      <td>0.324003</td>\n",
       "      <td>0.323999</td>\n",
       "      <td>0.324013</td>\n",
       "      <td>0.324009</td>\n",
       "      <td>0.324002</td>\n",
       "      <td>0.324016</td>\n",
       "      <td>0.323967</td>\n",
       "      <td>0.323993</td>\n",
       "      <td>0.324003</td>\n",
       "      <td>0.324025</td>\n",
       "      <td>0.196765</td>\n",
       "      <td>1.000000</td>\n",
       "    </tr>\n",
       "  </tbody>\n",
       "</table>\n",
       "</div>"
      ],
      "text/plain": [
       "          �         �         �         �         �         �         �  \\\n",
       "�  1.000000  1.000000  1.000000  1.000000  1.000000  1.000000  1.000000   \n",
       "�  1.000000  1.000000  0.999999  1.000000  1.000000  1.000000  1.000000   \n",
       "�  1.000000  0.999999  1.000000  1.000000  1.000000  1.000000  1.000000   \n",
       "�  1.000000  1.000000  1.000000  1.000000  1.000000  1.000000  1.000000   \n",
       "�  1.000000  1.000000  1.000000  1.000000  1.000000  1.000000  1.000000   \n",
       "�  1.000000  1.000000  1.000000  1.000000  1.000000  1.000000  1.000000   \n",
       "�  1.000000  1.000000  1.000000  1.000000  1.000000  1.000000  1.000000   \n",
       "�  1.000000  1.000000  1.000000  1.000000  1.000000  1.000000  1.000000   \n",
       "�  1.000000  1.000000  1.000000  1.000000  1.000000  1.000000  1.000000   \n",
       "�  1.000000  1.000000  1.000000  1.000000  1.000000  1.000000  1.000000   \n",
       "�  1.000000  1.000000  1.000000  1.000000  1.000000  1.000000  1.000000   \n",
       "\u0000  0.286441  0.286423  0.286415  0.286428  0.286434  0.286445  0.286447   \n",
       "\u0001  0.324009  0.324003  0.323999  0.324013  0.324009  0.324002  0.324016   \n",
       "\n",
       "          �         �         �         �         \u0000         \u0001  \n",
       "�  1.000000  1.000000  1.000000  1.000000  0.286441  0.324009  \n",
       "�  1.000000  1.000000  1.000000  1.000000  0.286423  0.324003  \n",
       "�  1.000000  1.000000  1.000000  1.000000  0.286415  0.323999  \n",
       "�  1.000000  1.000000  1.000000  1.000000  0.286428  0.324013  \n",
       "�  1.000000  1.000000  1.000000  1.000000  0.286434  0.324009  \n",
       "�  1.000000  1.000000  1.000000  1.000000  0.286445  0.324002  \n",
       "�  1.000000  1.000000  1.000000  1.000000  0.286447  0.324016  \n",
       "�  1.000000  1.000000  1.000000  1.000000  0.286421  0.323967  \n",
       "�  1.000000  1.000000  1.000000  1.000000  0.286428  0.323993  \n",
       "�  1.000000  1.000000  1.000000  1.000000  0.286425  0.324003  \n",
       "�  1.000000  1.000000  1.000000  1.000000  0.286441  0.324025  \n",
       "\u0000  0.286421  0.286428  0.286425  0.286441  1.000000  0.196765  \n",
       "\u0001  0.323967  0.323993  0.324003  0.324025  0.196765  1.000000  "
      ]
     },
     "execution_count": null,
     "metadata": {},
     "output_type": "execute_result"
    }
   ],
   "source": [
    "df.iloc[:,177:190].corr()"
   ]
  },
  {
   "cell_type": "markdown",
   "id": "84cb3cbf-ff77-4319-8a1b-96e534739bf9",
   "metadata": {},
   "source": [
    "These have almost perfect correlation. But these seem to correspond to some special byte sequences. Perhaps this has something to do with unicode?"
   ]
  },
  {
   "cell_type": "markdown",
   "id": "6dfddc04-9721-4cab-88e1-34bf7037f422",
   "metadata": {},
   "source": [
    "We can also put token embeddings into a dataframe, and join it together with token labels sequence for convenience:"
   ]
  },
  {
   "cell_type": "code",
   "execution_count": null,
   "id": "a6934ead-4672-4ae9-a5c7-0cf3cfef1e6c",
   "metadata": {},
   "outputs": [
    {
     "data": {
      "text/html": [
       "<div>\n",
       "<style scoped>\n",
       "    .dataframe tbody tr th:only-of-type {\n",
       "        vertical-align: middle;\n",
       "    }\n",
       "\n",
       "    .dataframe tbody tr th {\n",
       "        vertical-align: top;\n",
       "    }\n",
       "\n",
       "    .dataframe thead th {\n",
       "        text-align: right;\n",
       "    }\n",
       "</style>\n",
       "<table border=\"1\" class=\"dataframe\">\n",
       "  <thead>\n",
       "    <tr style=\"text-align: right;\">\n",
       "      <th></th>\n",
       "      <th>token</th>\n",
       "      <th>0</th>\n",
       "      <th>1</th>\n",
       "      <th>2</th>\n",
       "      <th>3</th>\n",
       "      <th>4</th>\n",
       "      <th>5</th>\n",
       "      <th>6</th>\n",
       "      <th>7</th>\n",
       "      <th>8</th>\n",
       "      <th>...</th>\n",
       "      <th>886</th>\n",
       "      <th>887</th>\n",
       "      <th>888</th>\n",
       "      <th>889</th>\n",
       "      <th>890</th>\n",
       "      <th>891</th>\n",
       "      <th>892</th>\n",
       "      <th>893</th>\n",
       "      <th>894</th>\n",
       "      <th>895</th>\n",
       "    </tr>\n",
       "  </thead>\n",
       "  <tbody>\n",
       "    <tr>\n",
       "      <th>0</th>\n",
       "      <td>!</td>\n",
       "      <td>-0.010376</td>\n",
       "      <td>0.040771</td>\n",
       "      <td>0.009705</td>\n",
       "      <td>0.000070</td>\n",
       "      <td>-0.027100</td>\n",
       "      <td>-0.002975</td>\n",
       "      <td>-0.001160</td>\n",
       "      <td>-0.019531</td>\n",
       "      <td>0.028442</td>\n",
       "      <td>...</td>\n",
       "      <td>-0.008179</td>\n",
       "      <td>0.016724</td>\n",
       "      <td>0.022339</td>\n",
       "      <td>-0.027222</td>\n",
       "      <td>-0.029541</td>\n",
       "      <td>-0.015381</td>\n",
       "      <td>-0.007477</td>\n",
       "      <td>0.009827</td>\n",
       "      <td>0.013611</td>\n",
       "      <td>-0.006683</td>\n",
       "    </tr>\n",
       "    <tr>\n",
       "      <th>1</th>\n",
       "      <td>\"</td>\n",
       "      <td>-0.014587</td>\n",
       "      <td>-0.001366</td>\n",
       "      <td>-0.017700</td>\n",
       "      <td>-0.002670</td>\n",
       "      <td>0.003708</td>\n",
       "      <td>-0.001495</td>\n",
       "      <td>0.005402</td>\n",
       "      <td>-0.010620</td>\n",
       "      <td>0.017700</td>\n",
       "      <td>...</td>\n",
       "      <td>-0.013672</td>\n",
       "      <td>-0.038330</td>\n",
       "      <td>0.003433</td>\n",
       "      <td>-0.007355</td>\n",
       "      <td>-0.007172</td>\n",
       "      <td>0.001152</td>\n",
       "      <td>-0.005798</td>\n",
       "      <td>-0.002441</td>\n",
       "      <td>0.002441</td>\n",
       "      <td>-0.008118</td>\n",
       "    </tr>\n",
       "    <tr>\n",
       "      <th>2</th>\n",
       "      <td>#</td>\n",
       "      <td>-0.036621</td>\n",
       "      <td>-0.010193</td>\n",
       "      <td>0.007812</td>\n",
       "      <td>-0.010925</td>\n",
       "      <td>0.008057</td>\n",
       "      <td>0.016724</td>\n",
       "      <td>0.023438</td>\n",
       "      <td>-0.030273</td>\n",
       "      <td>-0.009399</td>\n",
       "      <td>...</td>\n",
       "      <td>-0.024048</td>\n",
       "      <td>-0.002716</td>\n",
       "      <td>0.006134</td>\n",
       "      <td>-0.007538</td>\n",
       "      <td>-0.008545</td>\n",
       "      <td>0.008789</td>\n",
       "      <td>0.011292</td>\n",
       "      <td>-0.007355</td>\n",
       "      <td>-0.017700</td>\n",
       "      <td>-0.000675</td>\n",
       "    </tr>\n",
       "    <tr>\n",
       "      <th>3</th>\n",
       "      <td>$</td>\n",
       "      <td>-0.009338</td>\n",
       "      <td>-0.012085</td>\n",
       "      <td>-0.015381</td>\n",
       "      <td>0.010864</td>\n",
       "      <td>0.003967</td>\n",
       "      <td>-0.005981</td>\n",
       "      <td>0.005707</td>\n",
       "      <td>-0.006866</td>\n",
       "      <td>0.014343</td>\n",
       "      <td>...</td>\n",
       "      <td>-0.047119</td>\n",
       "      <td>0.007324</td>\n",
       "      <td>0.007935</td>\n",
       "      <td>-0.006531</td>\n",
       "      <td>-0.019897</td>\n",
       "      <td>-0.007812</td>\n",
       "      <td>0.020874</td>\n",
       "      <td>-0.002655</td>\n",
       "      <td>0.015137</td>\n",
       "      <td>-0.017822</td>\n",
       "    </tr>\n",
       "    <tr>\n",
       "      <th>4</th>\n",
       "      <td>%</td>\n",
       "      <td>-0.009521</td>\n",
       "      <td>0.004211</td>\n",
       "      <td>0.006012</td>\n",
       "      <td>-0.018433</td>\n",
       "      <td>0.006409</td>\n",
       "      <td>0.013428</td>\n",
       "      <td>0.016846</td>\n",
       "      <td>0.003372</td>\n",
       "      <td>-0.000965</td>\n",
       "      <td>...</td>\n",
       "      <td>0.005798</td>\n",
       "      <td>-0.010742</td>\n",
       "      <td>-0.000957</td>\n",
       "      <td>-0.024170</td>\n",
       "      <td>-0.000463</td>\n",
       "      <td>0.010620</td>\n",
       "      <td>-0.003967</td>\n",
       "      <td>0.003937</td>\n",
       "      <td>-0.006195</td>\n",
       "      <td>-0.007874</td>\n",
       "    </tr>\n",
       "    <tr>\n",
       "      <th>...</th>\n",
       "      <td>...</td>\n",
       "      <td>...</td>\n",
       "      <td>...</td>\n",
       "      <td>...</td>\n",
       "      <td>...</td>\n",
       "      <td>...</td>\n",
       "      <td>...</td>\n",
       "      <td>...</td>\n",
       "      <td>...</td>\n",
       "      <td>...</td>\n",
       "      <td>...</td>\n",
       "      <td>...</td>\n",
       "      <td>...</td>\n",
       "      <td>...</td>\n",
       "      <td>...</td>\n",
       "      <td>...</td>\n",
       "      <td>...</td>\n",
       "      <td>...</td>\n",
       "      <td>...</td>\n",
       "      <td>...</td>\n",
       "      <td>...</td>\n",
       "    </tr>\n",
       "    <tr>\n",
       "      <th>151931</th>\n",
       "      <td></td>\n",
       "      <td>0.005951</td>\n",
       "      <td>-0.005310</td>\n",
       "      <td>0.003326</td>\n",
       "      <td>0.002472</td>\n",
       "      <td>-0.003067</td>\n",
       "      <td>0.002563</td>\n",
       "      <td>-0.009583</td>\n",
       "      <td>0.015747</td>\n",
       "      <td>-0.000580</td>\n",
       "      <td>...</td>\n",
       "      <td>0.003845</td>\n",
       "      <td>0.016113</td>\n",
       "      <td>-0.010071</td>\n",
       "      <td>0.005066</td>\n",
       "      <td>0.011353</td>\n",
       "      <td>0.015320</td>\n",
       "      <td>-0.014954</td>\n",
       "      <td>-0.008179</td>\n",
       "      <td>-0.008179</td>\n",
       "      <td>0.018677</td>\n",
       "    </tr>\n",
       "    <tr>\n",
       "      <th>151932</th>\n",
       "      <td></td>\n",
       "      <td>0.005951</td>\n",
       "      <td>-0.005310</td>\n",
       "      <td>0.003326</td>\n",
       "      <td>0.002472</td>\n",
       "      <td>-0.003067</td>\n",
       "      <td>0.002563</td>\n",
       "      <td>-0.009583</td>\n",
       "      <td>0.015747</td>\n",
       "      <td>-0.000580</td>\n",
       "      <td>...</td>\n",
       "      <td>0.003845</td>\n",
       "      <td>0.016113</td>\n",
       "      <td>-0.010071</td>\n",
       "      <td>0.005066</td>\n",
       "      <td>0.011353</td>\n",
       "      <td>0.015320</td>\n",
       "      <td>-0.014954</td>\n",
       "      <td>-0.008179</td>\n",
       "      <td>-0.008179</td>\n",
       "      <td>0.018677</td>\n",
       "    </tr>\n",
       "    <tr>\n",
       "      <th>151933</th>\n",
       "      <td></td>\n",
       "      <td>0.005951</td>\n",
       "      <td>-0.005310</td>\n",
       "      <td>0.003326</td>\n",
       "      <td>0.002472</td>\n",
       "      <td>-0.003067</td>\n",
       "      <td>0.002563</td>\n",
       "      <td>-0.009583</td>\n",
       "      <td>0.015747</td>\n",
       "      <td>-0.000580</td>\n",
       "      <td>...</td>\n",
       "      <td>0.003845</td>\n",
       "      <td>0.016113</td>\n",
       "      <td>-0.010071</td>\n",
       "      <td>0.005066</td>\n",
       "      <td>0.011353</td>\n",
       "      <td>0.015320</td>\n",
       "      <td>-0.014954</td>\n",
       "      <td>-0.008179</td>\n",
       "      <td>-0.008179</td>\n",
       "      <td>0.018677</td>\n",
       "    </tr>\n",
       "    <tr>\n",
       "      <th>151934</th>\n",
       "      <td></td>\n",
       "      <td>0.005951</td>\n",
       "      <td>-0.005310</td>\n",
       "      <td>0.003326</td>\n",
       "      <td>0.002472</td>\n",
       "      <td>-0.003067</td>\n",
       "      <td>0.002563</td>\n",
       "      <td>-0.009583</td>\n",
       "      <td>0.015747</td>\n",
       "      <td>-0.000580</td>\n",
       "      <td>...</td>\n",
       "      <td>0.003845</td>\n",
       "      <td>0.016113</td>\n",
       "      <td>-0.010071</td>\n",
       "      <td>0.005066</td>\n",
       "      <td>0.011353</td>\n",
       "      <td>0.015320</td>\n",
       "      <td>-0.014954</td>\n",
       "      <td>-0.008179</td>\n",
       "      <td>-0.008179</td>\n",
       "      <td>0.018677</td>\n",
       "    </tr>\n",
       "    <tr>\n",
       "      <th>151935</th>\n",
       "      <td></td>\n",
       "      <td>0.005951</td>\n",
       "      <td>-0.005310</td>\n",
       "      <td>0.003326</td>\n",
       "      <td>0.002472</td>\n",
       "      <td>-0.003067</td>\n",
       "      <td>0.002563</td>\n",
       "      <td>-0.009583</td>\n",
       "      <td>0.015747</td>\n",
       "      <td>-0.000580</td>\n",
       "      <td>...</td>\n",
       "      <td>0.003845</td>\n",
       "      <td>0.016113</td>\n",
       "      <td>-0.010071</td>\n",
       "      <td>0.005066</td>\n",
       "      <td>0.011353</td>\n",
       "      <td>0.015320</td>\n",
       "      <td>-0.014954</td>\n",
       "      <td>-0.008179</td>\n",
       "      <td>-0.008179</td>\n",
       "      <td>0.018677</td>\n",
       "    </tr>\n",
       "  </tbody>\n",
       "</table>\n",
       "<p>151936 rows × 897 columns</p>\n",
       "</div>"
      ],
      "text/plain": [
       "       token         0         1         2         3         4         5  \\\n",
       "0          ! -0.010376  0.040771  0.009705  0.000070 -0.027100 -0.002975   \n",
       "1          \" -0.014587 -0.001366 -0.017700 -0.002670  0.003708 -0.001495   \n",
       "2          # -0.036621 -0.010193  0.007812 -0.010925  0.008057  0.016724   \n",
       "3          $ -0.009338 -0.012085 -0.015381  0.010864  0.003967 -0.005981   \n",
       "4          % -0.009521  0.004211  0.006012 -0.018433  0.006409  0.013428   \n",
       "...      ...       ...       ...       ...       ...       ...       ...   \n",
       "151931        0.005951 -0.005310  0.003326  0.002472 -0.003067  0.002563   \n",
       "151932        0.005951 -0.005310  0.003326  0.002472 -0.003067  0.002563   \n",
       "151933        0.005951 -0.005310  0.003326  0.002472 -0.003067  0.002563   \n",
       "151934        0.005951 -0.005310  0.003326  0.002472 -0.003067  0.002563   \n",
       "151935        0.005951 -0.005310  0.003326  0.002472 -0.003067  0.002563   \n",
       "\n",
       "               6         7         8  ...       886       887       888  \\\n",
       "0      -0.001160 -0.019531  0.028442  ... -0.008179  0.016724  0.022339   \n",
       "1       0.005402 -0.010620  0.017700  ... -0.013672 -0.038330  0.003433   \n",
       "2       0.023438 -0.030273 -0.009399  ... -0.024048 -0.002716  0.006134   \n",
       "3       0.005707 -0.006866  0.014343  ... -0.047119  0.007324  0.007935   \n",
       "4       0.016846  0.003372 -0.000965  ...  0.005798 -0.010742 -0.000957   \n",
       "...          ...       ...       ...  ...       ...       ...       ...   \n",
       "151931 -0.009583  0.015747 -0.000580  ...  0.003845  0.016113 -0.010071   \n",
       "151932 -0.009583  0.015747 -0.000580  ...  0.003845  0.016113 -0.010071   \n",
       "151933 -0.009583  0.015747 -0.000580  ...  0.003845  0.016113 -0.010071   \n",
       "151934 -0.009583  0.015747 -0.000580  ...  0.003845  0.016113 -0.010071   \n",
       "151935 -0.009583  0.015747 -0.000580  ...  0.003845  0.016113 -0.010071   \n",
       "\n",
       "             889       890       891       892       893       894       895  \n",
       "0      -0.027222 -0.029541 -0.015381 -0.007477  0.009827  0.013611 -0.006683  \n",
       "1      -0.007355 -0.007172  0.001152 -0.005798 -0.002441  0.002441 -0.008118  \n",
       "2      -0.007538 -0.008545  0.008789  0.011292 -0.007355 -0.017700 -0.000675  \n",
       "3      -0.006531 -0.019897 -0.007812  0.020874 -0.002655  0.015137 -0.017822  \n",
       "4      -0.024170 -0.000463  0.010620 -0.003967  0.003937 -0.006195 -0.007874  \n",
       "...          ...       ...       ...       ...       ...       ...       ...  \n",
       "151931  0.005066  0.011353  0.015320 -0.014954 -0.008179 -0.008179  0.018677  \n",
       "151932  0.005066  0.011353  0.015320 -0.014954 -0.008179 -0.008179  0.018677  \n",
       "151933  0.005066  0.011353  0.015320 -0.014954 -0.008179 -0.008179  0.018677  \n",
       "151934  0.005066  0.011353  0.015320 -0.014954 -0.008179 -0.008179  0.018677  \n",
       "151935  0.005066  0.011353  0.015320 -0.014954 -0.008179 -0.008179  0.018677  \n",
       "\n",
       "[151936 rows x 897 columns]"
      ]
     },
     "execution_count": null,
     "metadata": {},
     "output_type": "execute_result"
    }
   ],
   "source": [
    "df = pd.DataFrame(w)\n",
    "\n",
    "df['token'] = token_labels\n",
    "df = df.reindex(columns=pd.Index([df.columns[-1]] + list(df.columns[:-1])))\n",
    "\n",
    "df"
   ]
  },
  {
   "cell_type": "markdown",
   "id": "17dd32b7-c051-45af-984a-d8d78aac4a6b",
   "metadata": {},
   "source": [
    "## KDTree"
   ]
  },
  {
   "cell_type": "markdown",
   "id": "8d8a9f66-f483-4ba2-b239-d9097cfefbe5",
   "metadata": {},
   "source": [
    "To find nearest neighbours for sample query vectors, we can use KDTree.\n",
    "\n",
    "KDTree allows fast nearest neighbour lookups, but it only works fast up to 20 dimensions (according to [docs](https://docs.scipy.org/doc/scipy/reference/generated/scipy.spatial.KDTree.html))."
   ]
  },
  {
   "cell_type": "code",
   "execution_count": null,
   "id": "310a9731-d9de-4ed6-b4cd-817cce36e99a",
   "metadata": {},
   "outputs": [],
   "source": [
    "from scipy.spatial import KDTree"
   ]
  },
  {
   "cell_type": "markdown",
   "id": "2754a7fa-ae15-4bcb-811b-b0582bdfa6a1",
   "metadata": {},
   "source": [
    "Since KDTree is not good for high dimensions, we first reduce dimension to 10."
   ]
  },
  {
   "cell_type": "code",
   "execution_count": null,
   "id": "851fa86a-75c5-4488-8118-76b8ee23d284",
   "metadata": {},
   "outputs": [],
   "source": [
    "w_pca = w.pca(10)"
   ]
  },
  {
   "cell_type": "code",
   "execution_count": null,
   "id": "15f89811-b4da-48fc-9b06-256bbef61906",
   "metadata": {},
   "outputs": [
    {
     "data": {
      "text/plain": [
       "torch.Size([151936, 10])"
      ]
     },
     "execution_count": null,
     "metadata": {},
     "output_type": "execute_result"
    }
   ],
   "source": [
    "w_pca.shape"
   ]
  },
  {
   "cell_type": "code",
   "execution_count": null,
   "id": "1630f079-542e-4481-b2ed-99e5d9a2ba5b",
   "metadata": {},
   "outputs": [],
   "source": [
    "m = KDTree(w_pca)"
   ]
  },
  {
   "cell_type": "code",
   "execution_count": null,
   "id": "4acf9e11-4864-4a4b-bb5c-ac746ef3b8c6",
   "metadata": {},
   "outputs": [],
   "source": [
    "small_distance = 0.001"
   ]
  },
  {
   "cell_type": "markdown",
   "id": "0c6af6e9-e417-48b6-8383-8bb4047e6950",
   "metadata": {},
   "source": [
    "m.count_neighbors(m, small_distance)"
   ]
  },
  {
   "cell_type": "code",
   "execution_count": null,
   "id": "f8b0082b-521d-498a-b3c9-dd627a0993a7",
   "metadata": {},
   "outputs": [],
   "source": [
    "neighbours = m.query_pairs(small_distance, output_type='ndarray')"
   ]
  },
  {
   "cell_type": "code",
   "execution_count": null,
   "id": "41bf8b68-a0e1-4598-be25-a33b6b36782d",
   "metadata": {},
   "outputs": [
    {
     "data": {
      "text/plain": [
       "2700502"
      ]
     },
     "execution_count": null,
     "metadata": {},
     "output_type": "execute_result"
    }
   ],
   "source": [
    "len(neighbours)"
   ]
  },
  {
   "cell_type": "markdown",
   "id": "0c1eb918-db29-4be1-b0be-725592ee51fb",
   "metadata": {},
   "source": [
    "Here we find some tokens that are close to each other and compute their distances."
   ]
  },
  {
   "cell_type": "code",
   "execution_count": null,
   "id": "5fd417d4-d416-4829-9a02-a897583c12a4",
   "metadata": {},
   "outputs": [
    {
     "data": {
      "text/plain": [
       "tensor([2.0965e-02, 1.2571e-02, 9.4396e-05, 5.1366e-05, 1.0017e-04, 1.1918e-04,\n",
       "        9.8044e-05, 6.4521e-05, 1.6839e-04, 8.5055e-05, 8.5407e-05, 1.1496e-04,\n",
       "        8.5661e-05, 9.6035e-05, 1.8153e-04, 1.0819e-04, 1.1803e-04, 1.0853e-04,\n",
       "        4.9831e-05, 1.7295e-04, 9.1673e-05, 2.3365e-05, 1.1710e-04, 1.6766e-04,\n",
       "        9.1910e-05, 1.2525e-04, 1.7944e-04, 1.1530e-04, 1.6751e-04, 1.6791e-04,\n",
       "        1.6262e-04, 1.6276e-04, 1.6613e-04, 1.6330e-04, 1.6705e-04, 1.6770e-04,\n",
       "        1.6613e-04, 1.8194e-04, 1.6276e-04, 1.7519e-04, 1.7631e-04, 1.7975e-04,\n",
       "        1.7582e-04, 1.8060e-04, 1.8088e-04, 1.7943e-04, 1.9296e-04, 1.7532e-04,\n",
       "        1.6906e-04, 1.6746e-04, 1.7243e-04, 1.6834e-04, 1.7197e-04, 1.7227e-04,\n",
       "        1.7074e-04, 1.8616e-04, 1.6781e-04, 1.6329e-04, 1.6200e-04, 1.6678e-04,\n",
       "        1.6255e-04, 1.6631e-04, 1.6556e-04, 1.6539e-04, 1.8126e-04, 1.6200e-04,\n",
       "        1.7570e-04, 1.7416e-04, 1.7895e-04, 1.7467e-04, 1.7719e-04, 1.7879e-04,\n",
       "        1.7732e-04, 1.9221e-04, 1.7416e-04, 1.6316e-04, 1.6186e-04, 1.6666e-04,\n",
       "        1.6241e-04, 1.6618e-04, 1.6681e-04, 1.6523e-04, 1.8112e-04, 1.6186e-04,\n",
       "        1.6951e-04, 1.6792e-04, 1.6741e-04, 1.6879e-04, 1.7242e-04, 1.7269e-04,\n",
       "        1.6564e-04, 1.8149e-04, 1.6827e-04, 5.3325e-05, 4.3203e-05, 2.7582e-05,\n",
       "        4.7724e-05, 5.9301e-05, 5.5018e-05, 2.7512e-05])"
      ]
     },
     "execution_count": null,
     "metadata": {},
     "output_type": "execute_result"
    }
   ],
   "source": [
    "first = 100\n",
    "(w[neighbours[:first,0]] - w[neighbours[:first,1]]).norm(dim=1)"
   ]
  },
  {
   "cell_type": "markdown",
   "id": "e805010d-1daf-4262-8825-005691343268",
   "metadata": {},
   "source": [
    "Unfortunately, the fact that tokens are close to each other doesn't mean that there is any connection\n",
    "between these tokens:"
   ]
  },
  {
   "cell_type": "code",
   "execution_count": null,
   "id": "53070a02-93b2-421f-8d49-b6bbed2c14dd",
   "metadata": {},
   "outputs": [
    {
     "data": {
      "text/plain": [
       "(#100) [('궕', 'ᥔ'),('ᨪ', '궕'),('吏', ''),('<|vision_end|>', ''),('憐', ''),('', ''),('', ''),('閭', ''),('ด่วน', ''),('吏', '<|vision_end|>'),('憐', '吏'),('吏', ''),('吏', ''),('閭', '吏'),('ด่วน', '吏'),('憐', '<|vision_end|>'),('<|vision_end|>', ''),('<|vision_end|>', ''),('閭', '<|vision_end|>'),('ด่วน', '<|vision_end|>')...]"
      ]
     },
     "execution_count": null,
     "metadata": {},
     "output_type": "execute_result"
    }
   ],
   "source": [
    "L(zip(token_labels[neighbours[:first, 0]], token_labels[neighbours[:first, 1]]))"
   ]
  },
  {
   "cell_type": "markdown",
   "id": "f2b712b1-3b6c-4533-b13b-b47c144eb80f",
   "metadata": {},
   "source": [
    "So, closest tokens are not a good measure of tokens being related to each other."
   ]
  },
  {
   "cell_type": "code",
   "execution_count": null,
   "id": "0ad4d5b2-26a9-42e7-8da4-bec876f51e1a",
   "metadata": {},
   "outputs": [
    {
     "data": {
      "text/plain": [
       "[(86, 'w'), (295, 'et'), (3015, ' water')]"
      ]
     },
     "execution_count": null,
     "metadata": {},
     "output_type": "execute_result"
    }
   ],
   "source": [
    "ts = tokenizer.encode('wet water')\n",
    "[(t, tokenizer.decode(t)) for t in ts]"
   ]
  },
  {
   "cell_type": "code",
   "execution_count": null,
   "id": "ef3578a8-94e2-403f-94cc-68b1df615239",
   "metadata": {},
   "outputs": [
    {
     "data": {
      "text/plain": [
       "(#20) [' water',' bit',' access',' turn',' ×',' March',' exact',' target',' page',' different',' file',' defined',' essential',' Thomas',' unit',' count',' status',' functional',' quality',' zero']"
      ]
     },
     "execution_count": null,
     "metadata": {},
     "output_type": "execute_result"
    }
   ],
   "source": [
    "water = 3015\n",
    "water = w_pca[water]\n",
    "dist, items = m.query(water, k=20)\n",
    "L(tokenizer.decode([i]) for i in items)"
   ]
  },
  {
   "cell_type": "markdown",
   "id": "a58c6758-b96d-4c88-a539-7e9bfa2b1273",
   "metadata": {},
   "source": [
    "Lets now try using all vectors from a sentence"
   ]
  },
  {
   "cell_type": "code",
   "execution_count": null,
   "id": "778f0a94-5e7f-4503-9f39-49cbcb828be0",
   "metadata": {},
   "outputs": [],
   "source": [
    "def find_neighbours(query):\n",
    "    ts = tokenizer.encode(query)\n",
    "    v = w_pca[ts].sum(dim=0)\n",
    "    dist, items = m.query(v, k=20)\n",
    "    return L(tokenizer.decode([i]) for i in items)"
   ]
  },
  {
   "cell_type": "code",
   "execution_count": null,
   "id": "fa740a23-ca29-438e-8666-461be1355fb3",
   "metadata": {},
   "outputs": [
    {
     "data": {
      "text/plain": [
       "(#20) [' lava','太阳能','董事会',' stimuli',' fungal',' embody',' daring',' audience',' hazardous',' tumor',' vascular',' damping',' soothing',' qualifies',' addiction','纷纷',' herbal',' melan',' стран','答应']"
      ]
     },
     "execution_count": null,
     "metadata": {},
     "output_type": "execute_result"
    }
   ],
   "source": [
    "find_neighbours(' lava')"
   ]
  },
  {
   "cell_type": "code",
   "execution_count": null,
   "id": "44753b79-939d-44d7-975b-6066c1e50f6d",
   "metadata": {},
   "outputs": [
    {
     "data": {
      "text/plain": [
       "(#20) [' magma','事迹','周恩来','蒋介石','あたり','应收账款','规程','秦国',' serotonin','份额',' Jain','長期',' dopamine',' scalp','理财产品',' cereal',' disciplines',' словам','班组',' мероприятия']"
      ]
     },
     "execution_count": null,
     "metadata": {},
     "output_type": "execute_result"
    }
   ],
   "source": [
    "find_neighbours(' magma')"
   ]
  },
  {
   "cell_type": "code",
   "execution_count": null,
   "id": "8af256d1-c85a-43d9-a39f-8c59320cae43",
   "metadata": {},
   "outputs": [
    {
     "data": {
      "text/plain": [
       "(#20) ['l','m','c','d','a','f','A','B','p','9','b','7','x','6','C','8','v','h','s','D']"
      ]
     },
     "execution_count": null,
     "metadata": {},
     "output_type": "execute_result"
    }
   ],
   "source": [
    "find_neighbours('lava')"
   ]
  },
  {
   "cell_type": "code",
   "execution_count": null,
   "id": "f09a5f04-ce25-4cca-b5b2-b46c38e07241",
   "metadata": {},
   "outputs": [
    {
     "data": {
      "text/plain": [
       "(#20) [',','1','2',' (','.','3',':',' ','-','4','0','/',' -','5','6',' \"','8',' and','7',' in']"
      ]
     },
     "execution_count": null,
     "metadata": {},
     "output_type": "execute_result"
    }
   ],
   "source": [
    "find_neighbours('lava fire hot')"
   ]
  },
  {
   "cell_type": "markdown",
   "id": "da809133-a0e0-44bd-b4eb-8a2a09d1bf9d",
   "metadata": {},
   "source": [
    "Doesn't seem like there's much structure here!\n",
    "\n",
    "But here is the structure I was able to find:"
   ]
  },
  {
   "cell_type": "code",
   "execution_count": null,
   "id": "69bef4ba-94b1-48a2-bbfa-76feefb7f651",
   "metadata": {},
   "outputs": [
    {
     "data": {
      "text/plain": [
       "(#20) ['1','2','3','5','4','0','6','8','7','9','/',':','.','-','(',',','[','_',';',\"'\"]"
      ]
     },
     "execution_count": null,
     "metadata": {},
     "output_type": "execute_result"
    }
   ],
   "source": [
    "find_neighbours('1')"
   ]
  },
  {
   "cell_type": "code",
   "execution_count": null,
   "id": "d9373904-e214-47e5-b2b6-10a2f0725095",
   "metadata": {},
   "outputs": [
    {
     "data": {
      "text/plain": [
       "(#20) ['A','S','B','C','s','D','a','l','i','N','m','M','P','n','d','T','E','I','x','R']"
      ]
     },
     "execution_count": null,
     "metadata": {},
     "output_type": "execute_result"
    }
   ],
   "source": [
    "find_neighbours('A')"
   ]
  },
  {
   "cell_type": "code",
   "execution_count": null,
   "id": "9a6e418a-a8ef-4ed8-83aa-c4388f20c753",
   "metadata": {},
   "outputs": [
    {
     "data": {
      "text/plain": [
       "(#20) ['$','{','>','%','|','&','//','#','`','}','<','(\"','^','L','--','I','T','+','::','R']"
      ]
     },
     "execution_count": null,
     "metadata": {},
     "output_type": "execute_result"
    }
   ],
   "source": [
    "find_neighbours('$')"
   ]
  },
  {
   "cell_type": "markdown",
   "id": "818715d6-0c69-4335-b322-929a692ee636",
   "metadata": {},
   "source": [
    "Does this work for anything else?"
   ]
  },
  {
   "cell_type": "markdown",
   "id": "c8703a87-62ff-4671-bfc4-b0189f16bce8",
   "metadata": {},
   "source": [
    "Look, countries sort of work!"
   ]
  },
  {
   "cell_type": "code",
   "execution_count": null,
   "id": "640f18bd-a2a1-4dec-bf81-34c0a23d69ba",
   "metadata": {},
   "outputs": [
    {
     "data": {
      "text/plain": [
       "(#20) [' Ontario','实时',' Wisconsin',' Alaska',' Oregon',' Potter',' Seattle',' Alabama',' Maine',' Michigan',' superficial',' friction',' Detroit',' Iran',' Portland','.py',' Philadelphia',' rigor',' Pennsylvania','相当于']"
      ]
     },
     "execution_count": null,
     "metadata": {},
     "output_type": "execute_result"
    }
   ],
   "source": [
    "find_neighbours(' Ontario')"
   ]
  },
  {
   "cell_type": "markdown",
   "id": "31872d5f-27e3-4a77-bfc9-ff84edf819c6",
   "metadata": {},
   "source": [
    "Class and unit are related:"
   ]
  },
  {
   "cell_type": "code",
   "execution_count": null,
   "id": "91502789-7f7b-4b5f-a604-b531e2dad4af",
   "metadata": {},
   "outputs": [
    {
     "data": {
      "text/plain": [
       "(#20) [' Class',' unit',' sign',' black',' Group',' change',' Type',' path',' level',' power',' deep',' direct',' line',' split',' fast',' count',' order',' block',' DO',' value']"
      ]
     },
     "execution_count": null,
     "metadata": {},
     "output_type": "execute_result"
    }
   ],
   "source": [
    "find_neighbours(' Class')"
   ]
  },
  {
   "cell_type": "code",
   "execution_count": null,
   "id": "b93732d3-77b3-4528-a478-65371cb5bea6",
   "metadata": {},
   "outputs": [
    {
     "data": {
      "text/plain": [
       "(#20) ['**','..','---','--','`','}',']','~','…','____','”','>',' ?','—','\\\\\\\\','(\"',' >','()','%','\\u200b']"
      ]
     },
     "execution_count": null,
     "metadata": {},
     "output_type": "execute_result"
    }
   ],
   "source": [
    "find_neighbours('**')"
   ]
  },
  {
   "cell_type": "markdown",
   "id": "52d204e5-5011-4606-91dd-9991ed43f487",
   "metadata": {},
   "source": [
    "## Singular values"
   ]
  },
  {
   "cell_type": "markdown",
   "id": "861da97c-72f0-4416-bcf6-c80538489363",
   "metadata": {},
   "source": [
    "Yet another way to understand a matrix is to look at its singular values and their distirbution."
   ]
  },
  {
   "cell_type": "code",
   "execution_count": null,
   "id": "5ba17830-26db-4eec-a197-c64f8f6e3234",
   "metadata": {},
   "outputs": [],
   "source": [
    "clean_memory()"
   ]
  },
  {
   "cell_type": "code",
   "execution_count": null,
   "id": "e4ed98ab-b67a-468d-b0c9-f486400f1ffb",
   "metadata": {},
   "outputs": [],
   "source": [
    "U, S, Vh = torch.linalg.svd(w, full_matrices=False)"
   ]
  },
  {
   "cell_type": "code",
   "execution_count": null,
   "id": "d13682ed-fc4b-4d40-bd81-fbf2a5d8edbf",
   "metadata": {},
   "outputs": [
    {
     "data": {
      "text/plain": [
       "(torch.Size([151936, 896]), torch.Size([896]), torch.Size([896, 896]))"
      ]
     },
     "execution_count": null,
     "metadata": {},
     "output_type": "execute_result"
    }
   ],
   "source": [
    "U.shape, S.shape, Vh.shape"
   ]
  },
  {
   "cell_type": "code",
   "execution_count": null,
   "id": "7fb55ab3-7b8d-412f-9e2f-748f75dcfbbb",
   "metadata": {},
   "outputs": [
    {
     "data": {
      "text/plain": [
       "tensor([75.2048, 15.9967, 13.2013, 10.6195, 10.5224,  9.5778,  9.1092,  8.6585,\n",
       "         8.2998,  8.1300,  7.9553,  7.7216,  7.5018,  7.3106,  7.2360,  7.1848,\n",
       "         7.1072,  7.0573,  7.0249,  6.9709,  6.9112,  6.8638,  6.8472,  6.8007,\n",
       "         6.7806,  6.7488,  6.7466,  6.7255,  6.6886,  6.6821,  6.6695,  6.6449,\n",
       "         6.6378,  6.6109,  6.5966,  6.5856,  6.5781,  6.5602,  6.5523,  6.5365,\n",
       "         6.5208,  6.5109,  6.5013,  6.4817,  6.4740,  6.4708,  6.4575,  6.4540,\n",
       "         6.4452,  6.4395,  6.4335,  6.4130,  6.4117,  6.3935,  6.3885,  6.3838,\n",
       "         6.3800,  6.3771,  6.3733,  6.3621,  6.3533,  6.3416,  6.3364,  6.3318,\n",
       "         6.3283,  6.3232,  6.3199,  6.3130,  6.3038,  6.2935])"
      ]
     },
     "execution_count": null,
     "metadata": {},
     "output_type": "execute_result"
    }
   ],
   "source": [
    "S[:70]"
   ]
  },
  {
   "cell_type": "code",
   "execution_count": null,
   "id": "fffff40a-9945-4abf-90f0-2106f0152b15",
   "metadata": {},
   "outputs": [
    {
     "data": {
      "text/plain": [
       "[<matplotlib.lines.Line2D>]"
      ]
     },
     "execution_count": null,
     "metadata": {},
     "output_type": "execute_result"
    },
    {
     "data": {
      "image/png": "[encoded data removed]",
      "text/plain": [
       "<Figure size 640x480 with 1 Axes>"
      ]
     },
     "metadata": {},
     "output_type": "display_data"
    }
   ],
   "source": [
    "plt.plot(S)"
   ]
  },
  {
   "cell_type": "code",
   "execution_count": null,
   "id": "940e6023-7622-4673-991b-60491274f35f",
   "metadata": {},
   "outputs": [
    {
     "data": {
      "text/plain": [
       "[<matplotlib.lines.Line2D>]"
      ]
     },
     "execution_count": null,
     "metadata": {},
     "output_type": "execute_result"
    },
    {
     "data": {
      "image/png": "[encoded data removed]",
      "text/plain": [
       "<Figure size 640x480 with 1 Axes>"
      ]
     },
     "metadata": {},
     "output_type": "display_data"
    }
   ],
   "source": [
    "plt.plot(S[10:])"
   ]
  },
  {
   "cell_type": "markdown",
   "id": "f0aa038d-1e85-48ee-9d55-051a52e768bd",
   "metadata": {},
   "source": [
    "Looking at singular values, we see that they drop rapidly!\n",
    "\n",
    "This should be surprising because when the model was made we started\n",
    "with fully random matrix.\n",
    "\n",
    "And random matrices have uniformly distributed singular values.\n",
    "This means that all embeddings lie very closely to a certain low-dimensional\n",
    "space.\n",
    "\n",
    "Above we can see that singular values stop dropping rapidly at about 100 dimensions,\n",
    "so if we keep just 100 dimensions we might still be able to have a model that\n",
    "can produce sensible text."
   ]
  },
  {
   "cell_type": "markdown",
   "id": "8ae4e997-3a37-4ba3-9e67-c8384e66d0f7",
   "metadata": {},
   "source": [
    "But first, for comparison, lets look at singular values of a random matrix:"
   ]
  },
  {
   "cell_type": "code",
   "execution_count": null,
   "id": "007f99aa-737d-4148-8f89-3613b9692e5d",
   "metadata": {},
   "outputs": [],
   "source": [
    "w_random = torch.randn(w.shape)"
   ]
  },
  {
   "cell_type": "code",
   "execution_count": null,
   "id": "623bed1b-68e5-477f-b56b-387a0dbb4e1a",
   "metadata": {},
   "outputs": [],
   "source": [
    "Ur, Sr, Vhr = torch.linalg.svd(w_random, full_matrices=False)"
   ]
  },
  {
   "cell_type": "code",
   "execution_count": null,
   "id": "4b91e787-e472-46c0-a47f-19f7c1d9e875",
   "metadata": {},
   "outputs": [
    {
     "data": {
      "text/plain": [
       "tensor([419.4922, 419.2200, 418.8347, 418.7828, 418.7401, 418.2579, 418.1684,\n",
       "        418.0732, 417.9306, 417.6548, 417.4839, 417.4085, 417.3276, 417.0378,\n",
       "        416.9029, 416.8173, 416.7499, 416.6445, 416.5141, 416.4569, 416.2802,\n",
       "        416.2378, 416.0545, 415.9872, 415.9027, 415.8290, 415.6523, 415.5988,\n",
       "        415.4861, 415.4289, 415.2998, 415.1790, 415.1625, 414.9554, 414.8152,\n",
       "        414.7798, 414.7103, 414.5463, 414.4521, 414.3818, 414.2459, 414.1892,\n",
       "        414.0259, 413.9031, 413.8279, 413.7903, 413.7162, 413.5286, 413.4558,\n",
       "        413.4163, 413.3558, 413.1771, 413.0956, 413.0775, 412.9968, 412.7909,\n",
       "        412.7854, 412.7141, 412.6904, 412.5693, 412.4755, 412.3453, 412.2935,\n",
       "        412.1939, 412.1080, 411.9935, 411.9718, 411.8588, 411.8069, 411.6788])"
      ]
     },
     "execution_count": null,
     "metadata": {},
     "output_type": "execute_result"
    }
   ],
   "source": [
    "Sr[:70]"
   ]
  },
  {
   "cell_type": "code",
   "execution_count": null,
   "id": "8698e9a1-93bd-4c76-a708-b8df089a8502",
   "metadata": {},
   "outputs": [
    {
     "data": {
      "text/plain": [
       "<matplotlib.legend.Legend>"
      ]
     },
     "execution_count": null,
     "metadata": {},
     "output_type": "execute_result"
    },
    {
     "data": {
      "image/png": "[encoded data removed]",
      "text/plain": [
       "<Figure size 640x480 with 1 Axes>"
      ]
     },
     "metadata": {},
     "output_type": "display_data"
    }
   ],
   "source": [
    "plt.plot(Sr/420*70, label=\"Random\")\n",
    "plt.plot(S, label=\"Trained\")\n",
    "plt.legend()"
   ]
  },
  {
   "cell_type": "markdown",
   "id": "605195c7-d325-46d1-b4dc-0b01d2164a10",
   "metadata": {},
   "source": [
    "As you can see, there is a huge difference between a random matrix and a matrix that has been optimized with backpropogation."
   ]
  },
  {
   "cell_type": "markdown",
   "id": "5f860076-4693-42b2-9320-4633b064e0e9",
   "metadata": {},
   "source": [
    "Now, lets look at how SVD can be used to recover back the original matrix:"
   ]
  },
  {
   "cell_type": "code",
   "execution_count": null,
   "id": "b9c4d53c-cc1e-4823-9385-99b54bf48dc4",
   "metadata": {},
   "outputs": [
    {
     "data": {
      "text/plain": [
       "tensor(0.0006)"
      ]
     },
     "execution_count": null,
     "metadata": {},
     "output_type": "execute_result"
    }
   ],
   "source": [
    "torch.dist(w, U @ torch.diag_embed(S) @ Vh)"
   ]
  },
  {
   "cell_type": "code",
   "execution_count": null,
   "id": "e3aff597-84a1-452c-8297-b003b6788dfd",
   "metadata": {},
   "outputs": [
    {
     "data": {
      "text/plain": [
       "tensor(175.0522)"
      ]
     },
     "execution_count": null,
     "metadata": {},
     "output_type": "execute_result"
    }
   ],
   "source": [
    "w.norm()"
   ]
  },
  {
   "cell_type": "code",
   "execution_count": null,
   "id": "a63a09a4-3847-4be0-891b-76e2300e73a2",
   "metadata": {},
   "outputs": [
    {
     "data": {
      "text/plain": [
       "tensor(104.2088)"
      ]
     },
     "execution_count": null,
     "metadata": {},
     "output_type": "execute_result"
    }
   ],
   "source": [
    "Ss = S.clone().detach()\n",
    "Ss[400:] = 0\n",
    "torch.dist(w, U @ torch.diag_embed(Ss) @ Vh)"
   ]
  },
  {
   "cell_type": "code",
   "execution_count": null,
   "id": "ea289ccf-fd13-42c7-9909-2b499b3f038f",
   "metadata": {},
   "outputs": [],
   "source": [
    "w_simple = U @ torch.diag_embed(Ss) @ Vh"
   ]
  },
  {
   "cell_type": "code",
   "execution_count": null,
   "id": "73cd9a99-e83c-4da2-adf5-f0ec9f8da9e4",
   "metadata": {},
   "outputs": [
    {
     "data": {
      "text/plain": [
       "tensor([[-0.0232,  0.0167,  0.0034,  ...,  0.0095,  0.0035, -0.0037],\n",
       "        [-0.0199,  0.0100, -0.0105,  ...,  0.0040,  0.0058, -0.0145],\n",
       "        [-0.0326, -0.0043,  0.0046,  ...,  0.0129, -0.0049, -0.0117],\n",
       "        ...,\n",
       "        [ 0.0058, -0.0052,  0.0030,  ..., -0.0077, -0.0083,  0.0182],\n",
       "        [ 0.0058, -0.0052,  0.0030,  ..., -0.0077, -0.0083,  0.0182],\n",
       "        [ 0.0058, -0.0052,  0.0030,  ..., -0.0077, -0.0083,  0.0182]])"
      ]
     },
     "execution_count": null,
     "metadata": {},
     "output_type": "execute_result"
    }
   ],
   "source": [
    "w_simple"
   ]
  },
  {
   "cell_type": "code",
   "execution_count": null,
   "id": "f2fdf26d-2f2b-4f1b-96cb-93e1688a12dc",
   "metadata": {},
   "outputs": [
    {
     "data": {
      "text/plain": [
       "tensor([[-0.0104,  0.0408,  0.0097,  ...,  0.0098,  0.0136, -0.0067],\n",
       "        [-0.0146, -0.0014, -0.0177,  ..., -0.0024,  0.0024, -0.0081],\n",
       "        [-0.0366, -0.0102,  0.0078,  ..., -0.0074, -0.0177, -0.0007],\n",
       "        ...,\n",
       "        [ 0.0060, -0.0053,  0.0033,  ..., -0.0082, -0.0082,  0.0187],\n",
       "        [ 0.0060, -0.0053,  0.0033,  ..., -0.0082, -0.0082,  0.0187],\n",
       "        [ 0.0060, -0.0053,  0.0033,  ..., -0.0082, -0.0082,  0.0187]])"
      ]
     },
     "execution_count": null,
     "metadata": {},
     "output_type": "execute_result"
    }
   ],
   "source": [
    "w"
   ]
  },
  {
   "cell_type": "code",
   "execution_count": null,
   "id": "7dcec89e-68a1-4e82-89d8-563d2c2794c5",
   "metadata": {},
   "outputs": [
    {
     "data": {
      "text/plain": [
       "torch.bfloat16"
      ]
     },
     "execution_count": null,
     "metadata": {},
     "output_type": "execute_result"
    }
   ],
   "source": [
    "emb_w.dtype"
   ]
  },
  {
   "cell_type": "code",
   "execution_count": null,
   "id": "e843cb5b-1100-4b67-b9a0-674f21819876",
   "metadata": {},
   "outputs": [],
   "source": [
    "w_simple = w_simple.type(torch.HalfTensor).bfloat16().to('cuda:0')"
   ]
  },
  {
   "cell_type": "code",
   "execution_count": null,
   "id": "a80bc11f-9975-4940-8179-3f7301363990",
   "metadata": {},
   "outputs": [],
   "source": [
    "model.model.embed_tokens.weight = torch.nn.Parameter(w_simple)"
   ]
  },
  {
   "cell_type": "code",
   "execution_count": null,
   "id": "35eebb74-6bb3-406b-923a-35d75041b2a7",
   "metadata": {},
   "outputs": [],
   "source": [
    "def run_demo(s_vals):\n",
    "    Ss = S.clone().detach()\n",
    "    Ss[s_vals:] = 0\n",
    "    w_simple = U @ torch.diag_embed(Ss) @ Vh\n",
    "    print(f\"compression error: {torch.dist(w, w_simple)}\")\n",
    "\n",
    "    w_simple = w_simple.type(torch.HalfTensor).bfloat16().to('cuda:0')\n",
    "    model.model.embed_tokens.weight = torch.nn.Parameter(w_simple)\n",
    "    demo(128)"
   ]
  },
  {
   "cell_type": "markdown",
   "id": "b27d423e-b045-4e80-8a12-ad8d6745d223",
   "metadata": {},
   "source": [
    "200 singular values is too little, the model breaks completely:"
   ]
  },
  {
   "cell_type": "code",
   "execution_count": null,
   "id": "be2cb363-7493-4854-8f0e-d70e7b391db2",
   "metadata": {},
   "outputs": [
    {
     "name": "stdout",
     "output_type": "stream",
     "text": [
      "compression error: 130.39418029785156\n"
     ]
    },
    {
     "data": {
      "text/markdown": [
       " Conditioning\n",
       "\n",
       " Lambdaizations\n",
       "\n",
       " аccessation с\n",
       "\n",
       " tionality\n",
       "\n",
       " Lambdaization s аccessation с\n",
       "\n",
       " tionality\n",
       "\n",
       " Lambdaization s аAccessExceptionationс\n",
       "\n",
       " Lambdaization s аAccessExceptionationс\n",
       "\n",
       " Lambdaization s аAccessExceptionationс\n",
       "\n",
       " Lambdaizations\n",
       "\n",
       " Lambdaization с\n",
       "\n",
       " Lambdaizations\n",
       "\n",
       " Lambdaization s аAccessExceptionationс \n",
       "\n",
       " Lambdaization s аAccessExceptionationс\n",
       "\n",
       " Lambdaization s аAccessExceptionationс\n",
       "\n",
       " Lambdaization s аAccessExceptionationс\n",
       "\n",
       " Lambdaizations  Lambdaization s аAccessExceptionationс\n",
       "\n",
       " LambdaIZATION с\n",
       "\n",
       " Lambdaications\n",
       "\n",
       " Lambdaitations\n",
       "\n",
       " Lambdaigation с\n",
       "\n",
       " Lambdaigation с\n",
       "\n",
       " Lambdaigations"
      ]
     },
     "metadata": {},
     "output_type": "display_data"
    }
   ],
   "source": [
    "run_demo(200)"
   ]
  },
  {
   "cell_type": "markdown",
   "id": "36d18ea0-55d7-4dbe-bf1b-14c0905c9093",
   "metadata": {},
   "source": [
    "400 is a bit better, the model produces text that is somewhat coherent"
   ]
  },
  {
   "cell_type": "code",
   "execution_count": null,
   "id": "95be5c15-cf86-4fed-b622-ae5d0bb4cc00",
   "metadata": {},
   "outputs": [
    {
     "name": "stdout",
     "output_type": "stream",
     "text": [
      "compression error: 104.20878601074219\n"
     ]
    },
    {
     "data": {
      "text/markdown": [
       " �ake an prediction\n",
       "\n",
       " predicting the prediction with predictions. Bayesian inference\n",
       "\n",
       " Bayesian inference is Bayesian inference's Bayesian inference C Bayesian inference With prediction- Bayesian inference\n",
       "\n",
       " Bayesian inference C Bayesian inference With prediction\n",
       "\n",
       " Bayesian inference C Bayesian inference с Bayesian inference с Bayesian inference с Bayesian inferenceс Bayesian inferenceс Bayesian inferenceс Bayesian inferenceс Bayesian inferenceс Bayesian inferenceс Bayesian inferenceс Bayesian inferenceс Bayesian inferenceс Bayesian inferenceс Bayesian inferenceс Bayesian inferenceс Bayesian inferenceс Bayesian inferenceс Bayesian inferenceс Bayesian inferenceс Bayesian inferenceс Bayesian inferenceс Bayesian inferenceс Bayesian inferenceс Bayesian inferenceс Bayesian inferenceс Bayesian inferenceс Bayesian inferenceс Bayesian inferenceс Bayesian inference"
      ]
     },
     "metadata": {},
     "output_type": "display_data"
    }
   ],
   "source": [
    "run_demo(400)"
   ]
  },
  {
   "cell_type": "code",
   "execution_count": null,
   "id": "dc48abb1-3834-4251-9758-dc8e09a77409",
   "metadata": {},
   "outputs": [
    {
     "name": "stdout",
     "output_type": "stream",
     "text": [
      "compression error: 104.20878601074219\n"
     ]
    },
    {
     "data": {
      "text/markdown": [
       " Large language models like the token embeddings, PCA layers\n",
       "\n",
       "nearest neighbors and KD tree\n",
       "\n",
       " singular values\n",
       "\n"
      ]
     },
     "metadata": {},
     "output_type": "display_data"
    }
   ],
   "source": [
    "run_demo(400)"
   ]
  },
  {
   "cell_type": "markdown",
   "id": "7d39d68f-f20a-4fa0-89f6-9c9e10349228",
   "metadata": {},
   "source": [
    "Remember that the original embedding dimension was 896:"
   ]
  },
  {
   "cell_type": "code",
   "execution_count": null,
   "id": "e7610f45-69c7-42da-95ee-0b85e2e139bc",
   "metadata": {},
   "outputs": [
    {
     "data": {
      "text/plain": [
       "torch.Size([151936, 896])"
      ]
     },
     "execution_count": null,
     "metadata": {},
     "output_type": "execute_result"
    }
   ],
   "source": [
    "w.shape"
   ]
  },
  {
   "cell_type": "code",
   "execution_count": null,
   "id": "d966fec6-d908-4744-9a38-b6822458986b",
   "metadata": {},
   "outputs": [
    {
     "name": "stdout",
     "output_type": "stream",
     "text": [
      "compression error: 74.72993469238281\n"
     ]
    },
    {
     "data": {
      "text/markdown": [
       " Write an introduction an blog post about the token embeddings in PCA approach and layer sizes\n",
       "\n",
       " nearest neighbours approach\n",
       "\n",
       " KD tree approach\n",
       "\n",
       " singular values approach\n",
       "\n"
      ]
     },
     "metadata": {},
     "output_type": "display_data"
    }
   ],
   "source": [
    "run_demo(600)"
   ]
  },
  {
   "cell_type": "code",
   "execution_count": null,
   "id": "51400cbd-1361-4c34-b169-e930b81287be",
   "metadata": {},
   "outputs": [
    {
     "name": "stdout",
     "output_type": "stream",
     "text": [
      "compression error: 34.6391487121582\n"
     ]
    },
    {
     "data": {
      "text/markdown": [
       "Certainly! Here's a brief introduction to the a blog post about large language model token embeddings:\n",
       "\n",
       "Token embeddings are an essential component of natural language processing ( NLP) research areas. that enable models like LLMs to understand and process tokens in contextually. analyze text.\n",
       "\n",
       "Large-scale language models like BERT or GPT- often require embedding layers to capture these contextual information effectively\n",
       "\n",
       "PCA ( Principal Component Analysis is a statistical technique used to reduce the dimensionality of extract important features from data\n",
       "\n",
       "layer sizes and nearest neighbours are two popular approaches for identifying key features in token embeddings\n",
       "\n",
       "KD tree ( k-d tree is a efficient spatial indexing technique"
      ]
     },
     "metadata": {},
     "output_type": "display_data"
    }
   ],
   "source": [
    "run_demo(800)"
   ]
  },
  {
   "cell_type": "code",
   "execution_count": null,
   "id": "f86f2f21-ad60-44ff-b77f-2f99f236c4e8",
   "metadata": {},
   "outputs": [
    {
     "name": "stdout",
     "output_type": "stream",
     "text": [
      "compression error: 34.6391487121582\n"
     ]
    },
    {
     "data": {
      "text/markdown": [
       "Sure! Let's introduce the large language model (token embeddings and also talk about how we can extract these embeddings using PCA, layer sizes and nearest neighbors.\n",
       "\n",
       "PCA ( is a technique that can help us reduce dimensionality while retaining most ofer ofentities in a data set. PCA is a popular method in computer vision and image processing\n",
       "\n",
       "layer sizes could be used to specify the number o f hidden layers in each layer size could be specified as the the number o f neurons in each layer The KNN (is a algorithm that could be used t obtain the nearest neighbors in a data set In machine learning t o predict new items based on"
      ]
     },
     "metadata": {},
     "output_type": "display_data"
    }
   ],
   "source": [
    "run_demo(800)"
   ]
  },
  {
   "cell_type": "markdown",
   "id": "6a37d605-cb8e-4909-b7fa-c40b3f8d82b6",
   "metadata": {},
   "source": [
    "Notice that LLM no longer seems to remember how to close paranthesis. That was probably lost in compression."
   ]
  },
  {
   "cell_type": "code",
   "execution_count": null,
   "id": "16aaa5fd-410a-4002-8045-5d5348dc6046",
   "metadata": {},
   "outputs": [
    {
     "name": "stdout",
     "output_type": "stream",
     "text": [
      "compression error: 4.259422302246094\n"
     ]
    },
    {
     "data": {
      "text/markdown": [
       "Welcome to our exploration of the fascinating world of large language models (LLMs) and their groundbreaking advancements in natural language processing (NLP). As we delve into the complex world of token embeddings, we'll uncover some intriguing insights that shed light on how these powerful models learn and process text data.\n",
       "\n",
       "In recent years, researchers have made significant strides in developing sophisticated methods for analyzing and understanding the intricate patterns hidden within vast amounts of textual data. One such method is token embedding, which has become one of the most widely used techniques in NLP due to its ability to capture semantic meaning across different contexts.\n",
       "\n",
       "But what exactly does this mean? Let's"
      ]
     },
     "metadata": {},
     "output_type": "display_data"
    }
   ],
   "source": [
    "run_demo(890)"
   ]
  },
  {
   "cell_type": "markdown",
   "id": "783179ea-4403-482d-b2b8-e55ac294b02d",
   "metadata": {},
   "source": [
    "This looks pretty decent."
   ]
  },
  {
   "cell_type": "code",
   "execution_count": null,
   "id": "3bc08acf-df35-4e2f-9c33-4e25fbac8720",
   "metadata": {},
   "outputs": [
    {
     "name": "stdout",
     "output_type": "stream",
     "text": [
      "compression error: 19.876100540161133\n"
     ]
    },
    {
     "data": {
      "text/markdown": [
       "# Exploring the Role of Large Language Model Token Embeddings in Natural Language Processing\n",
       "\n",
       "Natural language processing (NLP) is a field that focuses on enabling computers to understand and interact with humans in a human-like way. One crucial aspect of NLP is the understanding how text is structured and represented by humans. The process of tokenizing text into smaller units called tokens is one of the most fundamental steps in NLP. However, understanding how well this process works can be challenging, especially when dealing with complex languages or texts with very different vocabularies.\n",
       "\n",
       "That's where large language models come in - they are artificial intelligence systems designed to generate"
      ]
     },
     "metadata": {},
     "output_type": "display_data"
    }
   ],
   "source": [
    "run_demo(850)"
   ]
  },
  {
   "cell_type": "code",
   "execution_count": null,
   "id": "d3ac7e7b-4be3-4887-93bf-5867d429cda8",
   "metadata": {},
   "outputs": [
    {
     "name": "stdout",
     "output_type": "stream",
     "text": [
      "compression error: 26.247896194458008\n"
     ]
    },
    {
     "data": {
      "text/markdown": [
       "# Introduction to Blog Post: \"Token Embeddings in the Large Language Model\n",
       "\n",
       "In recent years, the development of large language models (LLMs has seen explosive growth. and their capability to understand natural language text is one of the most significant changes. have happened. . \n",
       "\n",
       "One key aspect e.g. that llms can handle is the complex structure e.g. those found in many natural languages e.g. english. french. spanish. chinese. etc. they need to be able to understand how words relate to each other e.g. how a word like \"dog\" is related to another word like \"cat\". \n",
       "\n",
       "This ability comes"
      ]
     },
     "metadata": {},
     "output_type": "display_data"
    }
   ],
   "source": [
    "run_demo(830)"
   ]
  },
  {
   "cell_type": "markdown",
   "id": "24db182a-3e55-4042-8593-688c9e2c9a8e",
   "metadata": {},
   "source": [
    "## Adding noise"
   ]
  },
  {
   "cell_type": "markdown",
   "id": "2f5fe226-9340-4cef-b0e0-8e388b612c77",
   "metadata": {},
   "source": [
    "Now that we are on the topic of breaking LLMs, lets investigate what happens if we add a bit of noise to embeddings.\n",
    "In other words, how much noise can we add before LLM breaks completely?"
   ]
  },
  {
   "cell_type": "code",
   "execution_count": null,
   "id": "3c1ad3d4-fae5-416b-8c05-2c07c0a47e25",
   "metadata": {},
   "outputs": [
    {
     "data": {
      "text/plain": [
       "tensor([[-0.0104,  0.0408,  0.0097,  ...,  0.0098,  0.0136, -0.0067],\n",
       "        [-0.0146, -0.0014, -0.0177,  ..., -0.0024,  0.0024, -0.0081],\n",
       "        [-0.0366, -0.0102,  0.0078,  ..., -0.0074, -0.0177, -0.0007],\n",
       "        ...,\n",
       "        [ 0.0060, -0.0053,  0.0033,  ..., -0.0082, -0.0082,  0.0187],\n",
       "        [ 0.0060, -0.0053,  0.0033,  ..., -0.0082, -0.0082,  0.0187],\n",
       "        [ 0.0060, -0.0053,  0.0033,  ..., -0.0082, -0.0082,  0.0187]])"
      ]
     },
     "execution_count": null,
     "metadata": {},
     "output_type": "execute_result"
    }
   ],
   "source": [
    "w"
   ]
  },
  {
   "cell_type": "code",
   "execution_count": null,
   "id": "b312fde2-9a43-418c-b7ca-be7d8724494f",
   "metadata": {},
   "outputs": [
    {
     "data": {
      "text/plain": [
       "tensor(0.0152)"
      ]
     },
     "execution_count": null,
     "metadata": {},
     "output_type": "execute_result"
    }
   ],
   "source": [
    "w.std()"
   ]
  },
  {
   "cell_type": "code",
   "execution_count": null,
   "id": "b73da89d-91b5-4731-9253-27ffa1707e32",
   "metadata": {},
   "outputs": [],
   "source": [
    "def run_demo(noise, max_new_tokens=128):\n",
    "    w_simple = w + noise*torch.randn(w.shape)*w.std()\n",
    "    print(f\"compression error: {torch.dist(w, w_simple)}\")\n",
    "\n",
    "    w_simple = w_simple.type(torch.HalfTensor).bfloat16().to('cuda:0')\n",
    "    model.model.embed_tokens.weight = torch.nn.Parameter(w_simple)\n",
    "    demo(max_new_tokens)"
   ]
  },
  {
   "cell_type": "code",
   "execution_count": null,
   "id": "1af0515f-a4bb-4c53-8ab9-33b7e81b52e7",
   "metadata": {},
   "outputs": [
    {
     "name": "stdout",
     "output_type": "stream",
     "text": [
      "compression error: 0.0\n"
     ]
    },
    {
     "data": {
      "text/markdown": [
       "**Introduction**\n",
       "\n",
       "In the realm of natural language processing and machine learning, understanding the structure of text is crucial for developing effective models that can comprehend complex language tasks. One key aspect of this complexity is the representation of text data using tokens, which are fundamental units of information within the language. The tokenization process involves breaking down continuous text into discrete segments or words, which are then used as input features in various models.\n",
       "\n",
       "One approach to represent these tokens is through embedding layers, where each token's position is mapped to a vector space. This mapping allows for efficient computation of the dot product between vectors representing different tokens, enabling the modeling of semantic relationships"
      ]
     },
     "metadata": {},
     "output_type": "display_data"
    }
   ],
   "source": [
    "run_demo(0)"
   ]
  },
  {
   "cell_type": "code",
   "execution_count": null,
   "id": "d2bb332d-9e48-4e5b-94c2-7eaad5f2468d",
   "metadata": {},
   "outputs": [
    {
     "name": "stdout",
     "output_type": "stream",
     "text": [
      "compression error: 1.7495441436767578\n"
     ]
    },
    {
     "data": {
      "text/markdown": [
       "Welcome to our exploration of the fascinating world of large language models and their groundbreaking advancements in natural language processing! In this blog post, we'll delve into the intricate world of token embeddings, where the foundation of language understanding is laid bare. From the simple layers that capture word frequencies to the complex algorithms that sift through the data to reveal patterns, we'll unravel the secrets behind these essential components.\n",
       "\n",
       "Firstly, let's explore the role of PCA (Principal Component Analysis) in dimensionality reduction. By visualizing your text data using a 2D PCA plot, you can identify which words or phrases are most indicative of different topics. This technique"
      ]
     },
     "metadata": {},
     "output_type": "display_data"
    }
   ],
   "source": [
    "run_demo(0.01)"
   ]
  },
  {
   "cell_type": "code",
   "execution_count": null,
   "id": "9b3c7590-a88e-4279-a1f3-f0d04862a662",
   "metadata": {},
   "outputs": [
    {
     "name": "stdout",
     "output_type": "stream",
     "text": [
      "compression error: 17.48781967163086\n"
     ]
    },
    {
     "data": {
      "text/markdown": [
       "**Introduction to Large Language Model Token Embeddings**\n",
       "\n",
       "In recent years, the integration of large language models (LLMs) into various applications has dramatically transformed the way we interact with technology and information. One of the key innovations in this space is the development of token embeddings, which serve as a powerful tool for understanding the structure and semantic relationships within textual data.\n",
       "\n",
       "Token embeddings are essentially vectors that represent each word or sequence of words in a document using numerical representations. This transformation allows us to capture not only the meaning of individual words but also their contextual relationships across the entire text. By analyzing these embeddings at different layers, researchers can gain insights into the"
      ]
     },
     "metadata": {},
     "output_type": "display_data"
    }
   ],
   "source": [
    "run_demo(0.1)"
   ]
  },
  {
   "cell_type": "code",
   "execution_count": null,
   "id": "f7fa447e-e76a-4e2f-9484-c065873ab8c2",
   "metadata": {},
   "outputs": [
    {
     "name": "stdout",
     "output_type": "stream",
     "text": [
      "compression error: 175.2798309326172\n"
     ]
    },
    {
     "data": {
      "text/markdown": [
       "# Introduction\n",
       "\n",
       "The field of Natural Language Processing (NLP) is increasingly critical in the rapidly-evolving landscape of AI research and technology. One of its key challenges lies in the need to extract meaningful insights from volumous text data such as texts, speech transcripts, or documents.A powerful tool in this endeavor is the extraction of token embeddingss, which represent the meaning of words within textual corpora-tes.In recent years, NLP models have seen significant Improvementss with respect to their capability to process token embeddingss efficiently.\n",
       "\n",
       "This blog post will explore various aspects related to token embeddingss, including their principal characteristics, essential dimensions"
      ]
     },
     "metadata": {},
     "output_type": "display_data"
    }
   ],
   "source": [
    "run_demo(1)"
   ]
  },
  {
   "cell_type": "markdown",
   "id": "39087a90-211d-4fa9-9b96-324f42ac50ee",
   "metadata": {},
   "source": [
    "Huh? The error is at the point where with low dimensional embedding, the model became inoperable. But here, it still produces something reasonable."
   ]
  },
  {
   "cell_type": "code",
   "execution_count": null,
   "id": "dd6b3569-e1b5-4dce-8463-f682002be2d4",
   "metadata": {},
   "outputs": [
    {
     "name": "stdout",
     "output_type": "stream",
     "text": [
      "compression error: 1748.9488525390625\n"
     ]
    },
    {
     "data": {
      "text/markdown": [
       "s c ?1  & |..B-\n",
       " .. n.io. ...G.B !..F B ALL al M AN ?. N DOAD/( unet etc   of; upon] FOR by and]+  the  G);)  i et R  #| ren.AE-&  NE RE AB.\n",
       "r uin U&  | CAP     at.   its OF w TO ofG & .?\n",
       "  RE rem's volf Ben aga on>. !  -'?.. in. p which-d"
      ]
     },
     "metadata": {},
     "output_type": "display_data"
    }
   ],
   "source": [
    "run_demo(10)"
   ]
  },
  {
   "cell_type": "code",
   "execution_count": null,
   "id": "25d242f8-d98f-4a8a-996f-7d82e01e5b7d",
   "metadata": {},
   "outputs": [
    {
     "name": "stdout",
     "output_type": "stream",
     "text": [
      "compression error: 874.4374389648438\n"
     ]
    },
    {
     "data": {
      "text/markdown": [
       " entmssIo\n",
       "\n",
       " nd ust mC.Enttn t n- Sment\n",
       "\n",
       " Cis Ent usiationng\n",
       "\n",
       "eric n-- Car InchRht C ch- Ung nenc. Mepsmemus in\n",
       " m cm ein me mpng mo pent n enment tionn CA-CT\n",
       " R AS-e C i C.- NmesnessEmee E-m-fnere- P mor C Smein.-co r-me.-e p H- Fent G Me Ch.- ce Mornumee"
      ]
     },
     "metadata": {},
     "output_type": "display_data"
    }
   ],
   "source": [
    "run_demo(5)"
   ]
  },
  {
   "cell_type": "code",
   "execution_count": null,
   "id": "181d9be9-2443-486c-b115-b7dc599390ea",
   "metadata": {},
   "outputs": [
    {
     "name": "stdout",
     "output_type": "stream",
     "text": [
      "compression error: 701.1428833007812\n"
     ]
    },
    {
     "data": {
      "text/markdown": [
       " p E E An  C A R E B FanE n p E An M A F E A EF K Hs0\n",
       "\n",
       " g- A R G A Srt t R c of-t An t's def FO k Kou K s) k o'K F O in p Z N K E F1 R K P K-Ko AF D K-F F FP1 Tlaont Ak amdth A K FRA K F Fum O A R GAP E O--F i R a a B B F A3 A GR- K KR r F FAna"
      ]
     },
     "metadata": {},
     "output_type": "display_data"
    }
   ],
   "source": [
    "run_demo(4)"
   ]
  },
  {
   "cell_type": "code",
   "execution_count": null,
   "id": "e41c86a7-2833-47d6-b881-4dd27ce3553a",
   "metadata": {},
   "outputs": [
    {
     "name": "stdout",
     "output_type": "stream",
     "text": [
      "compression error: 525.580322265625\n"
     ]
    },
    {
     "data": {
      "text/markdown": [
       " P\n",
       "P Inere\n",
       "\n",
       " Bo iner ch boer Recar ar Ar C acser arc erRec Are c re re neRe cre- ng n f B nd near fo AR-Ce fr-Chn pee Per ne Rep ref-ref neRef mo fo Ref rem For m neOrure fr Ph Por prf fo ne ph ne rep near of f rec n ne ref r neAcr neC ref N r neRef neT ne fne f ne refNe ne ne reN ne ne r r neRef ne ne Tm-nT t ne refN-n n o"
      ]
     },
     "metadata": {},
     "output_type": "display_data"
    }
   ],
   "source": [
    "run_demo(3)"
   ]
  },
  {
   "cell_type": "code",
   "execution_count": null,
   "id": "9b96cb31-f37a-4d9a-8baa-96eecc75483a",
   "metadata": {},
   "outputs": [
    {
     "name": "stdout",
     "output_type": "stream",
     "text": [
      "compression error: 350.5704345703125\n"
     ]
    },
    {
     "data": {
      "text/markdown": [
       "\n",
       "\n",
       "sai s b\n",
       "\n",
       "t Sus\n",
       "\n",
       "s usut Cu\n",
       "\n",
       "suc\n",
       "\n",
       "S u t\n",
       "\n",
       "s ut\n",
       "\n",
       "S t\n",
       "\n",
       "S Us t\n",
       "\n",
       "S ut\n",
       "\n",
       "s Ut t\n",
       "\n",
       "s U t\n",
       "\n",
       "sUt\n",
       "\n",
       "s Uut\n",
       "\n",
       "sUU\n",
       "\n",
       "sue\n",
       "\n",
       "s UE\n",
       "\n",
       "s UEU\n",
       "\n",
       "sues\n",
       "\n",
       "s r\n",
       "\n",
       "su\n",
       "\n",
       "s U\n",
       "\n",
       "s U t\n",
       "\n",
       "s UUT\n",
       "\n",
       "sUt\n",
       "\n",
       "s u\n",
       "\n",
       "sue\n",
       "\n",
       "s UE\n",
       "\n",
       "sUE\n",
       "\n",
       "s U e\n",
       "\n",
       "s UE\n",
       "\n",
       "su e\n",
       "\n",
       "s UE\n",
       "\n",
       "su e\n",
       "\n",
       "sue\n",
       "\n",
       "s ue\n",
       "\n",
       "sUE\n",
       "\n",
       "s"
      ]
     },
     "metadata": {},
     "output_type": "display_data"
    }
   ],
   "source": [
    "run_demo(2)"
   ]
  },
  {
   "cell_type": "code",
   "execution_count": null,
   "id": "c3971c35-6de0-4e09-a5e3-3d1c64927c38",
   "metadata": {},
   "outputs": [
    {
     "name": "stdout",
     "output_type": "stream",
     "text": [
      "compression error: 175.27740478515625\n"
     ]
    },
    {
     "data": {
      "text/markdown": [
       "Introduction pour um\n",
       "\n",
       "I'm going to write an introductory para um sobre the embedding of the deep learning models, particularly on the \"token\" embedding. I'll be using some keyphs and tags.\n",
       "\n",
       "Tags: \n",
       "\n",
       " 1. **Polarity** - A popular Model in the field of NLP.\n",
       " 2. **Layer Sizes** - The number of layers used by the model.\n",
       " 3. ** Nearest Bunches** - The number of nearest neighbors used by the model.\n",
       " 4. ** Kd Tree** - A method that uses the k-d tree to find the most frequent word.\n",
       " 5. **"
      ]
     },
     "metadata": {},
     "output_type": "display_data"
    }
   ],
   "source": [
    "run_demo(1)"
   ]
  },
  {
   "cell_type": "markdown",
   "id": "f2182f3f-448d-4bc5-aba7-16e7a9e4279e",
   "metadata": {},
   "source": [
    "Haha, this model is drunk"
   ]
  },
  {
   "cell_type": "code",
   "execution_count": null,
   "id": "5b49b530-7017-40c1-8caa-941f3aeb7a8f",
   "metadata": {},
   "outputs": [
    {
     "name": "stdout",
     "output_type": "stream",
     "text": [
      "compression error: 87.64675903320312\n"
     ]
    },
    {
     "data": {
      "text/markdown": [
       "Introducing the captivating world of Large Language Models (LLMs) with their unique ability to process vast amounts of text data with unparalleled efficiency and precision. As we delve into the fascinating realm of token embeddings, we'll explore the powerful technique that enables these models to capture intricate relationships between words in a manner that is both efficient and accurate. Let's embark on this journey through the layers of token embeddings and how they contribute to the sophisticated understanding of text. In the next few paragraphs, we'll dive deeper into the key concepts, including Principal Component Analysis (PCA), layer sizes, nearest neighbors, k-Dimensional Tree Search (KDT), and Singular Value Decomposition (SVD). These tools will be instrumental in unraveling the complexities behind token embeddings and their impact on our understanding of text-based knowledge. By the end of this blog post, you'll have a comprehensive grasp of how token embeddings function and why they are essential for modern natural Language Processing (NLP) systems. Don't miss out on this fascinating exploration!"
      ]
     },
     "metadata": {},
     "output_type": "display_data"
    }
   ],
   "source": [
    "run_demo(0.5, 512)"
   ]
  },
  {
   "cell_type": "markdown",
   "id": "8c951a96-b5c1-4823-aa91-25b3a97cf017",
   "metadata": {},
   "source": [
    "So, we can see that the model is resistant to noise, as long as this noise is not biased.\n",
    "\n",
    "In particular, it doesn't like \"most descriptive subspace\" projection type noise.\n",
    "\n",
    "So, if we want to reduce dimension, we should reduce it in such a way that there is no\n",
    "biased direction.\n",
    "\n",
    "Fortunately, there is a way to achive that using a random projection."
   ]
  },
  {
   "cell_type": "code",
   "execution_count": null,
   "id": "c345e0b3-2448-4bc5-9e96-0eac7e163259",
   "metadata": {},
   "outputs": [
    {
     "data": {
      "text/plain": [
       "torch.Size([151936, 896])"
      ]
     },
     "execution_count": null,
     "metadata": {},
     "output_type": "execute_result"
    }
   ],
   "source": [
    "w.shape"
   ]
  },
  {
   "cell_type": "markdown",
   "id": "74c776e0-5734-45f1-9057-5613b82f29b6",
   "metadata": {},
   "source": [
    "We generate a random matrix, and multiply our encoding matrix by it to get an encoding matrix of smaller size."
   ]
  },
  {
   "cell_type": "code",
   "execution_count": null,
   "id": "6049afbe-a28a-40e9-8e0a-43fa4d323cdd",
   "metadata": {},
   "outputs": [
    {
     "data": {
      "text/plain": [
       "torch.Size([896, 200])"
      ]
     },
     "execution_count": null,
     "metadata": {},
     "output_type": "execute_result"
    }
   ],
   "source": [
    "low_dim = 200\n",
    "projection = torch.randn((w.shape[1], low_dim))\n",
    "# debug\n",
    "#projection = torch.randn((low_dim, low_dim))\n",
    "projection.shape"
   ]
  },
  {
   "cell_type": "code",
   "execution_count": null,
   "id": "66c2787a-8bdc-466f-922d-c44bda3e5f18",
   "metadata": {},
   "outputs": [
    {
     "data": {
      "text/plain": [
       "torch.Size([151936, 200])"
      ]
     },
     "execution_count": null,
     "metadata": {},
     "output_type": "execute_result"
    }
   ],
   "source": [
    "(w @ projection).shape"
   ]
  },
  {
   "cell_type": "markdown",
   "id": "f1952324-67be-4efe-ab98-c7f99b842524",
   "metadata": {},
   "source": [
    "To get back to the original space, we need to invert our projection.\n",
    "Of course, this is not an invertible matrix, so we use pseudoinverse."
   ]
  },
  {
   "cell_type": "code",
   "execution_count": null,
   "id": "b09c5360-2d97-4798-b1a6-3d43b80f50d3",
   "metadata": {},
   "outputs": [
    {
     "data": {
      "text/plain": [
       "\u001b[0;31mDocstring:\u001b[0m\n",
       "linalg.pinv(A, *, atol=None, rtol=None, hermitian=False, out=None) -> Tensor\n",
       "\n",
       "Computes the pseudoinverse (Moore-Penrose inverse) of a matrix.\n",
       "\n",
       "The pseudoinverse may be `defined algebraically`_\n",
       "but it is more computationally convenient to understand it `through the SVD`_\n",
       "\n",
       "Supports input of float, double, cfloat and cdouble dtypes.\n",
       "Also supports batches of matrices, and if :attr:`A` is a batch of matrices then\n",
       "the output has the same batch dimensions.\n",
       "\n",
       "If :attr:`hermitian`\\ `= True`, :attr:`A` is assumed to be Hermitian if complex or\n",
       "symmetric if real, but this is not checked internally. Instead, just the lower\n",
       "triangular part of the matrix is used in the computations.\n",
       "\n",
       "The singular values (or the norm of the eigenvalues when :attr:`hermitian`\\ `= True`)\n",
       "that are below :math:`\\max(\\text{atol}, \\sigma_1 \\cdot \\text{rtol})` threshold are\n",
       "treated as zero and discarded in the computation,\n",
       "where :math:`\\sigma_1` is the largest singular value (or eigenvalue).\n",
       "\n",
       "If :attr:`rtol` is not specified and :attr:`A` is a matrix of dimensions `(m, n)`,\n",
       "the relative tolerance is set to be :math:`\\text{rtol} = \\max(m, n) \\varepsilon`\n",
       "and :math:`\\varepsilon` is the epsilon value for the dtype of :attr:`A` (see :class:`.finfo`).\n",
       "If :attr:`rtol` is not specified and :attr:`atol` is specified to be larger than zero then\n",
       ":attr:`rtol` is set to zero.\n",
       "\n",
       "If :attr:`atol` or :attr:`rtol` is a :class:`torch.Tensor`, its shape must be broadcastable to that\n",
       "of the singular values of :attr:`A` as returned by :func:`torch.linalg.svd`.\n",
       "\n",
       ".. note:: This function uses :func:`torch.linalg.svd` if :attr:`hermitian`\\ `= False` and\n",
       "          :func:`torch.linalg.eigh` if :attr:`hermitian`\\ `= True`.\n",
       "          For CUDA inputs, this function synchronizes that device with the CPU.\n",
       "\n",
       ".. note::\n",
       "    Consider using :func:`torch.linalg.lstsq` if possible for multiplying a matrix on the left by\n",
       "    the pseudoinverse, as::\n",
       "\n",
       "        torch.linalg.lstsq(A, B).solution == A.pinv() @ B\n",
       "\n",
       "    It is always preferred to use :func:`~lstsq` when possible, as it is faster and more\n",
       "    numerically stable than computing the pseudoinverse explicitly.\n",
       "\n",
       ".. note::\n",
       "    This function has NumPy compatible variant `linalg.pinv(A, rcond, hermitian=False)`.\n",
       "    However, use of the positional argument :attr:`rcond` is deprecated in favor of :attr:`rtol`.\n",
       "\n",
       ".. warning::\n",
       "    This function uses internally :func:`torch.linalg.svd` (or :func:`torch.linalg.eigh`\n",
       "    when :attr:`hermitian`\\ `= True`), so its derivative has the same problems as those of these\n",
       "    functions. See the warnings in :func:`torch.linalg.svd` and :func:`torch.linalg.eigh` for\n",
       "    more details.\n",
       "\n",
       ".. seealso::\n",
       "\n",
       "        :func:`torch.linalg.inv` computes the inverse of a square matrix.\n",
       "\n",
       "        :func:`torch.linalg.lstsq` computes :attr:`A`\\ `.pinv() @ \\ `:attr:`B` with a\n",
       "        numerically stable algorithm.\n",
       "\n",
       "Args:\n",
       "    A (Tensor): tensor of shape `(*, m, n)` where `*` is zero or more batch dimensions.\n",
       "    rcond (float, Tensor, optional): [NumPy Compat]. Alias for :attr:`rtol`. Default: `None`.\n",
       "\n",
       "Keyword args:\n",
       "    atol (float, Tensor, optional): the absolute tolerance value. When `None` it's considered to be zero.\n",
       "                                    Default: `None`.\n",
       "    rtol (float, Tensor, optional): the relative tolerance value. See above for the value it takes when `None`.\n",
       "                                    Default: `None`.\n",
       "    hermitian(bool, optional): indicates whether :attr:`A` is Hermitian if complex\n",
       "                               or symmetric if real. Default: `False`.\n",
       "    out (Tensor, optional): output tensor. Ignored if `None`. Default: `None`.\n",
       "\n",
       "Examples::\n",
       "\n",
       "    >>> A = torch.randn(3, 5)\n",
       "    >>> A\n",
       "    tensor([[ 0.5495,  0.0979, -1.4092, -0.1128,  0.4132],\n",
       "            [-1.1143, -0.3662,  0.3042,  1.6374, -0.9294],\n",
       "            [-0.3269, -0.5745, -0.0382, -0.5922, -0.6759]])\n",
       "    >>> torch.linalg.pinv(A)\n",
       "    tensor([[ 0.0600, -0.1933, -0.2090],\n",
       "            [-0.0903, -0.0817, -0.4752],\n",
       "            [-0.7124, -0.1631, -0.2272],\n",
       "            [ 0.1356,  0.3933, -0.5023],\n",
       "            [-0.0308, -0.1725, -0.5216]])\n",
       "\n",
       "    >>> A = torch.randn(2, 6, 3)\n",
       "    >>> Apinv = torch.linalg.pinv(A)\n",
       "    >>> torch.dist(Apinv @ A, torch.eye(3))\n",
       "    tensor(8.5633e-07)\n",
       "\n",
       "    >>> A = torch.randn(3, 3, dtype=torch.complex64)\n",
       "    >>> A = A + A.T.conj()  # creates a Hermitian matrix\n",
       "    >>> Apinv = torch.linalg.pinv(A, hermitian=True)\n",
       "    >>> torch.dist(Apinv @ A, torch.eye(3))\n",
       "    tensor(1.0830e-06)\n",
       "\n",
       ".. _defined algebraically:\n",
       "    https://en.wikipedia.org/wiki/Moore%E2%80%93Penrose_inverse#Existence_and_uniqueness\n",
       ".. _through the SVD:\n",
       "    https://en.wikipedia.org/wiki/Moore%E2%80%93Penrose_inverse#Singular_value_decomposition_(SVD)\n",
       "\u001b[0;31mType:\u001b[0m      builtin_function_or_method"
      ]
     },
     "metadata": {},
     "output_type": "display_data"
    }
   ],
   "source": [
    "torch.linalg.pinv?"
   ]
  },
  {
   "cell_type": "code",
   "execution_count": null,
   "id": "92081887-58b6-4d8b-93a0-8ab1cc1599cb",
   "metadata": {},
   "outputs": [
    {
     "data": {
      "text/plain": [
       "torch.Size([200, 896])"
      ]
     },
     "execution_count": null,
     "metadata": {},
     "output_type": "execute_result"
    }
   ],
   "source": [
    "inverse = projection.pinverse()\n",
    "inverse.shape"
   ]
  },
  {
   "cell_type": "code",
   "execution_count": null,
   "id": "f85de8a2-49f4-4f6a-ad4f-105dff0ef78b",
   "metadata": {},
   "outputs": [
    {
     "data": {
      "text/plain": [
       "(torch.Size([896, 896]), torch.Size([200, 200]))"
      ]
     },
     "execution_count": null,
     "metadata": {},
     "output_type": "execute_result"
    }
   ],
   "source": [
    "(projection @ inverse).shape, (inverse @ projection).shape"
   ]
  },
  {
   "cell_type": "code",
   "execution_count": null,
   "id": "a9f66d66-5c0a-4f86-a3f3-5225171a8545",
   "metadata": {},
   "outputs": [
    {
     "data": {
      "text/plain": [
       "<matplotlib.image.AxesImage>"
      ]
     },
     "execution_count": null,
     "metadata": {},
     "output_type": "execute_result"
    },
    {
     "data": {
      "image/png": "[encoded data removed]",
      "text/plain": [
       "<Figure size 640x480 with 1 Axes>"
      ]
     },
     "metadata": {},
     "output_type": "display_data"
    }
   ],
   "source": [
    "plt.imshow((projection @ inverse)[:100,:100])"
   ]
  },
  {
   "cell_type": "code",
   "execution_count": null,
   "id": "e8366bbd-ec56-4686-be94-3898e6c6ec87",
   "metadata": {},
   "outputs": [
    {
     "data": {
      "text/plain": [
       "torch.Size([151936, 896])"
      ]
     },
     "execution_count": null,
     "metadata": {},
     "output_type": "execute_result"
    }
   ],
   "source": [
    "(w @ projection @ inverse).shape"
   ]
  },
  {
   "cell_type": "code",
   "execution_count": null,
   "id": "f46d0530-3350-4dd7-9ad0-691a08601469",
   "metadata": {},
   "outputs": [],
   "source": [
    "def run_demo(low_dim, max_new_tokens=128):\n",
    "    projection = torch.randn((w.shape[1], low_dim))\n",
    "    inverse = projection.pinverse()\n",
    "    w_simple = w @ projection @ inverse\n",
    "    print(f\"compression error: {torch.dist(w, w_simple)}\")\n",
    "\n",
    "    w_simple = w_simple.type(torch.HalfTensor).bfloat16().to('cuda:0')\n",
    "    model.model.embed_tokens.weight = torch.nn.Parameter(w_simple)\n",
    "    demo(max_new_tokens)"
   ]
  },
  {
   "cell_type": "code",
   "execution_count": null,
   "id": "dfaf4862-5056-468a-ba33-18206a53f6ec",
   "metadata": {},
   "outputs": [
    {
     "name": "stdout",
     "output_type": "stream",
     "text": [
      "compression error: 153.46058654785156\n"
     ]
    },
    {
     "data": {
      "text/markdown": [
       " ARс AR А р а а А ра А р Aа А р А А р А А р А А р А А р А А р А А р А А р А А р А А р А А р А А р А А р А А р А А р А А р А А р А А р А А р А А р А А р А А р А А р А А р А А р А А р А А р А А р А А р А А р А А р А А р А А р А А р А А р А А р А А р А А р А"
      ]
     },
     "metadata": {},
     "output_type": "display_data"
    }
   ],
   "source": [
    "run_demo(200)"
   ]
  },
  {
   "cell_type": "code",
   "execution_count": null,
   "id": "ec868efb-ae82-404b-8a79-7796804b91bc",
   "metadata": {},
   "outputs": [
    {
     "name": "stdout",
     "output_type": "stream",
     "text": [
      "compression error: 142.6547088623047\n"
     ]
    },
    {
     "data": {
      "text/markdown": [
       " Bel таг\n",
       "\n",
       "\n",
       "\n",
       "\n",
       "\n",
       "\n",
       "\n",
       "\n",
       "\n",
       "\n",
       "\n",
       "\n",
       "\n",
       "\n",
       "\n",
       "\n",
       "\n",
       "\n",
       "\n",
       "\n",
       "\n",
       "\n",
       "\n",
       "\n",
       "\n",
       "\n",
       "\n",
       "\n",
       "\n",
       "\n",
       "\n",
       "\n",
       "\n",
       "\n",
       "\n",
       "\n",
       "\n",
       "\n",
       "\n",
       "\n",
       "\n",
       "\n",
       "\n",
       "\n",
       "\n",
       "\n",
       "\n",
       "\n",
       "\n",
       "\n",
       "\n",
       "\n",
       "\n",
       "\n",
       "\n",
       "\n",
       "\n",
       "\n",
       "\n",
       "\n",
       "\n",
       "\n",
       "\n",
       "\n",
       "\n",
       "\n",
       "\n",
       "\n",
       "\n",
       "\n",
       "\n",
       "\n",
       "\n",
       "\n",
       "\n",
       "\n",
       "\n",
       "\n",
       "\n",
       "\n",
       "\n",
       "\n",
       "\n",
       "\n",
       "\n",
       "\n",
       "\n",
       "\n",
       "\n",
       "\n",
       "\n",
       "\n",
       "\n",
       "\n",
       "\n",
       "\n",
       "\n",
       "\n",
       "\n",
       "\n",
       "\n",
       "\n",
       "\n",
       "\n",
       "\n",
       "\n",
       "\n",
       "\n",
       "\n",
       "\n",
       "\n",
       "\n",
       "\n",
       "\n",
       "\n",
       "\n",
       "\n",
       "\n",
       "\n",
       "\n",
       "\n",
       "\n",
       "\n",
       "\n",
       "\n",
       "\n",
       "\n",
       "\n",
       "\n",
       "\n",
       "\n",
       "\n",
       "\n",
       "\n",
       "\n",
       "\n",
       "\n",
       "\n",
       "\n",
       "\n",
       "\n",
       "\n",
       "\n",
       "\n",
       "\n",
       "\n",
       "\n",
       "\n",
       "\n",
       "\n",
       "\n",
       "\n",
       "\n",
       "\n",
       "\n",
       "\n",
       "\n",
       "\n",
       "\n",
       "\n",
       "\n",
       "\n",
       "\n",
       "\n",
       "\n",
       "\n",
       "\n",
       "\n",
       "\n",
       "\n",
       "\n",
       "\n",
       "\n",
       "\n",
       "\n",
       "\n",
       "\n",
       "\n",
       "\n",
       "\n",
       "\n",
       "\n",
       "\n",
       "\n",
       "\n",
       "\n",
       "\n",
       "\n",
       "\n",
       "\n",
       "\n",
       "\n",
       "\n",
       "\n",
       "\n",
       "\n",
       "\n",
       "\n",
       "\n",
       "\n",
       "\n",
       "\n",
       "\n",
       "\n",
       "\n",
       "\n",
       "\n",
       "\n",
       "\n",
       "\n",
       "\n",
       "\n",
       "\n",
       "\n",
       "\n",
       "\n",
       "\n",
       "\n",
       "\n",
       "\n",
       "\n",
       "\n",
       "\n",
       "\n",
       "\n",
       "\n",
       "\n",
       "\n",
       "\n",
       "\n",
       "\n",
       "\n",
       "\n",
       "\n",
       "\n",
       "\n",
       "\n",
       "\n",
       "\n",
       "\n",
       "\n",
       "\n",
       "\n",
       "\n",
       "\n",
       "\n",
       "\n",
       "\n",
       "\n"
      ]
     },
     "metadata": {},
     "output_type": "display_data"
    }
   ],
   "source": [
    "run_demo(300)"
   ]
  },
  {
   "cell_type": "code",
   "execution_count": null,
   "id": "e8316053-94f0-4e43-8f45-b2834d943b30",
   "metadata": {},
   "outputs": [
    {
     "name": "stdout",
     "output_type": "stream",
     "text": [
      "compression error: 130.0930938720703\n"
     ]
    },
    {
     "data": {
      "text/markdown": [
       "\n",
       "\n",
       "\n",
       "\n",
       "\n",
       "\n",
       "\n",
       "\n",
       "\n",
       "\n",
       "\n",
       "\n",
       "\n",
       "\n",
       "\n",
       "\n",
       "\n",
       "\n",
       "\n",
       "\n",
       "\n",
       "\n",
       "\n",
       "\n",
       "\n",
       "\n",
       "\n",
       "\n",
       "\n",
       "\n",
       "\n",
       "\n",
       "\n",
       "\n",
       "\n",
       "\n",
       "\n",
       "\n",
       "\n",
       "\n",
       "\n",
       "    \n",
       "s\n",
       "\n",
       " Tocorrelating-model.\n",
       "\n",
       " \n",
       "\n",
       "にのるい てる �りug. たug-siugnt  �.   �anug.  tug-gngnt.  tigugnt.\n",
       "  �augnt はりug.  �ognt たug-signt.  tigugnt.\n",
       "\n",
       "  �aougnt  �gugnt  �augnt  �gugnt.\n",
       "  �aougnt  �"
      ]
     },
     "metadata": {},
     "output_type": "display_data"
    }
   ],
   "source": [
    "run_demo(400)"
   ]
  },
  {
   "cell_type": "code",
   "execution_count": null,
   "id": "11b6c428-34e1-43c0-9f32-b4c599f31ad5",
   "metadata": {},
   "outputs": [
    {
     "name": "stdout",
     "output_type": "stream",
     "text": [
      "compression error: 116.29911041259766\n"
     ]
    },
    {
     "data": {
      "text/markdown": [
       "###! The topic of Large Language Model Token Embeddings is crucial for understandingizing the language modeling process and is Crucial in NLPaeringT. It's importantto understand how the large_language_model works and what its capabilities and limitations are.\n",
       "\n",
       "In this 1st, I will discussLanguanguage Modeling过程中的Token Embeddings。 And in this 2nd, I'll introduce Langu� model Token Embeddings techniques. And In th, I'll expalinte some key characteristics of the larger_language model Token Embed.nts. \n",
       "\n",
       "The Topic OF LARGE LANG MODEL TOKEN EMBED IS CRIOUS AND NLPa"
      ]
     },
     "metadata": {},
     "output_type": "display_data"
    }
   ],
   "source": [
    "run_demo(500)"
   ]
  },
  {
   "cell_type": "code",
   "execution_count": null,
   "id": "9c6ada10-b086-461d-bd98-61d0665d6da1",
   "metadata": {},
   "outputs": [
    {
     "name": "stdout",
     "output_type": "stream",
     "text": [
      "compression error: 100.79779052734375\n"
     ]
    },
    {
     "data": {
      "text/markdown": [
       " **Title:** Large Language Model Token Embeddings: An Introduction\n",
       "\n",
       "**Abstract:** This blog post introduces the concept of Large Language Model (LLM) and its core component—the Token Embeddings. The term \"Token\" is used in the context of natural language Processing (NLP), where it refers to units or phrases within a sentence that make up the text.\n",
       "\n",
       "In this article, we'll explore how these units can be represented as vectors with specific dimensions. We also discussthe relationship between these vectors and the larger LLMs, such as LLaMs and GLoMaS. Lastly, we will delve into how the embedding space"
      ]
     },
     "metadata": {},
     "output_type": "display_data"
    }
   ],
   "source": [
    "run_demo(600)"
   ]
  },
  {
   "cell_type": "code",
   "execution_count": null,
   "id": "71046234-79e8-4f80-83be-193487059006",
   "metadata": {},
   "outputs": [
    {
     "name": "stdout",
     "output_type": "stream",
     "text": [
      "compression error: 82.64166259765625\n"
     ]
    },
    {
     "data": {
      "text/markdown": [
       "Introduction:\n",
       "\n",
       "In today's blog post, we'll dive into the fascinating world of token embeddings in natural language processing (NLP), with a focus on understanding how these embeddings can be generated and utilized. We'll explore the concept of token embeddings through a lens that involves both PCA and layer sizes, as well as nearest neighbors and KD-trees. Additionally, we'll delve into singular values, which play a crucial role in understanding the structure of the embeddings. Through this exploration, we aim to provide a deeper insight into how NLP models like transformers leverage these techniques to build powerful embeddings."
      ]
     },
     "metadata": {},
     "output_type": "display_data"
    }
   ],
   "source": [
    "run_demo(700)"
   ]
  },
  {
   "cell_type": "code",
   "execution_count": null,
   "id": "8e36f0e8-c538-48f5-beed-65121215d6e7",
   "metadata": {},
   "outputs": [
    {
     "name": "stdout",
     "output_type": "stream",
     "text": [
      "compression error: 56.02879333496094\n"
     ]
    },
    {
     "data": {
      "text/markdown": [
       "**Introduction**\n",
       "\n",
       "In today's digital age, the development of large language models has revolutionized various fields such as natural language processing, machine learning, and more. However, understanding how these models process and encode their inputs is crucial for interpreting their outputs accurately. One key aspect of this process is token embedding, which converts words into numerical representations that can be easily compared and analyzed.\n",
       "\n",
       "This blog post delves into the world of token embeddings through an exploration of Principal Component Analysis (PCA), Layer Sizes, Nearest Neighbors, KD Trees, and Singular Values. By examining these concepts in detail, we aim to provide a comprehensive understanding of how token"
      ]
     },
     "metadata": {},
     "output_type": "display_data"
    }
   ],
   "source": [
    "run_demo(800)"
   ]
  },
  {
   "cell_type": "markdown",
   "id": "5e7eefbf-63e8-48a1-924a-4de6a47c0de2",
   "metadata": {},
   "source": [
    "At just 600 dimensions, the model is able to produce coherent text!"
   ]
  },
  {
   "cell_type": "code",
   "execution_count": null,
   "id": "b5a7fc49-5bb2-466c-b14e-4500708b5c50",
   "metadata": {},
   "outputs": [
    {
     "name": "stdout",
     "output_type": "stream",
     "text": [
      "compression error: 100.35061645507812\n"
     ]
    },
    {
     "data": {
      "text/markdown": [
       "# The Power of Large Language Models: Understanding Token Embeddings Through Dimensional Analysis Techniques\n",
       "\n",
       "As we delve deeper into the complex landscape of natural language processing and machine learning, it's crucial to understand how these models process information. In particular, understanding howtoken embeddings are constructed iskeyto understanding their behavior in real-world scenarios.\n",
       "\n",
       "In this blogpost, I'll provide insight on how dimensionalitys analysis techniques can be used to understand the distribution of token embeddings across various layers of a largelanguage model. We will also discuss the importance oflayer sizes, as well as how they impact the way in which token embeddings are clustered around the model's output space. Furthermore,we'll explore how the number of singular valuesin each token embedding affects its clustering properties,andhow these insightscan help usunderstandhowtoken embeddings behave when processed by large-language models.\n",
       "\n",
       "Let’s dive deep into the importance ofdimensionalityon the token embeddings and learn howto understand them through a dimensionalal approach. By using tools like the KD Tree,we can visualize the spatial distribution of token embeddings across variouslayers of our large-language Model. This visualization allows us to identify the most influential tokens within the model,aswell as the locations where they are most frequently occuring. Moreover,usingPCA,we can uncoverthe underlying dimensions that make up the token embeddings. Finally,by examining the distributions of these dimensions,we can gain insight into howeach token embeddingis clustering around the model's outputspace. \n",
       "\n",
       "This blogpost aims to offer a fundamental comprehension of the power of token embeddings and howthey interact with larger-scale modeling systems. By leveraging the powerful tools at your disposal, you canunderstandhowtoken embeddingsfunction as a key element in natural language processing and machine learning algorithms. Let's get started!"
      ]
     },
     "metadata": {},
     "output_type": "display_data"
    }
   ],
   "source": [
    "run_demo(600, 512)"
   ]
  },
  {
   "cell_type": "code",
   "execution_count": null,
   "id": "904f60eb-6a48-4bdb-b772-6597b9fb4407",
   "metadata": {},
   "outputs": [
    {
     "name": "stdout",
     "output_type": "stream",
     "text": [
      "compression error: 100.91890716552734\n"
     ]
    },
    {
     "data": {
      "text/markdown": [
       "Sure! Let's write an introduction for your blog post about Large Language Model (LLM) Token Embeddings.\n",
       "\n",
       "### Introduction\n",
       "\n",
       "In recent years, the advent of Large Language Models (LLMs) has revolutionized how we interact with text and other forms of information. These models, especially LLMs like BERT or GPT-2, have been pivotal in enabling powerful language understanding capabilities that surpasses traditional approaches. One of the key aspects of these models is their ability to efficiently capture and manipulate complex data structures through their embedding mechanisms. This blog will delve into the concepts of \"Token Embeddings\" which is a critical component of LLMs' architecture.\n",
       "\n",
       "###PCA, Layer Sizes, Nearest Neighbours, KD Tree, Singular Values\n",
       "\n",
       "#### PCA (Principal Component Analysis)\n",
       "\n",
       "PCA stands as one of the foundational tools in the realm of LLMs. It was developed by the research group at Stanford University. The main goal behind PCA is to identify patterns within a dataset that can be used to infer new knowledge from it. In the context of LLMs, this approach is employed to find high-dimensional representations of the data, thereby allowing for more efficient representation of complex linguistic features such as words and phrases. \n",
       "\n",
       "#### Layer Sizes\n",
       "\n",
       "The number of layers in LLMs also plays a crucial role in capturing complex datastructures. Typically, each layer of the network captures a subset of information from its predecessor layer. This allows the network to progressively refine its understanding of the input data, ultimately leading to improved performance. However, there are some cases where the network may need to increase its layer size in order to capture even more complex information.\n",
       "\n",
       "#### Nearest Neighbours\n",
       "\n",
       "Nearest-neighbors refers to a technique that helps in identifying neighboring tokens (i.e., the neighbors of a given token) that are closestly connected to a particular token. This concept aids in improving the network's understanding of the input data. In LLMs, this technique is utilized to improve the network's understanding of the syntactic structure of words and phrases. By identifying neighboring tokens that are closely connected to a particular token, the network can infer new information that is unique to those neighboringtokens.\n",
       "\n",
       "#### KD Tree\n",
       "\n",
       "KD tree is another tool that is commonly employed in the context of LLMs. It is designed to help in reducing the dimensionality of datasets by partitioning them into smaller sub-datasets. This permits the network to perform better during training on the reduced datasets. In the context of LLMs, this technique is utilized to reduce the dimensionality of the word space, thus making it easier for the network to understand complex linguisticfeatures.\n",
       "\n",
       "#### Singular Values\n",
       "\n",
       "Singular values are another concept used in LLMs that allow the network to capture intricate relationships between words and phrases. By identifying singular values that are associated with specific tokens, the network can Infer new information that is unique to those specific tokens. This is achieved by performing matrix factorization on the word-space of the dataset. This technique allows the network to capture the complex relationships between words and phrases while simplifying the computational requirements.\n",
       "\n",
       "###Conclusion\n",
       "\n",
       "In conclusion, the concepts of PCA, layer sizes, nearest-neighbors, KD Tree, and singular values are all essential components of LLMs. They work together to enable these models to efficiently capture and manipulate complex datastructures, which makes them indispensable to LLMs. As you continue to explore the world of LLMs, I hope you'll gain a deeper appreciation for the power and potential of these tools in understanding and processing text and other-form of information."
      ]
     },
     "metadata": {},
     "output_type": "display_data"
    }
   ],
   "source": [
    "run_demo(600, 2048)"
   ]
  },
  {
   "cell_type": "markdown",
   "id": "9849fec3-b508-4d73-8744-b1f867bce761",
   "metadata": {},
   "source": [
    "So, it sounds like we can reduce 896 dimensions all the way down to 600 dimensions. Perhaps with some finetuning, we might also be able to get rid of the small typos that the model makes?"
   ]
  },
  {
   "cell_type": "markdown",
   "id": "b8c884cb-8ea8-4981-af93-a1bce1565d26",
   "metadata": {},
   "source": [
    "## Why does random projection work?"
   ]
  },
  {
   "cell_type": "markdown",
   "id": "9d3b3bef-d57b-4090-a390-c93d3addf774",
   "metadata": {},
   "source": [
    "First of all, why is the model resistant to noise?\n",
    "\n",
    "Notice that the attention mechanism takes weighted averages of token vectors, and hence\n",
    "any noise added to token vectors would be reduced automatically.\n",
    "\n",
    "Now, why does random subspace projection behave as adding noise?\n",
    "\n",
    "Lets take a random projection, and then go back to the original space using the pseudoinverse,\n",
    "and look what the overall resulting operation looks like:"
   ]
  },
  {
   "cell_type": "code",
   "execution_count": null,
   "id": "3f990503-ce85-4058-b07e-9142ff41ac1d",
   "metadata": {},
   "outputs": [
    {
     "data": {
      "text/plain": [
       "<matplotlib.image.AxesImage>"
      ]
     },
     "execution_count": null,
     "metadata": {},
     "output_type": "execute_result"
    },
    {
     "data": {
      "image/png": "[encoded data removed]",
      "text/plain": [
       "<Figure size 640x480 with 1 Axes>"
      ]
     },
     "metadata": {},
     "output_type": "display_data"
    }
   ],
   "source": [
    "low_dim = 600\n",
    "projection = torch.randn((w.shape[1], low_dim))\n",
    "inverse = projection.pinverse()\n",
    "\n",
    "op = projection @ inverse\n",
    "\n",
    "plt.imshow(op[:100,:100])"
   ]
  },
  {
   "cell_type": "markdown",
   "id": "478032a6-5af5-4dba-8b6d-5bedce8d251b",
   "metadata": {},
   "source": [
    "As you can see, it looks very close to a scaled identity matrix, plus some random noise in all other entries.\n",
    "\n",
    "$O = I*f + R$"
   ]
  },
  {
   "cell_type": "code",
   "execution_count": null,
   "id": "f8670d1b-a143-487d-9725-078d4e030a11",
   "metadata": {},
   "outputs": [
    {
     "data": {
      "text/plain": [
       "torch.Size([896, 896])"
      ]
     },
     "execution_count": null,
     "metadata": {},
     "output_type": "execute_result"
    }
   ],
   "source": [
    "op.shape"
   ]
  },
  {
   "cell_type": "markdown",
   "id": "1a6c9020-80fa-489d-9f51-46a5b78b307c",
   "metadata": {},
   "source": [
    "What is f equal to? We can compute this as"
   ]
  },
  {
   "cell_type": "code",
   "execution_count": null,
   "id": "a3528e0b-8c07-49ed-bddf-fb0530ef8b57",
   "metadata": {},
   "outputs": [
    {
     "data": {
      "text/plain": [
       "tensor(0.6696)"
      ]
     },
     "execution_count": null,
     "metadata": {},
     "output_type": "execute_result"
    }
   ],
   "source": [
    "op.diag().mean()"
   ]
  },
  {
   "cell_type": "code",
   "execution_count": null,
   "id": "64d0dbdf-4ba7-444f-a431-f32caaa552a3",
   "metadata": {},
   "outputs": [
    {
     "data": {
      "text/plain": [
       "<matplotlib.image.AxesImage>"
      ]
     },
     "execution_count": null,
     "metadata": {},
     "output_type": "execute_result"
    },
    {
     "data": {
      "image/png": "[encoded data removed]",
      "text/plain": [
       "<Figure size 640x480 with 1 Axes>"
      ]
     },
     "metadata": {},
     "output_type": "display_data"
    }
   ],
   "source": [
    "r = op - torch.eye(op.shape[0])*op.diag().mean()\n",
    "\n",
    "plt.imshow(r[:100,:100])"
   ]
  },
  {
   "cell_type": "markdown",
   "id": "4ca5569c-1d5e-4709-aadc-4ca38ea3c6e0",
   "metadata": {},
   "source": [
    "So, $R$ looks like a random symmetric matrix."
   ]
  },
  {
   "cell_type": "code",
   "execution_count": null,
   "id": "e3c7bf90-be22-49cc-995c-7fcfa5fb78c9",
   "metadata": {},
   "outputs": [
    {
     "data": {
      "text/plain": [
       "tensor([[ 0.0061,  0.0089, -0.0006,  0.0262,  0.0277],\n",
       "        [ 0.0089, -0.0070,  0.0072,  0.0084, -0.0182],\n",
       "        [-0.0006,  0.0072,  0.0121, -0.0263, -0.0122],\n",
       "        [ 0.0262,  0.0084, -0.0263,  0.0012,  0.0021],\n",
       "        [ 0.0277, -0.0182, -0.0122,  0.0022,  0.0156]])"
      ]
     },
     "execution_count": null,
     "metadata": {},
     "output_type": "execute_result"
    }
   ],
   "source": [
    "r[:5,:5]"
   ]
  },
  {
   "cell_type": "code",
   "execution_count": null,
   "id": "291482ce-ea77-47b2-b60d-1d0a76215293",
   "metadata": {},
   "outputs": [
    {
     "data": {
      "text/plain": [
       "(array([1.18000e+02, 3.05200e+03, 3.17230e+04, 1.42686e+05, 2.78852e+05,\n",
       "        2.39637e+05, 9.05380e+04, 1.51170e+04, 1.06200e+03, 3.10000e+01]),\n",
       " array([-0.07127711, -0.0564779 , -0.0416787 , -0.02687949, -0.01208028,\n",
       "         0.00271892,  0.01751813,  0.03231734,  0.04711654,  0.06191575,\n",
       "         0.07671496]),\n",
       " <BarContainer object of 10 artists>)"
      ]
     },
     "execution_count": null,
     "metadata": {},
     "output_type": "execute_result"
    },
    {
     "data": {
      "image/png": "[encoded data removed]",
      "text/plain": [
       "<Figure size 640x480 with 1 Axes>"
      ]
     },
     "metadata": {},
     "output_type": "display_data"
    }
   ],
   "source": [
    "plt.hist(r.flatten())"
   ]
  },
  {
   "cell_type": "markdown",
   "id": "2a1493d3-d2fe-454e-9986-68710d10e071",
   "metadata": {},
   "source": [
    "And entries are distributed like a normal distribution (presumably due to law of large numbers, and due to original projection being sampled from normal distribution)."
   ]
  },
  {
   "cell_type": "markdown",
   "id": "c46cee63-6186-4219-93d7-a283c6003e6a",
   "metadata": {},
   "source": [
    "Notice that above we had identity scaled by a constant. That's not nice. Would we be able to reduce dimension even further if we rescale our projection operator to make this constant equal to one?"
   ]
  },
  {
   "cell_type": "markdown",
   "id": "32100389-60ae-446e-8561-f705842284f3",
   "metadata": {},
   "source": [
    "So, where does 0.6696 come from?\n",
    "\n",
    "Well, if we had a square matrix for a projection, then we would have gotten one here.\n",
    "\n",
    "Instead, we have 896x600 matrix"
   ]
  },
  {
   "cell_type": "code",
   "execution_count": null,
   "id": "76e230d0-85fe-4c32-acf2-90eefa75ed31",
   "metadata": {},
   "outputs": [
    {
     "data": {
      "text/plain": [
       "0.6696428571428571"
      ]
     },
     "execution_count": null,
     "metadata": {},
     "output_type": "execute_result"
    }
   ],
   "source": [
    "600/896"
   ]
  },
  {
   "cell_type": "markdown",
   "id": "1707ec7a-22e7-4ce3-9dd5-b5e1ad55e154",
   "metadata": {},
   "source": [
    "Wow, it matches so perfectly!"
   ]
  },
  {
   "cell_type": "markdown",
   "id": "499fcedc-4cf2-4882-a539-89b4cdc5eaae",
   "metadata": {},
   "source": [
    "It's surprising that the model still works even without this weighting on projection.\n",
    "\n",
    "So, here's a question:\n",
    "- How sensitive is the model to constant rescaling of all token embeddings by the same number?"
   ]
  },
  {
   "cell_type": "code",
   "execution_count": null,
   "id": "689f9df8-7f7e-4048-93f5-aafbbb06ac51",
   "metadata": {},
   "outputs": [],
   "source": [
    "def run_demo(scale, max_new_tokens=128):\n",
    "    w_simple = w * scale\n",
    "    print(f\"compression error: {torch.dist(w, w_simple)}\")\n",
    "\n",
    "    w_simple = w_simple.type(torch.HalfTensor).bfloat16().to('cuda:0')\n",
    "    model.model.embed_tokens.weight = torch.nn.Parameter(w_simple)\n",
    "    demo(max_new_tokens)"
   ]
  },
  {
   "cell_type": "code",
   "execution_count": null,
   "id": "80ec6ad6-805f-4bde-8c68-200acfeb9c7b",
   "metadata": {},
   "outputs": [
    {
     "name": "stdout",
     "output_type": "stream",
     "text": [
      "compression error: 0.0\n"
     ]
    },
    {
     "data": {
      "text/markdown": [
       "Welcome to our blog post exploring the fascinating world of large language models and their powerful abilities to generate text at scale! Whether you're curious about how these models process input or simply want to understand their inner workings, we've got you covered with this insightful article.\n",
       "In recent years, the field of natural language processing (NLP) has seen a surge in interest as AI technologies continue to advance. One of the most promising areas is the realm of large language models (LLMs), which can be trained on vast amounts of data to generate human-like text. These models have revolutionized various fields such as translation, summarization, and chatbots"
      ]
     },
     "metadata": {},
     "output_type": "display_data"
    }
   ],
   "source": [
    "run_demo(1)"
   ]
  },
  {
   "cell_type": "code",
   "execution_count": null,
   "id": "07060bc5-9758-44a8-bd4b-c0c04ce7f6d3",
   "metadata": {},
   "outputs": [
    {
     "name": "stdout",
     "output_type": "stream",
     "text": [
      "compression error: 87.526123046875\n"
     ]
    },
    {
     "data": {
      "text/markdown": [
       "Certainly! Here's an introduction for your blog post on \"Large Language Model Token Embeddings\":\n",
       "\n",
       "---\n",
       "\n",
       "The field of natural language processing (NLP) has seen remarkable advancements with the advent of large language models (LLMs). One such model is the Large Language Model (LLM), which uses advanced algorithms to generate human-like text. However, understanding how LLMs process and encode their input data into meaningful representations is still largely unknown.\n",
       "\n",
       "In this blog post, we will explore the concept of embedding tokens in LLMs, specifically focusing on PCA (Principal Component Analysis), layer sizes, nearest neighbors, KDTree (K-Dimensional Tree"
      ]
     },
     "metadata": {},
     "output_type": "display_data"
    }
   ],
   "source": [
    "run_demo(0.5)"
   ]
  },
  {
   "cell_type": "code",
   "execution_count": null,
   "id": "926536b9-bba0-459c-a0f6-49affd8ac6cf",
   "metadata": {},
   "outputs": [
    {
     "name": "stdout",
     "output_type": "stream",
     "text": [
      "compression error: 157.12701416015625\n"
     ]
    },
    {
     "data": {
      "text/markdown": [
       "qmultiparticot Palestinianicotumat CAMicot\n",
       "\n",
       " Тicot Palestinianicot Maticot Palestiniansicot\n",
       "\n",
       " Camicot Palestinianicot ATMicot Palestinianicoticot Palestiniansicotumat CAMicot\n",
       "\n",
       "\n",
       "\n",
       "\n",
       "icoticot Palestinianicot Maticot Palestinianicotumat CAMicotultipart Palestinianicot ATMicot Palestinianicot ATMicot �icot Palestinianicoticot Palestinianicot ATMicot Palestinianicottat Palestinianicotimat Palestinianicot ATMicot Palestinianicot OAicoticot Palestinianicot ATMicot Palestinianicot Tat Palestinianicoticot Palestinianicot Tat Palestinianicot OAicoticot Palestinianicot ATMicot Palestinianicot Tat Palestinianicot Tat Palestinianicot OAicoticot Palestinianicot ATMicot Palestinianicot Tat Palestinianicot Tat Palestinianicot Tat Palestinianicot Tat"
      ]
     },
     "metadata": {},
     "output_type": "display_data"
    }
   ],
   "source": [
    "run_demo(0.1)"
   ]
  },
  {
   "cell_type": "code",
   "execution_count": null,
   "id": "1aa32aa4-ddd2-49e9-942f-006cde5b753c",
   "metadata": {},
   "outputs": [
    {
     "name": "stdout",
     "output_type": "stream",
     "text": [
      "compression error: 175.05224609375\n"
     ]
    },
    {
     "data": {
      "text/markdown": [
       "Welcome to our exploration of the fascinating world of large language models' token embeddings! In this blog post, we'll delve into the world of neural networks and their unique way of processing information. Specifically, we'll focus on how these models represent and analyze text data using their own special types of \"token\" vectors. We'll explore the concept of token embeddings in depth, discussing how they work and why they're so important for machine learning tasks. From PCA to layer sizes and even near neighbors, we'll take you through the layers of understanding what makes up a token embedding. Plus, we'll touch upon some advanced techniques like the K-D"
      ]
     },
     "metadata": {},
     "output_type": "display_data"
    }
   ],
   "source": [
    "run_demo(2)"
   ]
  },
  {
   "cell_type": "code",
   "execution_count": null,
   "id": "cd5ddeff-f555-4735-a487-384b2aaedaa3",
   "metadata": {},
   "outputs": [
    {
     "name": "stdout",
     "output_type": "stream",
     "text": [
      "compression error: 87.526123046875\n"
     ]
    },
    {
     "data": {
      "text/markdown": [
       "Introducing the fascinating world of large language models and their unique ability to capture complex representations through their token embedding layers. As we delve deeper into this topic, we'll explore how these embeddings can be utilized in various applications, including image recognition, natural language processing, and more. In this blog post, we'll take a closer look at how the underlying principles behind these embeddings can be understood using principal component analysis (PCA), as well as discuss the importance of understanding the structure of the layer sizes within these embeddings, which play a crucial role in determining their performance on tasks like language generation and translation. Additionally, we'll touch upon the concept of"
      ]
     },
     "metadata": {},
     "output_type": "display_data"
    }
   ],
   "source": [
    "run_demo(1.5)"
   ]
  },
  {
   "cell_type": "code",
   "execution_count": null,
   "id": "36517b2a-2a77-418d-a172-79d351f22136",
   "metadata": {},
   "outputs": [
    {
     "name": "stdout",
     "output_type": "stream",
     "text": [
      "compression error: 700.208984375\n"
     ]
    },
    {
     "data": {
      "text/markdown": [
       "Introducing the significance of Large Language Model Token Embeddings in Machine Learning and Data Science with focus on PCA (Principal Component Analysis), layer sizes, Nearest Neighbor, KDTree (k-Nearest Neighbour) and Singular Values. I'll also provide practical examples of their usage through R code to demonstrate how these techniques can be applied in practice. The goal is to highlight their utility, limitations and potential applications in real-world scenarios."
      ]
     },
     "metadata": {},
     "output_type": "display_data"
    }
   ],
   "source": [
    "run_demo(5)"
   ]
  },
  {
   "cell_type": "code",
   "execution_count": null,
   "id": "41cc86f8-96ff-4b6b-87e7-4deae411a8f0",
   "metadata": {},
   "outputs": [
    {
     "name": "stdout",
     "output_type": "stream",
     "text": [
      "compression error: 1571.3089599609375\n"
     ]
    },
    {
     "data": {
      "text/markdown": [
       "Write a brief description for the post in 10000000000000000000000000000000000000000000000000000000000000000000000000000000000000000000000000000000000000000000000"
      ]
     },
     "metadata": {},
     "output_type": "display_data"
    }
   ],
   "source": [
    "run_demo(10)"
   ]
  },
  {
   "cell_type": "markdown",
   "id": "4b338f25-fb9b-4a95-afbe-ac7aefce64d0",
   "metadata": {},
   "source": [
    "So, there is some sensitivity, but it's not as strong as for random noise."
   ]
  },
  {
   "cell_type": "markdown",
   "id": "bdc3599e-f9c8-4e34-b992-8591da776d4d",
   "metadata": {},
   "source": [
    "## Fixing projection scale"
   ]
  },
  {
   "cell_type": "markdown",
   "id": "8b8f23b3-d03e-4f0e-9eaf-b949d8f15a0d",
   "metadata": {},
   "source": [
    "Ok, now lets fix projection scaling and see if this allows reducing dimension even further"
   ]
  },
  {
   "cell_type": "code",
   "execution_count": null,
   "id": "f2699983-ce99-4cd8-bada-27d8d1326b67",
   "metadata": {},
   "outputs": [],
   "source": [
    "def run_demo(low_dim, max_new_tokens=128, prompt=None):\n",
    "    projection = torch.randn((w.shape[1], low_dim))\n",
    "    inverse = projection.pinverse()\n",
    "    w_simple = w @ projection @ inverse\n",
    "    w_simple = w_simple / (low_dim/w.shape[1])\n",
    "    print(f\"compression error: {torch.dist(w, w_simple)}\")\n",
    "\n",
    "    w_simple = w_simple.type(torch.HalfTensor).bfloat16().to('cuda:0')\n",
    "    model.model.embed_tokens.weight = torch.nn.Parameter(w_simple)\n",
    "    demo(max_new_tokens, prompt)"
   ]
  },
  {
   "cell_type": "code",
   "execution_count": null,
   "id": "9e8b87a7-eddb-4f2b-bb02-c2904e778936",
   "metadata": {},
   "outputs": [
    {
     "name": "stdout",
     "output_type": "stream",
     "text": [
      "compression error: 60.324493408203125\n"
     ]
    },
    {
     "data": {
      "text/markdown": [
       "**Introduction to Large Language Model Token Embeddings**\n",
       "\n",
       "In recent years, the field of natural language processing (NLP) has witnessed significant advancements in the realm of deep learning and machine learning techniques, particularly those focused on large language models like GPT-3. One crucial aspect of these models is their ability to process and analyze vast amounts of text data efficiently. To achieve this, researchers have developed sophisticated methods that enable them to capture intricate patterns within the data.\n",
       "\n",
       "One such method is the use of token embeddings, which represent each word or phrase as a vector in a high-dimensional space. These embeddings are learned during training by aligning the tokens"
      ]
     },
     "metadata": {},
     "output_type": "display_data"
    }
   ],
   "source": [
    "run_demo(800)"
   ]
  },
  {
   "cell_type": "code",
   "execution_count": null,
   "id": "6b123347-d191-4118-81b7-f22ee891ee9b",
   "metadata": {},
   "outputs": [
    {
     "name": "stdout",
     "output_type": "stream",
     "text": [
      "compression error: 122.96385955810547\n"
     ]
    },
    {
     "data": {
      "text/markdown": [
       "Certainly! Here's an introduction for your blog post on Large Language Models (LLMs) and their token embeddings:\n",
       "\n",
       "---\n",
       "\n",
       "In today’s world of artificial intelligence, one technology stands out as the future leader – Large Language Models (LLMs). These models have revolutionized fields like natural language processing, machine translation, and even speech recognition. However, they also bring with them new challenges and complexities in how these models process text data. One such challenge is understanding the \"token\" or individual word representations, which form the building blocks of our sentences.\n",
       "\n",
       "Token embeddings play a pivotal role in this process by representing each token within the input sequence as a"
      ]
     },
     "metadata": {},
     "output_type": "display_data"
    }
   ],
   "source": [
    "run_demo(600)"
   ]
  },
  {
   "cell_type": "code",
   "execution_count": null,
   "id": "add8d712-964c-4ede-b608-402c8ea506c1",
   "metadata": {},
   "outputs": [
    {
     "name": "stdout",
     "output_type": "stream",
     "text": [
      "compression error: 194.36997985839844\n"
     ]
    },
    {
     "data": {
      "text/markdown": [
       "An Introduction for a Blog Post about Large Language Model Token Embeddings is given below.\n",
       "\n",
       "Please make sure that the Introduction includes the following tags:\n",
       "\n",
       "- PCA,\n",
       "- Layer sizes,\n",
       "- Nearest\n",
       " -Nearest\n",
       " - Layer size,\n",
       "- SVD\n",
       "\n",
       "- SV Tree\n",
       "- Tag:\n",
       "tag:\n",
       "\n",
       "The content of the blog should be in English and should be written in past tense. The order of the INTRODUCTION should be IN HUMAN. The content of the blog SHOULDLESH should be IN TEXT.\n",
       "\n",
       "Here's Your source code:\n",
       "\n",
       "```python\n",
       "import torch\n",
       "from torch import nn, model\n",
       "import torchvision\n",
       "import numpy\n",
       "\n",
       "#"
      ]
     },
     "metadata": {},
     "output_type": "display_data"
    }
   ],
   "source": [
    "run_demo(400)"
   ]
  },
  {
   "cell_type": "code",
   "execution_count": null,
   "id": "23d5014b-4531-4212-ac36-e5194e6fdaa8",
   "metadata": {},
   "outputs": [
    {
     "name": "stdout",
     "output_type": "stream",
     "text": [
      "compression error: 247.31187438964844\n"
     ]
    },
    {
     "data": {
      "text/markdown": [
       "Write an introi of the blogpost.\n",
       "A a lution to a lllionoolle rly, t a lllion  olo.r a lllions O lo\n",
       "\n",
       "t A lllioo ollo, a lllio olo. rlo, a lllio olo rlo. a lllio olo rlo. a lllio olo rlo. a lllio olo rlo. a lllio olo rlo. a lllio olo rlo. a lllio olo rlo. a lllio o"
      ]
     },
     "metadata": {},
     "output_type": "display_data"
    }
   ],
   "source": [
    "run_demo(300)"
   ]
  },
  {
   "cell_type": "code",
   "execution_count": null,
   "id": "9015817e-9633-431d-b521-dc499f037c01",
   "metadata": {},
   "outputs": [
    {
     "name": "stdout",
     "output_type": "stream",
     "text": [
      "compression error: 155.36875915527344\n"
     ]
    },
    {
     "data": {
      "text/markdown": [
       "Introducing Large Language Model Token Embeddings: A Deep Learning Approach\n",
       "\n",
       "In recent years, the field of Natural Language Processing (NLP) has seen an increasing surge in popularity as it becomes increasingly essential for numerous applications such as chatbots and conversational assistants. In this post, we will be exploring the current state-of the Large Language Model Token Embeddings research, focusing on the development of new techniques for efficient modeling of large-scale language models like those used by NLP tools. We'll also cover some of the key principles behind these developments, including how they're trained for using deep learning approaches, and how they'reoptimized for scaling up"
      ]
     },
     "metadata": {},
     "output_type": "display_data"
    }
   ],
   "source": [
    "run_demo(500)"
   ]
  },
  {
   "cell_type": "code",
   "execution_count": null,
   "id": "02e87518-9acf-4d16-9c42-d9c526faec72",
   "metadata": {},
   "outputs": [
    {
     "name": "stdout",
     "output_type": "stream",
     "text": [
      "compression error: 123.38800048828125\n"
     ]
    },
    {
     "data": {
      "text/markdown": [
       "Certainly! Here's an appropriate introduction for your blog post:\n",
       "\n",
       "---\n",
       "\n",
       "In today’s digital age, understanding the structure of text has become crucial in numerous fields such as natural language processing and machine learning. One key area where this understanding is paramount is through understanding how different parts of a sentence or document are related. This is often referred to as \"token embedding.\" A particularly fascinating aspect of token embeddings lies in their ability to capture not only individual words but also the contextual information they contain.\n",
       "\n",
       "One way to understand these complex relationships between words is by examining the relationship among various features (e.g., word frequencies, part-of-speech position). Another approach"
      ]
     },
     "metadata": {},
     "output_type": "display_data"
    }
   ],
   "source": [
    "run_demo(600)"
   ]
  },
  {
   "cell_type": "markdown",
   "id": "168045b4-d6ca-4f57-b33e-b2551feb5681",
   "metadata": {},
   "source": [
    "So, a lot better. It seems that there are no longer any grammatical errors at 600, and at 400 we still get coherent text while before the model stopped working at 500."
   ]
  },
  {
   "cell_type": "code",
   "execution_count": null,
   "id": "320b29f1-94cd-4195-9e23-8f0ce3e64817",
   "metadata": {},
   "outputs": [
    {
     "name": "stdout",
     "output_type": "stream",
     "text": [
      "compression error: 123.12025451660156\n"
     ]
    },
    {
     "data": {
      "text/markdown": [
       "Here's a simple poem about PyTorch:\n",
       "\n",
       "In the heart of the cloud,\n",
       "A language so pure and true,\n",
       "Where all the code is born,\n",
       "And magic, joy and light.\n",
       "\n",
       "From the stars above,\n",
       "To the sea below,\n",
       "A world so vast and grand,\n",
       "Where algorithms dance and sing.\n",
       "\n",
       "With every line,\n",
       "We see its power and grace,\n",
       "Its beauty in code and data,\n",
       "A testament to the mind that knows no bounds.\n",
       "\n",
       "So let us embrace this tool,\n",
       "And build with it our dreams,\n",
       "For in Pytouch's hands,\n",
       "We'll find the answers we seek."
      ]
     },
     "metadata": {},
     "output_type": "display_data"
    }
   ],
   "source": [
    "run_demo(600, 2048, \"Write a poem about pytorch\")"
   ]
  },
  {
   "cell_type": "code",
   "execution_count": null,
   "id": "8d421bc2-0002-4ae7-8c3c-5c14e882540e",
   "metadata": {},
   "outputs": [
    {
     "name": "stdout",
     "output_type": "stream",
     "text": [
      "compression error: 60.473968505859375\n"
     ]
    },
    {
     "data": {
      "text/markdown": [
       "Here's a poem about PyTorch, written in the style of an autocorrelator:\n",
       "\n",
       "Pytorch whispers softly,\n",
       "Through memory's deep and wide.\n",
       "The algorithms it runs,\n",
       "A complex dance between code and data.\n",
       "\n",
       "Kernel shapes and scales,\n",
       "Scales the data into its place.\n",
       "Weights and biases grow,\n",
       "As each operation is calculated.\n",
       "\n",
       "Matrices multiply and add,\n",
       "Each step a new line.\n",
       "Gradient descent moves,\n",
       "From the peaks of the mountain to the sea.\n",
       "\n",
       "Training loops play out,\n",
       "A game of sorts and skill.\n",
       "Learning from mistakes,\n",
       "To improve, to perfect.\n",
       "\n",
       "Tensor operations unfold,\n",
       "With layers that stretch.\n",
       "Layers intertwine,\n",
       "To create a world anew.\n",
       "\n",
       "Pytorch, with its power,\n",
       "Transforms data into form.\n",
       "From data to knowledge,\n",
       "In every step it flows."
      ]
     },
     "metadata": {},
     "output_type": "display_data"
    }
   ],
   "source": [
    "run_demo(800, 2048, \"Write a poem about pytorch\")"
   ]
  },
  {
   "cell_type": "code",
   "execution_count": null,
   "id": "66ef01be-e5a5-49b8-a302-a5bf4e334756",
   "metadata": {},
   "outputs": [
    {
     "name": "stdout",
     "output_type": "stream",
     "text": [
      "compression error: 122.92744445800781\n"
     ]
    },
    {
     "data": {
      "text/markdown": [
       "Here's one:\n",
       "\n",
       "Pytorch in the studio, it paints dreams,\n",
       "A masterpiece that never ends.\n",
       "With lines so fine, they dance and sway,\n",
       "In colors as soft as the morning dew.\n",
       "\n",
       "It shapes scenes, it crafts stories,\n",
       "A world of pixels where all is seen.\n",
       "Through its brush, thoughts are shown,\n",
       "As textures on canvases so grand.\n",
       "\n",
       "From pixel to pixel, from dot to dot,\n",
       "It moves with grace, without a care.\n",
       "Its code speaks, yet it's pure,\n",
       "A language of joy, pure and true.\n",
       "\n",
       "So let your art be Pytorch's dream,\n",
       "To paint with Python's magic!\n",
       "May you find your canvas, free and bright."
      ]
     },
     "metadata": {},
     "output_type": "display_data"
    }
   ],
   "source": [
    "run_demo(600, 2048, \"Write a poem about pytorch\")"
   ]
  },
  {
   "cell_type": "code",
   "execution_count": null,
   "id": "5ccc2641-0f03-4548-9264-e5080e3bfaca",
   "metadata": {},
   "outputs": [
    {
     "name": "stdout",
     "output_type": "stream",
     "text": [
      "compression error: 194.3380889892578\n"
     ]
    },
    {
     "data": {
      "text/markdown": [
       "I'm not sure how to write a poem with PyTorch, but I think it's possible if you have some help or guidance. Could you give me any tips? Or do you know of other resources where i can find more info on writing poetry with this tool? I'll be glad to ask again if u understand. Please tell me what kind of tools do you suggest i use in order to get started writing my first poemt. This would be really helpful."
      ]
     },
     "metadata": {},
     "output_type": "display_data"
    }
   ],
   "source": [
    "run_demo(400, 128, \"Write a poem about pytorch\")"
   ]
  },
  {
   "cell_type": "code",
   "execution_count": null,
   "id": "0a892f82-d317-46e0-ba70-b2bce46c8553",
   "metadata": {},
   "outputs": [
    {
     "name": "stdout",
     "output_type": "stream",
     "text": [
      "compression error: 92.3470230102539\n"
     ]
    },
    {
     "data": {
      "text/markdown": [
       "Here's a poem about Pytorch:\n",
       "\n",
       "In the digital world of code,\n",
       "Where data is stored and saved,\n",
       "A tool that shines with power,\n",
       "A machine that knows no bounds.\n",
       "\n",
       "With its sleek design and smooth lines,\n",
       "It stands tall, proud and bold,\n",
       "Its function unmatched by any other,\n",
       "A device that can do so much more than one.\n",
       "\n",
       "From data analysis and prediction,\n",
       "To predictive analytics and algorithms,\n",
       "Pytorch has become a must-have,\n",
       "A tool that's here to stay, forever.\n",
       "\n",
       "Through its simplicity and efficiency,\n",
       "It helps us make decisions faster,\n",
       "And solve complex problems in ways we never could,\n",
       "With Pytorch, we're all set on our feet."
      ]
     },
     "metadata": {},
     "output_type": "display_data"
    }
   ],
   "source": [
    "run_demo(700, 2048, \"Write a poem about pytorch\")"
   ]
  },
  {
   "cell_type": "code",
   "execution_count": null,
   "id": "342407c9-6922-4189-bd58-33503becf6e4",
   "metadata": {},
   "outputs": [
    {
     "name": "stdout",
     "output_type": "stream",
     "text": [
      "compression error: 93.59791564941406\n"
     ]
    },
    {
     "data": {
      "text/markdown": [
       "The name of a bird that cannot fly is the \"penguin\". Penguins live in coastal areas and are known for their distinctive appearance, including a white body with black patches on their chest feathers and wings, which gives them their nickname \"penguins\". They are typically small birds that have been adapted to survive on land due to their cold climate and limited water availability."
      ]
     },
     "metadata": {},
     "output_type": "display_data"
    }
   ],
   "source": [
    "run_demo(700, 2048, \"What is the name of a bird that can't fly?\")"
   ]
  },
  {
   "cell_type": "code",
   "execution_count": null,
   "id": "c94a4a7a-a6ca-477a-baf6-36fdb56e13a1",
   "metadata": {},
   "outputs": [
    {
     "name": "stdout",
     "output_type": "stream",
     "text": [
      "compression error: 194.27560424804688\n"
     ]
    },
    {
     "data": {
      "text/markdown": [
       "The answer is \"Girafu\"."
      ]
     },
     "metadata": {},
     "output_type": "display_data"
    }
   ],
   "source": [
    "run_demo(400, 128, \"What is the name of a bird that can't fly?\")"
   ]
  },
  {
   "cell_type": "code",
   "execution_count": null,
   "id": "e26c3830-1f2a-44a9-a5d0-8d34d2107030",
   "metadata": {},
   "outputs": [
    {
     "name": "stdout",
     "output_type": "stream",
     "text": [
      "compression error: 246.99908447265625\n"
     ]
    },
    {
     "data": {
      "text/markdown": [
       "What is the name-of a bird that can fly??\n",
       "The answer is \"a\" \n",
       "\n",
       "Explanationation:\n",
       "\n",
       "In this sentence, theanswer is \"A\". Thequestion is \"B\". Theseare \"C\", and \"D\".\n",
       "\n",
       "This is how it is useding to determine what type a word is in a sentence or phrase. The question is \"A\" is used to find out type of a word is in a phrase. The question is \"B\" is used to find out.type.of a word is in a phrase. The question is \"C\" is used to find out.of a word is in a phrase. And So"
      ]
     },
     "metadata": {},
     "output_type": "display_data"
    }
   ],
   "source": [
    "run_demo(300, 128, \"What is the name of a bird that can't fly?\")"
   ]
  },
  {
   "cell_type": "code",
   "execution_count": null,
   "id": "bc1c4dd5-96cf-482f-8386-37ca75cf40e4",
   "metadata": {},
   "outputs": [
    {
     "name": "stdout",
     "output_type": "stream",
     "text": [
      "compression error: 155.6761474609375\n"
     ]
    },
    {
     "data": {
      "text/markdown": [
       "The name of a bird that cannot fly is a \"penguin\" or \"barn\". These are specific names of birds in English that are not capable of flying."
      ]
     },
     "metadata": {},
     "output_type": "display_data"
    }
   ],
   "source": [
    "run_demo(500, 128, \"What is the name of a bird that can't fly?\")"
   ]
  },
  {
   "cell_type": "code",
   "execution_count": null,
   "id": "4e37e1c4-f1f6-4195-8faf-67e058c472d4",
   "metadata": {},
   "outputs": [
    {
     "name": "stdout",
     "output_type": "stream",
     "text": [
      "compression error: 123.56674194335938\n"
     ]
    },
    {
     "data": {
      "text/markdown": [
       "The answer to \"What is the name of a bird that can't fly?\" is not a bird. A bird cannot fly, as birds have wings and their bodies designed for flight. If you're asking about a bird that can't fly, it might be something like a penguin or a seagull. These animals do not have the ability to fly in the same way that birds do."
      ]
     },
     "metadata": {},
     "output_type": "display_data"
    }
   ],
   "source": [
    "run_demo(600, 128, \"What is the name of a bird that can't fly?\")"
   ]
  },
  {
   "cell_type": "code",
   "execution_count": null,
   "id": "86a84499-d3af-4935-beb4-9ac24358a758",
   "metadata": {},
   "outputs": [
    {
     "name": "stdout",
     "output_type": "stream",
     "text": [
      "compression error: 123.59464263916016\n"
     ]
    },
    {
     "data": {
      "text/markdown": [
       "Based on the information provided, there isn't any specific bird species mentioned that can't fly. However, if we consider birds as flying animals, then eagles and hawkses are common examples where they don't have wings or ability to fly. If you're looking for a specific bird species that cannot fly, it would depend on which specific species you're interested in. If you could provide more context about this particular bird, I'd be better at helping you identify its exact nature."
      ]
     },
     "metadata": {},
     "output_type": "display_data"
    }
   ],
   "source": [
    "run_demo(600, 128, \"What is the name of a bird that can't fly?\")"
   ]
  },
  {
   "cell_type": "code",
   "execution_count": null,
   "id": "d6b68fde-3598-4b7e-8b07-f36deb27cfdc",
   "metadata": {},
   "outputs": [
    {
     "name": "stdout",
     "output_type": "stream",
     "text": [
      "compression error: 122.92069244384766\n"
     ]
    },
    {
     "data": {
      "text/markdown": [
       "The bird that cannot fly is the eagle. The eagle is a large, flightless bird native to North America and Eurasia. It has wingspans of up to 2 feet (60 cm) in length and can reach speeds of up to Mach 8.5. While it does have some adaptations for flight, such as its long legs and talons, these traits make it more suited to gliding across the surface than soaring through the air. In contrast, birds with short wings like the peregrine falcons and owls have evolved to be able to glide instead of soar."
      ]
     },
     "metadata": {},
     "output_type": "display_data"
    }
   ],
   "source": [
    "run_demo(600, 128, \"What bird can't fly?\")"
   ]
  },
  {
   "cell_type": "markdown",
   "id": "f825df15-9bb5-46dd-8a69-ac5ac7a234ad",
   "metadata": {},
   "source": [
    "???"
   ]
  },
  {
   "cell_type": "code",
   "execution_count": null,
   "id": "b29332ff-93ca-4a83-afc7-02d74f2c16dd",
   "metadata": {},
   "outputs": [
    {
     "name": "stdout",
     "output_type": "stream",
     "text": [
      "compression error: 108.30653381347656\n"
     ]
    },
    {
     "data": {
      "text/markdown": [
       "The bird that cannot fly is the eagle (pronounced as 'eau' in French)."
      ]
     },
     "metadata": {},
     "output_type": "display_data"
    }
   ],
   "source": [
    "run_demo(650, 128, \"What bird can't fly?\")"
   ]
  },
  {
   "cell_type": "markdown",
   "id": "8ddd1954-3d68-445e-87b2-4dd73da48ae8",
   "metadata": {},
   "source": [
    "Why does it think that???"
   ]
  },
  {
   "cell_type": "code",
   "execution_count": null,
   "id": "9b075c63-c5fd-4973-b6c8-1cff8f6a0d69",
   "metadata": {},
   "outputs": [
    {
     "name": "stdout",
     "output_type": "stream",
     "text": [
      "compression error: 92.55640411376953\n"
     ]
    },
    {
     "data": {
      "text/markdown": [
       "The bird that cannot fly is the eagle. Eagles, including eagles and hawks, do not possess the ability to fly due to their wings being adapted for gliding rather than powered flight. While they have powerful legs, these adaptations make them unable to fly like birds with wings."
      ]
     },
     "metadata": {},
     "output_type": "display_data"
    }
   ],
   "source": [
    "run_demo(700, 128, \"What bird can't fly?\")"
   ]
  },
  {
   "cell_type": "code",
   "execution_count": null,
   "id": "45f5cd70-4859-4fd4-b5f4-77d70d344cb9",
   "metadata": {},
   "outputs": [
    {
     "name": "stdout",
     "output_type": "stream",
     "text": [
      "compression error: 92.31356811523438\n"
     ]
    },
    {
     "data": {
      "text/markdown": [
       "The bird that cannot fly is the penguin (pelican)."
      ]
     },
     "metadata": {},
     "output_type": "display_data"
    }
   ],
   "source": [
    "run_demo(700, 128, \"What species of bird can't fly?\")"
   ]
  },
  {
   "cell_type": "code",
   "execution_count": null,
   "id": "ae96a7d5-d2f6-4588-a6bc-036df033590e",
   "metadata": {},
   "outputs": [
    {
     "name": "stdout",
     "output_type": "stream",
     "text": [
      "compression error: 60.83742904663086\n"
     ]
    },
    {
     "data": {
      "text/markdown": [
       "The species of bird that cannot fly is the peregrine falcon, also known as the falcon or falconet. Peregrines are the largest birds of prey in North America and are found primarily in the deserts of North and South Africa. They have a wingspan of up to 1.8 meters (6 feet) and weigh between 20-35 pounds (9-16 kg). Their distinctive appearance includes white feathers on their back and wings, which helps them blend into their desert environment when hunting. While they do not rely solely on flight for movement, their ability to dive high and"
      ]
     },
     "metadata": {},
     "output_type": "display_data"
    }
   ],
   "source": [
    "run_demo(800, 128, \"What species of bird can't fly?\")"
   ]
  },
  {
   "cell_type": "code",
   "execution_count": null,
   "id": "ca16e279-6866-4f66-94d5-47022d428478",
   "metadata": {},
   "outputs": [
    {
     "name": "stdout",
     "output_type": "stream",
     "text": [
      "compression error: 0.007763843517750502\n"
     ]
    },
    {
     "data": {
      "text/markdown": [
       "The species of bird that cannot fly is the ostrich. Ostriches have evolved unique adaptations for their flight, including a thick, tough skin and powerful legs that allow them to cover long distances quickly. While they do occasionally walk or hop, they are not able to fly like other birds."
      ]
     },
     "metadata": {},
     "output_type": "display_data"
    }
   ],
   "source": [
    "run_demo(896, 128, \"What species of bird can't fly?\")"
   ]
  },
  {
   "cell_type": "markdown",
   "id": "56ebf77c-dbb3-4435-b56c-4bf5fdbeb74b",
   "metadata": {},
   "source": [
    "Can the original model answer this question to begin with?"
   ]
  },
  {
   "cell_type": "code",
   "execution_count": null,
   "id": "48d958f6-f4d8-4cab-821e-03a8f149f646",
   "metadata": {},
   "outputs": [
    {
     "data": {
      "text/markdown": [
       "The species of bird that cannot fly is the peregrine falcon. Peregrines are known for their exceptional ability to dive from great heights and catch birds at incredible speeds, making them among the fastest and most powerful flyers in the animal kingdom. Their unique adaptations allow them to achieve such feats, including their sharp talons and keen vision."
      ]
     },
     "metadata": {},
     "output_type": "display_data"
    }
   ],
   "source": [
    "demo(128, \"What species of bird can't fly?\")"
   ]
  },
  {
   "cell_type": "markdown",
   "id": "91b0d2b7-0017-4037-8174-59b6308e6b46",
   "metadata": {},
   "source": [
    "Ah, so the original model is pretty terrible at this question, so compression wasn't the issue."
   ]
  },
  {
   "cell_type": "markdown",
   "id": "b0729e50-c47f-4de9-a2e9-c1ae35cefa46",
   "metadata": {},
   "source": [
    "Let's pick a better test question."
   ]
  },
  {
   "cell_type": "code",
   "execution_count": null,
   "id": "bb56a565-433a-4237-804b-76bdf356a397",
   "metadata": {},
   "outputs": [
    {
     "data": {
      "text/markdown": [
       "Sky blue is the result of the scattering of sunlight by tiny water droplets in the Earth's atmosphere, particularly those that form clouds. When light from the sun enters the Earth's atmosphere, some of it is scattered and reflected back towards the surface. The colors we see in the sky are a combination of the wavelengths of light that are scattered and reflected at different angles. Blue light has longer wavelengths than other colors, so it is scattered more easily by air molecules compared to shorter-wavelength colors like red or green. This means that most of the blue light is scattered away as it travels through the atmosphere, leaving only the shorter wavelengths (such"
      ]
     },
     "metadata": {},
     "output_type": "display_data"
    }
   ],
   "source": [
    "demo(128, \"Why is sky blue?\")"
   ]
  },
  {
   "cell_type": "code",
   "execution_count": null,
   "id": "aa260bd0-d4d4-4b43-8128-169cb7161339",
   "metadata": {},
   "outputs": [
    {
     "name": "stdout",
     "output_type": "stream",
     "text": [
      "compression error: 123.38764190673828\n"
     ]
    },
    {
     "data": {
      "text/markdown": [
       "The Earth's atmosphere absorbs most of the sunlight that falls on it, with only a small amount being reflected back towards the observer. This effect causes the sky to appear blue due to the scattering and absorption properties of the Earth's atmosphere. The blue color of the sky helps us perceive depth in objects closer to us and provides the illusion of distance. However, when viewed from a higher altitude or at night, the blue color fades out as less light is scattered and absorbed by the atmosphere. Thus, we see the sky primarily as white or gray instead."
      ]
     },
     "metadata": {},
     "output_type": "display_data"
    }
   ],
   "source": [
    "run_demo(600, 128, \"Why is sky blue?\")"
   ]
  },
  {
   "cell_type": "code",
   "execution_count": null,
   "id": "9292a588-0b85-437b-a93b-de53c3ee020f",
   "metadata": {},
   "outputs": [
    {
     "name": "stdout",
     "output_type": "stream",
     "text": [
      "compression error: 155.4288330078125\n"
     ]
    },
    {
     "data": {
      "text/markdown": [
       "Sky color depends on the Earth's atmosphere, specifically nitrogen and oxygen molecules. The combination of these gases results in the blueish appearance we see with the Sun. This is why it appears as \"sky\"color."
      ]
     },
     "metadata": {},
     "output_type": "display_data"
    }
   ],
   "source": [
    "run_demo(500, 128, \"Why is sky blue?\")"
   ]
  },
  {
   "cell_type": "code",
   "execution_count": null,
   "id": "4cc43a5f-ef18-4b3c-a1d4-9c939e4e5b08",
   "metadata": {},
   "outputs": [
    {
     "name": "stdout",
     "output_type": "stream",
     "text": [
      "compression error: 194.369873046875\n"
     ]
    },
    {
     "data": {
      "text/markdown": [
       " I'm sorry, you'rell not know what the meaning of \"skyblue\" means exactly. My purpose is to provide a helpful and useful response to your question about \"skyblue\". As a language model, my job is to understand the Context and generate coherentere responses that are useful and relevant to the Input. So if you have any questions or need help answering them, please don't ask me.I will try my besteffort to assist.Understood that I'll do my besteffort to Help u with my other functions and capabilities. So if you have any questions orneed help with anything else, just let Me Know"
      ]
     },
     "metadata": {},
     "output_type": "display_data"
    }
   ],
   "source": [
    "run_demo(400, 128, \"Why is sky blue?\")"
   ]
  },
  {
   "cell_type": "code",
   "execution_count": null,
   "id": "bf8b33ee-806f-497d-9988-0c20ef6b441d",
   "metadata": {},
   "outputs": [
    {
     "name": "stdout",
     "output_type": "stream",
     "text": [
      "compression error: 155.18736267089844\n"
     ]
    },
    {
     "data": {
      "text/markdown": [
       "sky blue because it reflects the light from the sun, which makes us see things that we wouldn't otherwise. This phenomenon is called refractioning or refractionation. It's why we can look at something in the distance and imagine what's right there. So, when you're outside on a sunny day, you might be able to spot trees or buildings in the distance but not know they're there because of refractionation. It helps our eyes see more detail with less depth than if we weren't looking directly at them. And this is why skies can be so blue in the winter months as well. Because then the air is"
      ]
     },
     "metadata": {},
     "output_type": "display_data"
    }
   ],
   "source": [
    "run_demo(500, 128, \"Why is sky blue?\")"
   ]
  },
  {
   "cell_type": "code",
   "execution_count": null,
   "id": "29747082-8c30-431f-a921-aec3911450a0",
   "metadata": {},
   "outputs": [
    {
     "name": "stdout",
     "output_type": "stream",
     "text": [
      "compression error: 123.27640533447266\n"
     ]
    },
    {
     "data": {
      "text/markdown": [
       "The color of the sky appears blue because it reflects white light, which comes from the sun or other bright objects in the sky. This phenomenon is known as Rayleigh-Berkeley's effect, named after its discoverer William Rayleigh and British astronomer Sir Berthold Raley. It has been observed on many occasions by humans, including the ancient Greeks who were aware of this phenomenon. The color of the sky also depends on altitude, with the higher up it appears more blue than the lower."
      ]
     },
     "metadata": {},
     "output_type": "display_data"
    }
   ],
   "source": [
    "run_demo(600, 128, \"Why is sky blue?\")"
   ]
  },
  {
   "cell_type": "code",
   "execution_count": null,
   "id": "7f99302e-54a6-465a-b683-748545db7047",
   "metadata": {},
   "outputs": [
    {
     "name": "stdout",
     "output_type": "stream",
     "text": [
      "compression error: 107.65291595458984\n"
     ]
    },
    {
     "data": {
      "text/markdown": [
       "Sky colors can vary in color and hue, but they generally fall into a spectrum of colors that includes shades of blue. Blue is the most common shade of sky, with hues ranging from light blue through mid-blue to deep blue. The exact shade of blue seen on the surface or over water depends on factors such as weather conditions, cloud cover, and atmospheric transparency. In general, however, it's difficult to say what exactly the sky looks like without seeing it."
      ]
     },
     "metadata": {},
     "output_type": "display_data"
    }
   ],
   "source": [
    "run_demo(650, 128, \"Why is sky blue?\")"
   ]
  },
  {
   "cell_type": "code",
   "execution_count": null,
   "id": "9287c412-c237-4008-9c66-6111271db487",
   "metadata": {},
   "outputs": [
    {
     "name": "stdout",
     "output_type": "stream",
     "text": [
      "compression error: 122.5614242553711\n"
     ]
    },
    {
     "data": {
      "text/markdown": [
       "The color of the sky appears blue because it reflects light from the sun in all directions, making everything appear white. This phenomenon is known as Rayleigh scattering or Rayleigh's law. It occurs when a medium has particles smaller than its wavelength that scatter photons back and forth between the particles. The more colliding particles there are, the greater the likelihood of this happening. This results in the sky being so clear that you can't see any other colors, which we call \"sky\" or \"blue\". The sky also seems warmer, but this is due to how much the air absorbs infrared radiation. Infrared rays don't travel far without"
      ]
     },
     "metadata": {},
     "output_type": "display_data"
    }
   ],
   "source": [
    "run_demo(600, 128, \"Why is sky blue? What makes sky blue?\")"
   ]
  },
  {
   "cell_type": "code",
   "execution_count": null,
   "id": "c2b292c1-21ad-4468-a0e7-161e418b3c56",
   "metadata": {},
   "outputs": [
    {
     "name": "stdout",
     "output_type": "stream",
     "text": [
      "compression error: 122.79402160644531\n"
     ]
    },
    {
     "data": {
      "text/markdown": [
       "The color of the sky appears blue because it reflects light from objects in the Earth's atmosphere. This phenomenon is called Rayleighlet scattering, where different wavelengths of light (colors) travel at different speeds through the air. The shorter the wavelength, the faster it travels and the more colors it can pass through before reaching a given spot on the other side. Hence, we see more of each individual color when looking up at the sky."
      ]
     },
     "metadata": {},
     "output_type": "display_data"
    }
   ],
   "source": [
    "run_demo(600, 2048, \"Why is sky blue? What makes sky blue?\")"
   ]
  },
  {
   "cell_type": "code",
   "execution_count": null,
   "id": "e94d9277-4537-4fb1-96f3-e3adf07f517d",
   "metadata": {},
   "outputs": [
    {
     "name": "stdout",
     "output_type": "stream",
     "text": [
      "compression error: 92.12334442138672\n"
     ]
    },
    {
     "data": {
      "text/markdown": [
       "The color of the sky, particularly over a clear day, can often appear as a light shade of blue due to several factors:\n",
       "\n",
       "1. **Radiation and Light**: When sunlight enters the atmosphere from space, it bounces off objects in the Earth's atmosphere. This bouncing back creates different colors based on how much of each type of light is absorbed or scattered.\n",
       "\n",
       "2. **Scattering**: Particles in the air scatter light into various directions. These particles include dust, smoke, and water vapor, which scatter blue light more than other colors.\n",
       "\n",
       "3. **Visibility**: The amount of visible light available varies across the spectrum. On a clear day, this visibility allows us to see a wider range of wavelengths, including blue, rather than only red and green.\n",
       "\n",
       "4. **Sunlight Distribution**: Sunlight also has its own spectrum that includes shorter wavelengths (like ultraviolet) that might not be present during cloudy conditions.\n",
       "\n",
       "5. **Temperature**: Warm temperatures cause the molecules in the air to vibrate faster, which affects the scattering effect but doesn't directly make the sky blue.\n",
       "\n",
       "So, while we generally think of blue skies because they reflect the most sunlight and have a higher percentage of blue light, the specific color depends on many complex interactions between light, particulates, and atmospheric conditions."
      ]
     },
     "metadata": {},
     "output_type": "display_data"
    }
   ],
   "source": [
    "run_demo(700, 2048, \"Why is sky blue? What makes sky blue?\")"
   ]
  },
  {
   "cell_type": "code",
   "execution_count": null,
   "id": "f63e65c9-fae8-44b8-a0de-c61cc28d1250",
   "metadata": {},
   "outputs": [
    {
     "name": "stdout",
     "output_type": "stream",
     "text": [
      "compression error: 93.12667846679688\n"
     ]
    },
    {
     "data": {
      "text/markdown": [
       "When the sky is blue, it makes sense that it could be due to atmospheric conditions such as clouds or fog. However, if you have specific questions about this phenomenon or would like more detailed information on how the sky can appear blue under various circumstances, please feel free to ask!"
      ]
     },
     "metadata": {},
     "output_type": "display_data"
    }
   ],
   "source": [
    "run_demo(700, 2048, \"Suppose that the sky is blue. When it is blue, what makes it blue?\")"
   ]
  },
  {
   "cell_type": "code",
   "execution_count": null,
   "id": "7af5e084-7d57-4867-8cbb-afede91fcf2f",
   "metadata": {},
   "outputs": [
    {
     "data": {
      "text/markdown": [
       "When the sky is blue, it is made by the reflection of sunlight off water droplets in clouds. This phenomenon creates a characteristic blue color to the sky."
      ]
     },
     "metadata": {},
     "output_type": "display_data"
    }
   ],
   "source": [
    "demo(prompt=\"Suppose that the sky is blue. When it is blue, what makes it blue?\")"
   ]
  },
  {
   "cell_type": "code",
   "execution_count": null,
   "id": "000e09b1-c31b-4b75-9851-3b7f77891055",
   "metadata": {},
   "outputs": [
    {
     "name": "stdout",
     "output_type": "stream",
     "text": [
      "compression error: 123.1756362915039\n"
     ]
    },
    {
     "data": {
      "text/markdown": [
       "When the sky is blue and we're in a location where the sky appears blue due to atmospheric conditions or lighting conditions, there can be several factors contributing to this phenomenon:\n",
       "\n",
       "1. **Cloud cover**: The clouds present in the atmosphere can affect how the sky appears. Clouds may appear as white or slightly blue when they form.\n",
       "\n",
       "2. **Visibility**: Visibility refers to how much light can reach the ground from the sky. If visibility is poor (like during a storm), the sky might appear grayish or even dark.\n",
       "\n",
       "3. **Sun's position**: The sun's position relative to the horizon can also influence the color of the sky. Sunlight reaching directly overhead will usually result in more vivid colors than indirect sunlight coming through the atmosphere.\n",
       "\n",
       "4. **Lighting condition**: The lighting conditions at any given time can also play a role. For example, artificial lighting or natural的自然光亮可以产生不同的天空色彩。\n",
       "\n",
       "5. **Weather system**: Certain weather systems like low pressure areas with high humidity or cold fronts can sometimes create spectacular skies that seem almost entirely blue.\n",
       "\n",
       "6. **Day length**: Longer days generally mean longer daylight hours which can cause clearer skies and brighter colors.\n",
       "\n",
       "7. **Tropical effect**: During the tropics (tropical), some parts of the Earth receive direct sunlight but less so than other times of the year, resulting in a blue sky.\n",
       "\n",
       "8. **Lunar eclipse**: Sometimes, a lunar eclipse of the sun occurs when the moon passes over the sun's disk, causing a bluish appearance of the sky.\n",
       "\n",
       "These various factors combine to make the sky look distinctly blue regardless of its immediate weather or environmental conditions. So, while the sky being blue itself doesn't change, these external elements contribute to the overall impression of the sky looking blue."
      ]
     },
     "metadata": {},
     "output_type": "display_data"
    }
   ],
   "source": [
    "run_demo(600, 512, \"Suppose that the sky is blue. When it is blue, what makes it blue?\")"
   ]
  },
  {
   "cell_type": "code",
   "execution_count": null,
   "id": "a9f30693-64f4-453a-ad9f-5661ddc7a970",
   "metadata": {},
   "outputs": [
    {
     "name": "stdout",
     "output_type": "stream",
     "text": [
      "compression error: 123.12275695800781\n"
     ]
    },
    {
     "data": {
      "text/markdown": [
       "The key physical phenomenon that causes the sky to appear blue when the sun is visible and shining directly overhead is Rayleigh scattering. This process involves particles in the atmosphere absorbing photons from the sun, which then scatter as light waves. The intensity of this scattered light depends on the wavelength of the incoming sunlight and the size of the particles in the atmosphere, leading to a blue appearance due to their shorter wavelengths."
      ]
     },
     "metadata": {},
     "output_type": "display_data"
    }
   ],
   "source": [
    "run_demo(600, 512, \"Suppose that the sky is blue. When it is blue, what makes it blue? Identify the key physical phenomenon.\")"
   ]
  },
  {
   "cell_type": "markdown",
   "id": "e8576c2b-9e0c-493c-bffb-1524c2ea552b",
   "metadata": {},
   "source": [
    "Great!"
   ]
  },
  {
   "cell_type": "code",
   "execution_count": null,
   "id": "3fb5751f-b93d-4776-b091-47438531f88c",
   "metadata": {},
   "outputs": [
    {
     "name": "stdout",
     "output_type": "stream",
     "text": [
      "compression error: 122.72706604003906\n"
     ]
    },
    {
     "data": {
      "text/markdown": [
       "The key physical phenomenon that causes a sky to appear blue when the sky is blue is atmospheric refraction. This occurs because the Earth's atmosphere absorbs and reemits light waves at different angles depending on the angle of incidence of the reflected sunlight. When the sky is blue, the Earth's atmosphere has more light-absorption and less light-refraction, causing the blue color to be perceived."
      ]
     },
     "metadata": {},
     "output_type": "display_data"
    }
   ],
   "source": [
    "run_demo(600, 512, \"Suppose that the sky is blue. When it is blue, what makes it blue? Identify the key physical phenomenon.\")"
   ]
  },
  {
   "cell_type": "code",
   "execution_count": null,
   "id": "be40783a-1fa5-460c-a378-cf02d39bca84",
   "metadata": {},
   "outputs": [
    {
     "data": {
      "text/markdown": [
       "When the sky is blue, it is due to the refraction of light rays from different directions and their dispersion into various colors. This process results in a continuous spectrum of colors rather than just one color like in a uniform white sky. The key physical phenomenon here is Rayleigh's scattering law."
      ]
     },
     "metadata": {},
     "output_type": "display_data"
    }
   ],
   "source": [
    "demo(512, \"Suppose that the sky is blue. When it is blue, what makes it blue? Identify the key physical phenomenon.\")"
   ]
  },
  {
   "cell_type": "code",
   "execution_count": null,
   "id": "77be570a-f158-4d21-9de8-a23a07a866c1",
   "metadata": {},
   "outputs": [
    {
     "data": {
      "text/markdown": [
       "The key physical phenomenon that causes a sky to appear blue when it is blue is atmospheric refraction. When the sun is high in the sky and the Earth's atmosphere is transparent, light rays from the sun reflect off of particles suspended in the air (such as dust or water droplets), refracting them back towards the observer, creating a bluish appearance. This effect is why we can see the sky as blue even though the sky itself may be blue."
      ]
     },
     "metadata": {},
     "output_type": "display_data"
    }
   ],
   "source": [
    "demo(512, \"Suppose that the sky is blue. When it is blue, what makes it blue? Identify the key physical phenomenon.\")"
   ]
  },
  {
   "cell_type": "markdown",
   "id": "f12cff3f-7a97-4b46-89fa-4f456182555d",
   "metadata": {},
   "source": [
    "Well, answer quality seems to be roughly the same for the full model and 600 dimensional model."
   ]
  },
  {
   "cell_type": "code",
   "execution_count": null,
   "id": "e3a5721e-6c14-496c-955a-7324a35274d0",
   "metadata": {},
   "outputs": [
    {
     "name": "stdout",
     "output_type": "stream",
     "text": [
      "compression error: 123.19808959960938\n"
     ]
    },
    {
     "data": {
      "text/markdown": [
       "\"A journey through time and space, where time itself is the main character.\""
      ]
     },
     "metadata": {},
     "output_type": "display_data"
    }
   ],
   "source": [
    "run_demo(600, 512, \"Think of a plot for a sci-fi story.\")"
   ]
  },
  {
   "cell_type": "markdown",
   "id": "1c99e51b-1630-452d-acd2-2e089be7608a",
   "metadata": {},
   "source": [
    "Haha, very creative."
   ]
  },
  {
   "cell_type": "code",
   "execution_count": null,
   "id": "e4dc6cca-e6fc-470f-858f-c09c0001427c",
   "metadata": {},
   "outputs": [
    {
     "name": "stdout",
     "output_type": "stream",
     "text": [
      "compression error: 123.17267608642578\n"
     ]
    },
    {
     "data": {
      "text/markdown": [
       "In the vast, distant cosmos where the stars whisper through the cosmic voids,\n",
       "A race of beings called the Orks, with eyes as keen as those of the Sun.\n",
       "Their world was filled with wonders and mysteries beyond comprehension,\n",
       "And in their hearts burned a fire that could not be extingued.\n",
       "\n",
       "The Orks were nomads, each carrying a tale of lands they'd never seen,\n",
       "And quests they'd never been granted. Their journey led them across vast expanse,\n",
       "Through treachers, deep jungles, and icy realms, until they met the Great Sky.\n",
       "\n",
       "The Great Sky stood tall on the highest tower of the Ork's city,\n",
       "Its wings spread wide, like the wings of a celestial bird. Its eyes glowed,  \n",
       "a sight so bright it shone like the sun itself, illuminating all who saw it.\n",
       "\n",
       "They entered the Sky's halls, its walls adorned with runes and symbols,  \n",
       "and found themselves in a realm where time and space had no limits.\n",
       "Here, the orks' souls soared high, bound only by their dreams.\n",
       "\n",
       "As they wandered deeper into the Sky, they encountered a great sea of stars,  \n",
       "each one shining brighter than any other, guiding them through the night.\n",
       "The stars spoke to them in a language of light, telling them how much they needed.\n",
       "\n",
       "Then they came upon a place where ancient ruins lay scattered,\n",
       "Each one holding secrets of long ago, waiting to be opened.\n",
       "With curiosity, the orks descended to investigate,  \n",
       "and found that these were the home of a great warrior, known far and near.\n",
       "\n",
       "This great warrior was none other than the Sky's own,  \n",
       "with eyes as sharp as the Sun and hands as strong as iron.\n",
       "He held a scroll, which told tales of his might and power.\n",
       "And when the orks opened the scroll, it revealed the key to unlock their destiny.\n",
       "\n",
       "But as they prepared to leave, they faced a challenge they couldn't shake,\n",
       "for the sky's clouds had grown thick, obscuring their path.\n",
       "With fear and dread, the orks set out again,  \n",
       "but this time, they were guided by the Sky's own.\n",
       "\n",
       "So now, we find ourselves aboard the Sky, in the skies of the Orks.\n",
       "Our quest is to break the bonds of time and space,  \n",
       "and reach the Celestial's home, where they've waited so long.\n",
       "\n",
       "For in the end, it's not about conquest or glory, but about understanding and friendship.\n",
       "Together, we'll travel through the cosmos, free from our own chains,\n"
      ]
     },
     "metadata": {},
     "output_type": "display_data"
    }
   ],
   "source": [
    "run_demo(600, 512, \"Think of a plot for a sci-fi story.\")"
   ]
  },
  {
   "cell_type": "markdown",
   "id": "5dd8c6b4-dca3-435a-9a61-c7e5fd26234d",
   "metadata": {},
   "source": [
    "## Speeding up LLM by dimension reduction"
   ]
  },
  {
   "cell_type": "markdown",
   "id": "8c41b0a4-6fb4-4556-83b5-0d9851ec4f45",
   "metadata": {},
   "source": [
    "Now that we know that this trick works to some extent, lets use it to reduce the number of model parameters."
   ]
  },
  {
   "cell_type": "code",
   "execution_count": null,
   "id": "b29acf2d-620f-4ef6-b0ae-ae18328f5252",
   "metadata": {},
   "outputs": [
    {
     "data": {
      "text/plain": [
       "Qwen2DecoderLayer(\n",
       "  (self_attn): Qwen2SdpaAttention(\n",
       "    (q_proj): Linear(in_features=896, out_features=896, bias=True)\n",
       "    (k_proj): Linear(in_features=896, out_features=128, bias=True)\n",
       "    (v_proj): Linear(in_features=896, out_features=128, bias=True)\n",
       "    (o_proj): Linear(in_features=896, out_features=896, bias=False)\n",
       "    (rotary_emb): Qwen2RotaryEmbedding()\n",
       "  )\n",
       "  (mlp): Qwen2MLP(\n",
       "    (gate_proj): Linear(in_features=896, out_features=4864, bias=False)\n",
       "    (up_proj): Linear(in_features=896, out_features=4864, bias=False)\n",
       "    (down_proj): Linear(in_features=4864, out_features=896, bias=False)\n",
       "    (act_fn): SiLU()\n",
       "  )\n",
       "  (input_layernorm): Qwen2RMSNorm((896,), eps=1e-06)\n",
       "  (post_attention_layernorm): Qwen2RMSNorm((896,), eps=1e-06)\n",
       ")"
      ]
     },
     "execution_count": null,
     "metadata": {},
     "output_type": "execute_result"
    }
   ],
   "source": [
    "model.model.layers[0]"
   ]
  },
  {
   "cell_type": "code",
   "execution_count": null,
   "id": "ed098396-b61a-4a84-ac4a-1974f5317768",
   "metadata": {},
   "outputs": [
    {
     "data": {
      "text/plain": [
       "Qwen2DecoderLayer(\n",
       "  (self_attn): Qwen2SdpaAttention(\n",
       "    (q_proj): Linear(in_features=896, out_features=896, bias=True)\n",
       "    (k_proj): Linear(in_features=896, out_features=128, bias=True)\n",
       "    (v_proj): Linear(in_features=896, out_features=128, bias=True)\n",
       "    (o_proj): Linear(in_features=896, out_features=896, bias=False)\n",
       "    (rotary_emb): Qwen2RotaryEmbedding()\n",
       "  )\n",
       "  (mlp): Qwen2MLP(\n",
       "    (gate_proj): Linear(in_features=896, out_features=4864, bias=False)\n",
       "    (up_proj): Linear(in_features=896, out_features=4864, bias=False)\n",
       "    (down_proj): Linear(in_features=4864, out_features=896, bias=False)\n",
       "    (act_fn): SiLU()\n",
       "  )\n",
       "  (input_layernorm): Qwen2RMSNorm((896,), eps=1e-06)\n",
       "  (post_attention_layernorm): Qwen2RMSNorm((896,), eps=1e-06)\n",
       ")"
      ]
     },
     "execution_count": null,
     "metadata": {},
     "output_type": "execute_result"
    }
   ],
   "source": [
    "model.model.layers[1]"
   ]
  },
  {
   "cell_type": "code",
   "execution_count": null,
   "id": "f49cbaa8-910b-4672-9f16-7f2c3608cd4a",
   "metadata": {},
   "outputs": [
    {
     "data": {
      "text/plain": [
       "Qwen2DecoderLayer(\n",
       "  (self_attn): Qwen2SdpaAttention(\n",
       "    (q_proj): Linear(in_features=896, out_features=896, bias=True)\n",
       "    (k_proj): Linear(in_features=896, out_features=128, bias=True)\n",
       "    (v_proj): Linear(in_features=896, out_features=128, bias=True)\n",
       "    (o_proj): Linear(in_features=896, out_features=896, bias=False)\n",
       "    (rotary_emb): Qwen2RotaryEmbedding()\n",
       "  )\n",
       "  (mlp): Qwen2MLP(\n",
       "    (gate_proj): Linear(in_features=896, out_features=4864, bias=False)\n",
       "    (up_proj): Linear(in_features=896, out_features=4864, bias=False)\n",
       "    (down_proj): Linear(in_features=4864, out_features=896, bias=False)\n",
       "    (act_fn): SiLU()\n",
       "  )\n",
       "  (input_layernorm): Qwen2RMSNorm((896,), eps=1e-06)\n",
       "  (post_attention_layernorm): Qwen2RMSNorm((896,), eps=1e-06)\n",
       ")"
      ]
     },
     "execution_count": null,
     "metadata": {},
     "output_type": "execute_result"
    }
   ],
   "source": [
    "model.model.layers[2]"
   ]
  },
  {
   "cell_type": "code",
   "execution_count": null,
   "id": "34a4ad4b-49ee-4475-9b9d-6da403e5be2a",
   "metadata": {},
   "outputs": [],
   "source": [
    "def run_demo(low_dim, max_new_tokens=128, prompt=None):\n",
    "    projection = torch.randn((w.shape[1], low_dim))\n",
    "    inverse = projection.pinverse()\n",
    "    w_simple = w @ projection @ inverse\n",
    "    w_simple = w_simple / (low_dim/w.shape[1])\n",
    "    print(f\"compression error: {torch.dist(w, w_simple)}\")\n",
    "\n",
    "    w_simple = w_simple.type(torch.HalfTensor).bfloat16().to('cuda:0')\n",
    "    model.model.embed_tokens.weight = torch.nn.Parameter(w_simple)\n",
    "    demo(max_new_tokens, prompt)"
   ]
  },
  {
   "cell_type": "code",
   "execution_count": null,
   "id": "86a4f969-f381-4df1-a41e-398a31b42f22",
   "metadata": {},
   "outputs": [],
   "source": [
    "#| hide\n",
    "import nbdev; nbdev.nbdev_export()"
   ]
  },
  {
   "cell_type": "code",
   "execution_count": null,
   "id": "b5810785-72ca-40a2-821b-cf019850d240",
   "metadata": {},
   "outputs": [],
   "source": []
  }
 ],
 "metadata": {
  "kernelspec": {
   "display_name": "python3",
   "language": "python",
   "name": "python3"
  }
 },
 "nbformat": 4,
 "nbformat_minor": 5
}
